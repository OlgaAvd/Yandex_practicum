{
 "cells": [
  {
   "cell_type": "markdown",
   "metadata": {
    "toc": true
   },
   "source": [
    "<h1>Содержание<span class=\"tocSkip\"></span></h1>\n",
    "<div class=\"toc\"><ul class=\"toc-item\"><li><span><a href=\"#Загрузка-библиотек\" data-toc-modified-id=\"Загрузка-библиотек-1\"><span class=\"toc-item-num\">1&nbsp;&nbsp;</span>Загрузка библиотек</a></span></li><li><span><a href=\"#Подключение-к-базе-данных\" data-toc-modified-id=\"Подключение-к-базе-данных-2\"><span class=\"toc-item-num\">2&nbsp;&nbsp;</span>Подключение к базе данных</a></span></li><li><span><a href=\"#Просмотр-содержимого-таблиц\" data-toc-modified-id=\"Просмотр-содержимого-таблиц-3\"><span class=\"toc-item-num\">3&nbsp;&nbsp;</span>Просмотр содержимого таблиц</a></span><ul class=\"toc-item\"><li><span><a href=\"#Таблица-books\" data-toc-modified-id=\"Таблица-books-3.1\"><span class=\"toc-item-num\">3.1&nbsp;&nbsp;</span>Таблица books</a></span></li><li><span><a href=\"#Таблица-authors\" data-toc-modified-id=\"Таблица-authors-3.2\"><span class=\"toc-item-num\">3.2&nbsp;&nbsp;</span>Таблица authors</a></span></li><li><span><a href=\"#Таблица-publishers\" data-toc-modified-id=\"Таблица-publishers-3.3\"><span class=\"toc-item-num\">3.3&nbsp;&nbsp;</span>Таблица publishers</a></span></li><li><span><a href=\"#Таблица-ratings\" data-toc-modified-id=\"Таблица-ratings-3.4\"><span class=\"toc-item-num\">3.4&nbsp;&nbsp;</span>Таблица ratings</a></span></li><li><span><a href=\"#Таблица-reviews\" data-toc-modified-id=\"Таблица-reviews-3.5\"><span class=\"toc-item-num\">3.5&nbsp;&nbsp;</span>Таблица reviews</a></span></li></ul></li><li><span><a href=\"#Количество-книг,-вышедших-после-1-января-2000-года\" data-toc-modified-id=\"Количество-книг,-вышедших-после-1-января-2000-года-4\"><span class=\"toc-item-num\">4&nbsp;&nbsp;</span>Количество книг, вышедших после 1 января 2000 года</a></span></li><li><span><a href=\"#Для-каждой-книги-количество-обзоров-и-среднюю-оценку\" data-toc-modified-id=\"Для-каждой-книги-количество-обзоров-и-среднюю-оценку-5\"><span class=\"toc-item-num\">5&nbsp;&nbsp;</span>Для каждой книги количество обзоров и среднюю оценку</a></span></li><li><span><a href=\"#Издательство,-которое-выпустило-наибольшее-число-книг,-толще-50-страниц\" data-toc-modified-id=\"Издательство,-которое-выпустило-наибольшее-число-книг,-толще-50-страниц-6\"><span class=\"toc-item-num\">6&nbsp;&nbsp;</span>Издательство, которое выпустило наибольшее число книг, толще 50 страниц</a></span></li><li><span><a href=\"#Автор-с-самой-высокой-средней-оценкой-книг,-в-которых-50-и-более-оценок\" data-toc-modified-id=\"Автор-с-самой-высокой-средней-оценкой-книг,-в-которых-50-и-более-оценок-7\"><span class=\"toc-item-num\">7&nbsp;&nbsp;</span>Автор с самой высокой средней оценкой книг, в которых 50 и более оценок</a></span></li><li><span><a href=\"#Среднее-количество-обзоров-от-пользователей,-которые-поставили-больше-48-оценок\" data-toc-modified-id=\"Среднее-количество-обзоров-от-пользователей,-которые-поставили-больше-48-оценок-8\"><span class=\"toc-item-num\">8&nbsp;&nbsp;</span>Среднее количество обзоров от пользователей, которые поставили больше 48 оценок</a></span></li><li><span><a href=\"#Вывод\" data-toc-modified-id=\"Вывод-9\"><span class=\"toc-item-num\">9&nbsp;&nbsp;</span>Вывод</a></span></li></ul></div>"
   ]
  },
  {
   "cell_type": "markdown",
   "metadata": {},
   "source": [
    "# Анализ базы данных крупного сервиса для чтения книг по подписке"
   ]
  },
  {
   "cell_type": "markdown",
   "metadata": {},
   "source": [
    "Коронавирус застал мир врасплох, изменив привычный порядок вещей. На какое-то время жители городов перестали выходить на улицу, посещать кафе и торговые центры. Зато стало больше времени для книг. Это заметили стартаперы — и бросились создавать приложения для тех, кто любит читать.\n",
    "\n",
    "Ваша компания решила быть на волне и купила крупный сервис для чтения книг по подписке. \n",
    "\n",
    "<b>Задача </b>\n",
    "\n",
    "Проанализировать базу данных. В ней — информация о книгах, издательствах, авторах, а также пользовательские обзоры книг. Эти данные помогут сформулировать ценностное предложение для нового продукта.\n",
    "\n",
    "Необходимо узнать:\n",
    "- количество книг, вышедших после 1 января 2000 года\n",
    "- для каждой книги количество обзоров и среднюю оценку\n",
    "- издательство, которое выпустило наибольшее число книг, толще 50 страниц\n",
    "- автора с самой высокой средней оценкой книг, в которых 50 и более оценок\n",
    "- среднее количество обзоров от пользователей, которые поставили больше 48 оценок\n",
    "\n",
    "\n",
    "<b> Таблица books </b> - содержит данные о книгах:\n",
    "- book_id — идентификатор книги\n",
    "- author_id — идентификатор автора\n",
    "- title — название книги\n",
    "- num_pages — количество страниц\n",
    "- publication_date — дата публикации книги\n",
    "- publisher_id — идентификатор издателя\n",
    "\n",
    "<b> Таблица authors </b> - содержит данные об авторах:\n",
    "- uthor_id — идентификатор автора\n",
    "- author — имя автора\n",
    "\n",
    "<b> Таблица publishers </b> - содержит данные об издательствах:\n",
    "- publisher_id — идентификатор издательства\n",
    "- publisher — название издательства\n",
    "\n",
    "<b> Таблица ratings </b> - содержит данные о пользовательских оценках книг:\n",
    "- rating_id — идентификатор оценки\n",
    "- book_id — идентификатор книги\n",
    "- username — имя пользователя, оставившего оценку\n",
    "- rating — оценка книги\n",
    "\n",
    "<b> Таблица reviews </b> - содержит данные о пользовательских обзорах:\n",
    "- review_id — идентификатор обзора\n",
    "- book_id — идентификатор книги\n",
    "- username — имя автора обзора\n",
    "- text — текст обзора\n",
    "\n"
   ]
  },
  {
   "cell_type": "markdown",
   "metadata": {},
   "source": [
    "## Загрузка библиотек"
   ]
  },
  {
   "cell_type": "code",
   "execution_count": 1,
   "metadata": {},
   "outputs": [
    {
     "name": "stdout",
     "output_type": "stream",
     "text": [
      "Requirement already satisfied: sqlalchemy in /opt/conda/lib/python3.9/site-packages (1.4.20)\n",
      "Requirement already satisfied: greenlet!=0.4.17 in /opt/conda/lib/python3.9/site-packages (from sqlalchemy) (1.1.0)\n"
     ]
    }
   ],
   "source": [
    "! pip install sqlalchemy"
   ]
  },
  {
   "cell_type": "code",
   "execution_count": 2,
   "metadata": {},
   "outputs": [],
   "source": [
    "import pandas as pd\n",
    "from sqlalchemy import text, create_engine"
   ]
  },
  {
   "cell_type": "markdown",
   "metadata": {},
   "source": [
    "## Подключение к базе данных"
   ]
  },
  {
   "cell_type": "code",
   "execution_count": 3,
   "metadata": {},
   "outputs": [],
   "source": [
    "db_config = {'user':'praktikum_student',\n",
    "            'pwd':'Sdf4$2;d-d30pp',\n",
    "            'host':'rc1b-wcoijxj3yxfsf3fs.mdb.yandexcloud.net',\n",
    "            'port':6432,\n",
    "            'db':'data-analyst-final-project-db'}\n",
    "connection_string = 'postgresql://{user}:{pwd}@{host}:{port}/{db}'.format(**db_config)"
   ]
  },
  {
   "cell_type": "code",
   "execution_count": 4,
   "metadata": {},
   "outputs": [],
   "source": [
    "engine = create_engine(connection_string, connect_args={'sslmode':'require'})\n",
    "con=engine.connect()"
   ]
  },
  {
   "cell_type": "markdown",
   "metadata": {},
   "source": [
    "## Просмотр содержимого таблиц"
   ]
  },
  {
   "cell_type": "markdown",
   "metadata": {},
   "source": [
    "### Таблица books"
   ]
  },
  {
   "cell_type": "code",
   "execution_count": 5,
   "metadata": {},
   "outputs": [
    {
     "data": {
      "text/html": [
       "<div>\n",
       "<style scoped>\n",
       "    .dataframe tbody tr th:only-of-type {\n",
       "        vertical-align: middle;\n",
       "    }\n",
       "\n",
       "    .dataframe tbody tr th {\n",
       "        vertical-align: top;\n",
       "    }\n",
       "\n",
       "    .dataframe thead th {\n",
       "        text-align: right;\n",
       "    }\n",
       "</style>\n",
       "<table border=\"1\" class=\"dataframe\">\n",
       "  <thead>\n",
       "    <tr style=\"text-align: right;\">\n",
       "      <th></th>\n",
       "      <th>book_id</th>\n",
       "      <th>author_id</th>\n",
       "      <th>title</th>\n",
       "      <th>num_pages</th>\n",
       "      <th>publication_date</th>\n",
       "      <th>publisher_id</th>\n",
       "    </tr>\n",
       "  </thead>\n",
       "  <tbody>\n",
       "    <tr>\n",
       "      <th>0</th>\n",
       "      <td>1</td>\n",
       "      <td>546</td>\n",
       "      <td>'Salem's Lot</td>\n",
       "      <td>594</td>\n",
       "      <td>2005-11-01</td>\n",
       "      <td>93</td>\n",
       "    </tr>\n",
       "    <tr>\n",
       "      <th>1</th>\n",
       "      <td>2</td>\n",
       "      <td>465</td>\n",
       "      <td>1 000 Places to See Before You Die</td>\n",
       "      <td>992</td>\n",
       "      <td>2003-05-22</td>\n",
       "      <td>336</td>\n",
       "    </tr>\n",
       "    <tr>\n",
       "      <th>2</th>\n",
       "      <td>3</td>\n",
       "      <td>407</td>\n",
       "      <td>13 Little Blue Envelopes (Little Blue Envelope...</td>\n",
       "      <td>322</td>\n",
       "      <td>2010-12-21</td>\n",
       "      <td>135</td>\n",
       "    </tr>\n",
       "    <tr>\n",
       "      <th>3</th>\n",
       "      <td>4</td>\n",
       "      <td>82</td>\n",
       "      <td>1491: New Revelations of the Americas Before C...</td>\n",
       "      <td>541</td>\n",
       "      <td>2006-10-10</td>\n",
       "      <td>309</td>\n",
       "    </tr>\n",
       "    <tr>\n",
       "      <th>4</th>\n",
       "      <td>5</td>\n",
       "      <td>125</td>\n",
       "      <td>1776</td>\n",
       "      <td>386</td>\n",
       "      <td>2006-07-04</td>\n",
       "      <td>268</td>\n",
       "    </tr>\n",
       "  </tbody>\n",
       "</table>\n",
       "</div>"
      ],
      "text/plain": [
       "   book_id  author_id                                              title  \\\n",
       "0        1        546                                       'Salem's Lot   \n",
       "1        2        465                 1 000 Places to See Before You Die   \n",
       "2        3        407  13 Little Blue Envelopes (Little Blue Envelope...   \n",
       "3        4         82  1491: New Revelations of the Americas Before C...   \n",
       "4        5        125                                               1776   \n",
       "\n",
       "   num_pages publication_date  publisher_id  \n",
       "0        594       2005-11-01            93  \n",
       "1        992       2003-05-22           336  \n",
       "2        322       2010-12-21           135  \n",
       "3        541       2006-10-10           309  \n",
       "4        386       2006-07-04           268  "
      ]
     },
     "execution_count": 5,
     "metadata": {},
     "output_type": "execute_result"
    }
   ],
   "source": [
    "query = '''SELECT * FROM books LIMIT 5'''\n",
    "pd.io.sql.read_sql(sql=text(query), con = con)"
   ]
  },
  {
   "cell_type": "markdown",
   "metadata": {},
   "source": [
    "### Таблица authors"
   ]
  },
  {
   "cell_type": "code",
   "execution_count": 6,
   "metadata": {},
   "outputs": [
    {
     "data": {
      "text/html": [
       "<div>\n",
       "<style scoped>\n",
       "    .dataframe tbody tr th:only-of-type {\n",
       "        vertical-align: middle;\n",
       "    }\n",
       "\n",
       "    .dataframe tbody tr th {\n",
       "        vertical-align: top;\n",
       "    }\n",
       "\n",
       "    .dataframe thead th {\n",
       "        text-align: right;\n",
       "    }\n",
       "</style>\n",
       "<table border=\"1\" class=\"dataframe\">\n",
       "  <thead>\n",
       "    <tr style=\"text-align: right;\">\n",
       "      <th></th>\n",
       "      <th>author_id</th>\n",
       "      <th>author</th>\n",
       "    </tr>\n",
       "  </thead>\n",
       "  <tbody>\n",
       "    <tr>\n",
       "      <th>0</th>\n",
       "      <td>1</td>\n",
       "      <td>A.S. Byatt</td>\n",
       "    </tr>\n",
       "    <tr>\n",
       "      <th>1</th>\n",
       "      <td>2</td>\n",
       "      <td>Aesop/Laura Harris/Laura Gibbs</td>\n",
       "    </tr>\n",
       "    <tr>\n",
       "      <th>2</th>\n",
       "      <td>3</td>\n",
       "      <td>Agatha Christie</td>\n",
       "    </tr>\n",
       "    <tr>\n",
       "      <th>3</th>\n",
       "      <td>4</td>\n",
       "      <td>Alan Brennert</td>\n",
       "    </tr>\n",
       "    <tr>\n",
       "      <th>4</th>\n",
       "      <td>5</td>\n",
       "      <td>Alan Moore/David   Lloyd</td>\n",
       "    </tr>\n",
       "  </tbody>\n",
       "</table>\n",
       "</div>"
      ],
      "text/plain": [
       "   author_id                          author\n",
       "0          1                      A.S. Byatt\n",
       "1          2  Aesop/Laura Harris/Laura Gibbs\n",
       "2          3                 Agatha Christie\n",
       "3          4                   Alan Brennert\n",
       "4          5        Alan Moore/David   Lloyd"
      ]
     },
     "execution_count": 6,
     "metadata": {},
     "output_type": "execute_result"
    }
   ],
   "source": [
    "query = '''SELECT * FROM authors LIMIT 5'''\n",
    "pd.io.sql.read_sql(sql=text(query), con = con)"
   ]
  },
  {
   "cell_type": "markdown",
   "metadata": {},
   "source": [
    "### Таблица publishers"
   ]
  },
  {
   "cell_type": "code",
   "execution_count": 7,
   "metadata": {},
   "outputs": [
    {
     "data": {
      "text/html": [
       "<div>\n",
       "<style scoped>\n",
       "    .dataframe tbody tr th:only-of-type {\n",
       "        vertical-align: middle;\n",
       "    }\n",
       "\n",
       "    .dataframe tbody tr th {\n",
       "        vertical-align: top;\n",
       "    }\n",
       "\n",
       "    .dataframe thead th {\n",
       "        text-align: right;\n",
       "    }\n",
       "</style>\n",
       "<table border=\"1\" class=\"dataframe\">\n",
       "  <thead>\n",
       "    <tr style=\"text-align: right;\">\n",
       "      <th></th>\n",
       "      <th>publisher_id</th>\n",
       "      <th>publisher</th>\n",
       "    </tr>\n",
       "  </thead>\n",
       "  <tbody>\n",
       "    <tr>\n",
       "      <th>0</th>\n",
       "      <td>1</td>\n",
       "      <td>Ace</td>\n",
       "    </tr>\n",
       "    <tr>\n",
       "      <th>1</th>\n",
       "      <td>2</td>\n",
       "      <td>Ace Book</td>\n",
       "    </tr>\n",
       "    <tr>\n",
       "      <th>2</th>\n",
       "      <td>3</td>\n",
       "      <td>Ace Books</td>\n",
       "    </tr>\n",
       "    <tr>\n",
       "      <th>3</th>\n",
       "      <td>4</td>\n",
       "      <td>Ace Hardcover</td>\n",
       "    </tr>\n",
       "    <tr>\n",
       "      <th>4</th>\n",
       "      <td>5</td>\n",
       "      <td>Addison Wesley Publishing Company</td>\n",
       "    </tr>\n",
       "  </tbody>\n",
       "</table>\n",
       "</div>"
      ],
      "text/plain": [
       "   publisher_id                          publisher\n",
       "0             1                                Ace\n",
       "1             2                           Ace Book\n",
       "2             3                          Ace Books\n",
       "3             4                      Ace Hardcover\n",
       "4             5  Addison Wesley Publishing Company"
      ]
     },
     "execution_count": 7,
     "metadata": {},
     "output_type": "execute_result"
    }
   ],
   "source": [
    "query = '''SELECT * FROM publishers LIMIT 5'''\n",
    "pd.io.sql.read_sql(sql=text(query), con = con)"
   ]
  },
  {
   "cell_type": "markdown",
   "metadata": {},
   "source": [
    "### Таблица ratings"
   ]
  },
  {
   "cell_type": "code",
   "execution_count": 8,
   "metadata": {},
   "outputs": [
    {
     "data": {
      "text/html": [
       "<div>\n",
       "<style scoped>\n",
       "    .dataframe tbody tr th:only-of-type {\n",
       "        vertical-align: middle;\n",
       "    }\n",
       "\n",
       "    .dataframe tbody tr th {\n",
       "        vertical-align: top;\n",
       "    }\n",
       "\n",
       "    .dataframe thead th {\n",
       "        text-align: right;\n",
       "    }\n",
       "</style>\n",
       "<table border=\"1\" class=\"dataframe\">\n",
       "  <thead>\n",
       "    <tr style=\"text-align: right;\">\n",
       "      <th></th>\n",
       "      <th>rating_id</th>\n",
       "      <th>book_id</th>\n",
       "      <th>username</th>\n",
       "      <th>rating</th>\n",
       "    </tr>\n",
       "  </thead>\n",
       "  <tbody>\n",
       "    <tr>\n",
       "      <th>0</th>\n",
       "      <td>1</td>\n",
       "      <td>1</td>\n",
       "      <td>ryanfranco</td>\n",
       "      <td>4</td>\n",
       "    </tr>\n",
       "    <tr>\n",
       "      <th>1</th>\n",
       "      <td>2</td>\n",
       "      <td>1</td>\n",
       "      <td>grantpatricia</td>\n",
       "      <td>2</td>\n",
       "    </tr>\n",
       "    <tr>\n",
       "      <th>2</th>\n",
       "      <td>3</td>\n",
       "      <td>1</td>\n",
       "      <td>brandtandrea</td>\n",
       "      <td>5</td>\n",
       "    </tr>\n",
       "    <tr>\n",
       "      <th>3</th>\n",
       "      <td>4</td>\n",
       "      <td>2</td>\n",
       "      <td>lorichen</td>\n",
       "      <td>3</td>\n",
       "    </tr>\n",
       "    <tr>\n",
       "      <th>4</th>\n",
       "      <td>5</td>\n",
       "      <td>2</td>\n",
       "      <td>mariokeller</td>\n",
       "      <td>2</td>\n",
       "    </tr>\n",
       "  </tbody>\n",
       "</table>\n",
       "</div>"
      ],
      "text/plain": [
       "   rating_id  book_id       username  rating\n",
       "0          1        1     ryanfranco       4\n",
       "1          2        1  grantpatricia       2\n",
       "2          3        1   brandtandrea       5\n",
       "3          4        2       lorichen       3\n",
       "4          5        2    mariokeller       2"
      ]
     },
     "execution_count": 8,
     "metadata": {},
     "output_type": "execute_result"
    }
   ],
   "source": [
    "query = '''SELECT * FROM ratings LIMIT 5'''\n",
    "pd.io.sql.read_sql(sql=text(query), con = con)"
   ]
  },
  {
   "cell_type": "markdown",
   "metadata": {},
   "source": [
    "### Таблица reviews"
   ]
  },
  {
   "cell_type": "code",
   "execution_count": 9,
   "metadata": {
    "scrolled": true
   },
   "outputs": [
    {
     "data": {
      "text/html": [
       "<div>\n",
       "<style scoped>\n",
       "    .dataframe tbody tr th:only-of-type {\n",
       "        vertical-align: middle;\n",
       "    }\n",
       "\n",
       "    .dataframe tbody tr th {\n",
       "        vertical-align: top;\n",
       "    }\n",
       "\n",
       "    .dataframe thead th {\n",
       "        text-align: right;\n",
       "    }\n",
       "</style>\n",
       "<table border=\"1\" class=\"dataframe\">\n",
       "  <thead>\n",
       "    <tr style=\"text-align: right;\">\n",
       "      <th></th>\n",
       "      <th>review_id</th>\n",
       "      <th>book_id</th>\n",
       "      <th>username</th>\n",
       "      <th>text</th>\n",
       "    </tr>\n",
       "  </thead>\n",
       "  <tbody>\n",
       "    <tr>\n",
       "      <th>0</th>\n",
       "      <td>1</td>\n",
       "      <td>1</td>\n",
       "      <td>brandtandrea</td>\n",
       "      <td>Mention society tell send professor analysis. ...</td>\n",
       "    </tr>\n",
       "    <tr>\n",
       "      <th>1</th>\n",
       "      <td>2</td>\n",
       "      <td>1</td>\n",
       "      <td>ryanfranco</td>\n",
       "      <td>Foot glass pretty audience hit themselves. Amo...</td>\n",
       "    </tr>\n",
       "    <tr>\n",
       "      <th>2</th>\n",
       "      <td>3</td>\n",
       "      <td>2</td>\n",
       "      <td>lorichen</td>\n",
       "      <td>Listen treat keep worry. Miss husband tax but ...</td>\n",
       "    </tr>\n",
       "    <tr>\n",
       "      <th>3</th>\n",
       "      <td>4</td>\n",
       "      <td>3</td>\n",
       "      <td>johnsonamanda</td>\n",
       "      <td>Finally month interesting blue could nature cu...</td>\n",
       "    </tr>\n",
       "    <tr>\n",
       "      <th>4</th>\n",
       "      <td>5</td>\n",
       "      <td>3</td>\n",
       "      <td>scotttamara</td>\n",
       "      <td>Nation purpose heavy give wait song will. List...</td>\n",
       "    </tr>\n",
       "  </tbody>\n",
       "</table>\n",
       "</div>"
      ],
      "text/plain": [
       "   review_id  book_id       username  \\\n",
       "0          1        1   brandtandrea   \n",
       "1          2        1     ryanfranco   \n",
       "2          3        2       lorichen   \n",
       "3          4        3  johnsonamanda   \n",
       "4          5        3    scotttamara   \n",
       "\n",
       "                                                text  \n",
       "0  Mention society tell send professor analysis. ...  \n",
       "1  Foot glass pretty audience hit themselves. Amo...  \n",
       "2  Listen treat keep worry. Miss husband tax but ...  \n",
       "3  Finally month interesting blue could nature cu...  \n",
       "4  Nation purpose heavy give wait song will. List...  "
      ]
     },
     "execution_count": 9,
     "metadata": {},
     "output_type": "execute_result"
    }
   ],
   "source": [
    "query = '''SELECT * FROM reviews LIMIT 5'''\n",
    "pd.io.sql.read_sql(sql=text(query), con = con)"
   ]
  },
  {
   "cell_type": "markdown",
   "metadata": {},
   "source": []
  },
  {
   "cell_type": "markdown",
   "metadata": {},
   "source": [
    "## Количество книг, вышедших после 1 января 2000 года"
   ]
  },
  {
   "cell_type": "code",
   "execution_count": 10,
   "metadata": {},
   "outputs": [
    {
     "data": {
      "text/html": [
       "<div>\n",
       "<style scoped>\n",
       "    .dataframe tbody tr th:only-of-type {\n",
       "        vertical-align: middle;\n",
       "    }\n",
       "\n",
       "    .dataframe tbody tr th {\n",
       "        vertical-align: top;\n",
       "    }\n",
       "\n",
       "    .dataframe thead th {\n",
       "        text-align: right;\n",
       "    }\n",
       "</style>\n",
       "<table border=\"1\" class=\"dataframe\">\n",
       "  <thead>\n",
       "    <tr style=\"text-align: right;\">\n",
       "      <th></th>\n",
       "      <th>count</th>\n",
       "    </tr>\n",
       "  </thead>\n",
       "  <tbody>\n",
       "    <tr>\n",
       "      <th>0</th>\n",
       "      <td>819</td>\n",
       "    </tr>\n",
       "  </tbody>\n",
       "</table>\n",
       "</div>"
      ],
      "text/plain": [
       "   count\n",
       "0    819"
      ]
     },
     "execution_count": 10,
     "metadata": {},
     "output_type": "execute_result"
    }
   ],
   "source": [
    "query = '''\n",
    "    SELECT COUNT(book_id) \n",
    "    FROM books\n",
    "    WHERE publication_date > '2000-01-01'\n",
    "'''\n",
    "pd.io.sql.read_sql(sql=text(query), con = con)"
   ]
  },
  {
   "cell_type": "markdown",
   "metadata": {},
   "source": [
    "После 1 января 2000 вышло 819 книг"
   ]
  },
  {
   "cell_type": "markdown",
   "metadata": {},
   "source": [
    "## Для каждой книги количество обзоров и среднюю оценку"
   ]
  },
  {
   "cell_type": "code",
   "execution_count": 29,
   "metadata": {},
   "outputs": [
    {
     "data": {
      "text/html": [
       "<div>\n",
       "<style scoped>\n",
       "    .dataframe tbody tr th:only-of-type {\n",
       "        vertical-align: middle;\n",
       "    }\n",
       "\n",
       "    .dataframe tbody tr th {\n",
       "        vertical-align: top;\n",
       "    }\n",
       "\n",
       "    .dataframe thead th {\n",
       "        text-align: right;\n",
       "    }\n",
       "</style>\n",
       "<table border=\"1\" class=\"dataframe\">\n",
       "  <thead>\n",
       "    <tr style=\"text-align: right;\">\n",
       "      <th></th>\n",
       "      <th>book_id</th>\n",
       "      <th>title</th>\n",
       "      <th>count_rev</th>\n",
       "      <th>avg_rating</th>\n",
       "    </tr>\n",
       "  </thead>\n",
       "  <tbody>\n",
       "    <tr>\n",
       "      <th>0</th>\n",
       "      <td>86</td>\n",
       "      <td>Arrows of the Queen (Heralds of Valdemar  #1)</td>\n",
       "      <td>2</td>\n",
       "      <td>5.00</td>\n",
       "    </tr>\n",
       "    <tr>\n",
       "      <th>1</th>\n",
       "      <td>901</td>\n",
       "      <td>The Walking Dead  Book One (The Walking Dead #...</td>\n",
       "      <td>2</td>\n",
       "      <td>5.00</td>\n",
       "    </tr>\n",
       "    <tr>\n",
       "      <th>2</th>\n",
       "      <td>390</td>\n",
       "      <td>Light in August</td>\n",
       "      <td>2</td>\n",
       "      <td>5.00</td>\n",
       "    </tr>\n",
       "    <tr>\n",
       "      <th>3</th>\n",
       "      <td>972</td>\n",
       "      <td>Wherever You Go  There You Are: Mindfulness Me...</td>\n",
       "      <td>2</td>\n",
       "      <td>5.00</td>\n",
       "    </tr>\n",
       "    <tr>\n",
       "      <th>4</th>\n",
       "      <td>136</td>\n",
       "      <td>Captivating: Unveiling the Mystery of a Woman'...</td>\n",
       "      <td>2</td>\n",
       "      <td>5.00</td>\n",
       "    </tr>\n",
       "    <tr>\n",
       "      <th>...</th>\n",
       "      <td>...</td>\n",
       "      <td>...</td>\n",
       "      <td>...</td>\n",
       "      <td>...</td>\n",
       "    </tr>\n",
       "    <tr>\n",
       "      <th>995</th>\n",
       "      <td>915</td>\n",
       "      <td>The World Is Flat: A Brief History of the Twen...</td>\n",
       "      <td>3</td>\n",
       "      <td>2.25</td>\n",
       "    </tr>\n",
       "    <tr>\n",
       "      <th>996</th>\n",
       "      <td>316</td>\n",
       "      <td>His Excellency: George Washington</td>\n",
       "      <td>2</td>\n",
       "      <td>2.00</td>\n",
       "    </tr>\n",
       "    <tr>\n",
       "      <th>997</th>\n",
       "      <td>202</td>\n",
       "      <td>Drowning Ruth</td>\n",
       "      <td>3</td>\n",
       "      <td>2.00</td>\n",
       "    </tr>\n",
       "    <tr>\n",
       "      <th>998</th>\n",
       "      <td>371</td>\n",
       "      <td>Junky</td>\n",
       "      <td>2</td>\n",
       "      <td>2.00</td>\n",
       "    </tr>\n",
       "    <tr>\n",
       "      <th>999</th>\n",
       "      <td>303</td>\n",
       "      <td>Harvesting the Heart</td>\n",
       "      <td>2</td>\n",
       "      <td>1.50</td>\n",
       "    </tr>\n",
       "  </tbody>\n",
       "</table>\n",
       "<p>1000 rows × 4 columns</p>\n",
       "</div>"
      ],
      "text/plain": [
       "     book_id                                              title  count_rev  \\\n",
       "0         86      Arrows of the Queen (Heralds of Valdemar  #1)          2   \n",
       "1        901  The Walking Dead  Book One (The Walking Dead #...          2   \n",
       "2        390                                    Light in August          2   \n",
       "3        972  Wherever You Go  There You Are: Mindfulness Me...          2   \n",
       "4        136  Captivating: Unveiling the Mystery of a Woman'...          2   \n",
       "..       ...                                                ...        ...   \n",
       "995      915  The World Is Flat: A Brief History of the Twen...          3   \n",
       "996      316                  His Excellency: George Washington          2   \n",
       "997      202                                      Drowning Ruth          3   \n",
       "998      371                                              Junky          2   \n",
       "999      303                               Harvesting the Heart          2   \n",
       "\n",
       "     avg_rating  \n",
       "0          5.00  \n",
       "1          5.00  \n",
       "2          5.00  \n",
       "3          5.00  \n",
       "4          5.00  \n",
       "..          ...  \n",
       "995        2.25  \n",
       "996        2.00  \n",
       "997        2.00  \n",
       "998        2.00  \n",
       "999        1.50  \n",
       "\n",
       "[1000 rows x 4 columns]"
      ]
     },
     "execution_count": 29,
     "metadata": {},
     "output_type": "execute_result"
    }
   ],
   "source": [
    "query = '''\n",
    "    SELECT b.book_id,\n",
    "           b.title,\n",
    "           COUNT(DISTINCT rev.review_id) AS count_rev,\n",
    "           ROUND(AVG(rat.rating),2) AS avg_rating\n",
    "    FROM books AS b\n",
    "    LEFT JOIN reviews AS rev ON b.book_id=rev.book_id\n",
    "    LEFT JOIN ratings AS rat ON b.book_id=rat.book_id\n",
    "    GROUP BY b.book_id\n",
    "    ORDER BY avg_rating DESC\n",
    "'''\n",
    "pd.io.sql.read_sql(sql=text(query), con = con)"
   ]
  },
  {
   "cell_type": "code",
   "execution_count": 30,
   "metadata": {},
   "outputs": [
    {
     "data": {
      "text/html": [
       "<div>\n",
       "<style scoped>\n",
       "    .dataframe tbody tr th:only-of-type {\n",
       "        vertical-align: middle;\n",
       "    }\n",
       "\n",
       "    .dataframe tbody tr th {\n",
       "        vertical-align: top;\n",
       "    }\n",
       "\n",
       "    .dataframe thead th {\n",
       "        text-align: right;\n",
       "    }\n",
       "</style>\n",
       "<table border=\"1\" class=\"dataframe\">\n",
       "  <thead>\n",
       "    <tr style=\"text-align: right;\">\n",
       "      <th></th>\n",
       "      <th>book_id</th>\n",
       "      <th>title</th>\n",
       "      <th>count_rev</th>\n",
       "      <th>avg_rating</th>\n",
       "    </tr>\n",
       "  </thead>\n",
       "  <tbody>\n",
       "    <tr>\n",
       "      <th>0</th>\n",
       "      <td>948</td>\n",
       "      <td>Twilight (Twilight  #1)</td>\n",
       "      <td>7</td>\n",
       "      <td>3.66</td>\n",
       "    </tr>\n",
       "    <tr>\n",
       "      <th>1</th>\n",
       "      <td>963</td>\n",
       "      <td>Water for Elephants</td>\n",
       "      <td>6</td>\n",
       "      <td>3.98</td>\n",
       "    </tr>\n",
       "    <tr>\n",
       "      <th>2</th>\n",
       "      <td>734</td>\n",
       "      <td>The Glass Castle</td>\n",
       "      <td>6</td>\n",
       "      <td>4.21</td>\n",
       "    </tr>\n",
       "    <tr>\n",
       "      <th>3</th>\n",
       "      <td>302</td>\n",
       "      <td>Harry Potter and the Prisoner of Azkaban (Harr...</td>\n",
       "      <td>6</td>\n",
       "      <td>4.41</td>\n",
       "    </tr>\n",
       "    <tr>\n",
       "      <th>4</th>\n",
       "      <td>695</td>\n",
       "      <td>The Curious Incident of the Dog in the Night-Time</td>\n",
       "      <td>6</td>\n",
       "      <td>4.08</td>\n",
       "    </tr>\n",
       "    <tr>\n",
       "      <th>...</th>\n",
       "      <td>...</td>\n",
       "      <td>...</td>\n",
       "      <td>...</td>\n",
       "      <td>...</td>\n",
       "    </tr>\n",
       "    <tr>\n",
       "      <th>995</th>\n",
       "      <td>83</td>\n",
       "      <td>Anne Rice's The Vampire Lestat: A Graphic Novel</td>\n",
       "      <td>0</td>\n",
       "      <td>3.67</td>\n",
       "    </tr>\n",
       "    <tr>\n",
       "      <th>996</th>\n",
       "      <td>808</td>\n",
       "      <td>The Natural Way to Draw</td>\n",
       "      <td>0</td>\n",
       "      <td>3.00</td>\n",
       "    </tr>\n",
       "    <tr>\n",
       "      <th>997</th>\n",
       "      <td>672</td>\n",
       "      <td>The Cat in the Hat and Other Dr. Seuss Favorites</td>\n",
       "      <td>0</td>\n",
       "      <td>5.00</td>\n",
       "    </tr>\n",
       "    <tr>\n",
       "      <th>998</th>\n",
       "      <td>221</td>\n",
       "      <td>Essential Tales and Poems</td>\n",
       "      <td>0</td>\n",
       "      <td>4.00</td>\n",
       "    </tr>\n",
       "    <tr>\n",
       "      <th>999</th>\n",
       "      <td>191</td>\n",
       "      <td>Disney's Beauty and the Beast (A Little Golden...</td>\n",
       "      <td>0</td>\n",
       "      <td>4.00</td>\n",
       "    </tr>\n",
       "  </tbody>\n",
       "</table>\n",
       "<p>1000 rows × 4 columns</p>\n",
       "</div>"
      ],
      "text/plain": [
       "     book_id                                              title  count_rev  \\\n",
       "0        948                            Twilight (Twilight  #1)          7   \n",
       "1        963                                Water for Elephants          6   \n",
       "2        734                                   The Glass Castle          6   \n",
       "3        302  Harry Potter and the Prisoner of Azkaban (Harr...          6   \n",
       "4        695  The Curious Incident of the Dog in the Night-Time          6   \n",
       "..       ...                                                ...        ...   \n",
       "995       83    Anne Rice's The Vampire Lestat: A Graphic Novel          0   \n",
       "996      808                            The Natural Way to Draw          0   \n",
       "997      672   The Cat in the Hat and Other Dr. Seuss Favorites          0   \n",
       "998      221                          Essential Tales and Poems          0   \n",
       "999      191  Disney's Beauty and the Beast (A Little Golden...          0   \n",
       "\n",
       "     avg_rating  \n",
       "0          3.66  \n",
       "1          3.98  \n",
       "2          4.21  \n",
       "3          4.41  \n",
       "4          4.08  \n",
       "..          ...  \n",
       "995        3.67  \n",
       "996        3.00  \n",
       "997        5.00  \n",
       "998        4.00  \n",
       "999        4.00  \n",
       "\n",
       "[1000 rows x 4 columns]"
      ]
     },
     "execution_count": 30,
     "metadata": {},
     "output_type": "execute_result"
    }
   ],
   "source": [
    "query = '''\n",
    "    SELECT b.book_id,\n",
    "           b.title,\n",
    "           COUNT(DISTINCT rev.review_id) AS count_rev,\n",
    "           ROUND(AVG(rat.rating),2) AS avg_rating\n",
    "    FROM books AS b\n",
    "    LEFT JOIN reviews AS rev ON b.book_id=rev.book_id\n",
    "    LEFT JOIN ratings AS rat ON b.book_id=rat.book_id\n",
    "    GROUP BY b.book_id\n",
    "    ORDER BY count_rev DESC\n",
    "'''\n",
    "pd.io.sql.read_sql(sql=text(query), con = con)"
   ]
  },
  {
   "cell_type": "markdown",
   "metadata": {},
   "source": [
    "Максимальный рейтинг у книг - 5, минимальный - 1,5. \n",
    "\n",
    "Максимальное количество обзоров - 7, и также присутствуют книги без обзоров."
   ]
  },
  {
   "cell_type": "markdown",
   "metadata": {},
   "source": []
  },
  {
   "cell_type": "markdown",
   "metadata": {},
   "source": [
    "## Издательство, которое выпустило наибольшее число книг, толще 50 страниц"
   ]
  },
  {
   "cell_type": "code",
   "execution_count": 12,
   "metadata": {},
   "outputs": [
    {
     "data": {
      "text/html": [
       "<div>\n",
       "<style scoped>\n",
       "    .dataframe tbody tr th:only-of-type {\n",
       "        vertical-align: middle;\n",
       "    }\n",
       "\n",
       "    .dataframe tbody tr th {\n",
       "        vertical-align: top;\n",
       "    }\n",
       "\n",
       "    .dataframe thead th {\n",
       "        text-align: right;\n",
       "    }\n",
       "</style>\n",
       "<table border=\"1\" class=\"dataframe\">\n",
       "  <thead>\n",
       "    <tr style=\"text-align: right;\">\n",
       "      <th></th>\n",
       "      <th>publisher_id</th>\n",
       "      <th>publisher</th>\n",
       "      <th>count_book</th>\n",
       "    </tr>\n",
       "  </thead>\n",
       "  <tbody>\n",
       "    <tr>\n",
       "      <th>0</th>\n",
       "      <td>212</td>\n",
       "      <td>Penguin Books</td>\n",
       "      <td>42</td>\n",
       "    </tr>\n",
       "  </tbody>\n",
       "</table>\n",
       "</div>"
      ],
      "text/plain": [
       "   publisher_id      publisher  count_book\n",
       "0           212  Penguin Books          42"
      ]
     },
     "execution_count": 12,
     "metadata": {},
     "output_type": "execute_result"
    }
   ],
   "source": [
    "query = '''\n",
    "    SELECT p.publisher_id,\n",
    "           p.publisher,\n",
    "           COUNT(DISTINCT b.book_id)  AS count_book\n",
    "    FROM books AS b\n",
    "    INNER JOIN publishers AS p ON b.publisher_id=p.publisher_id\n",
    "    WHERE b.num_pages > 50\n",
    "    GROUP BY p.publisher_id\n",
    "    ORDER BY count_book DESC\n",
    "    LIMIT 1\n",
    "'''\n",
    "pd.io.sql.read_sql(sql=text(query), con = con)"
   ]
  },
  {
   "cell_type": "markdown",
   "metadata": {},
   "source": [
    "Наибольшее количество книг (42), толще 50 страниц, у издательства Penguin Books"
   ]
  },
  {
   "cell_type": "markdown",
   "metadata": {},
   "source": []
  },
  {
   "cell_type": "markdown",
   "metadata": {},
   "source": [
    "## Автор с самой высокой средней оценкой книг, в которых 50 и более оценок"
   ]
  },
  {
   "cell_type": "code",
   "execution_count": 13,
   "metadata": {},
   "outputs": [
    {
     "data": {
      "text/html": [
       "<div>\n",
       "<style scoped>\n",
       "    .dataframe tbody tr th:only-of-type {\n",
       "        vertical-align: middle;\n",
       "    }\n",
       "\n",
       "    .dataframe tbody tr th {\n",
       "        vertical-align: top;\n",
       "    }\n",
       "\n",
       "    .dataframe thead th {\n",
       "        text-align: right;\n",
       "    }\n",
       "</style>\n",
       "<table border=\"1\" class=\"dataframe\">\n",
       "  <thead>\n",
       "    <tr style=\"text-align: right;\">\n",
       "      <th></th>\n",
       "      <th>author</th>\n",
       "      <th>avg_rating</th>\n",
       "    </tr>\n",
       "  </thead>\n",
       "  <tbody>\n",
       "    <tr>\n",
       "      <th>0</th>\n",
       "      <td>J.K. Rowling/Mary GrandPré</td>\n",
       "      <td>4.29</td>\n",
       "    </tr>\n",
       "  </tbody>\n",
       "</table>\n",
       "</div>"
      ],
      "text/plain": [
       "                       author  avg_rating\n",
       "0  J.K. Rowling/Mary GrandPré        4.29"
      ]
     },
     "execution_count": 13,
     "metadata": {},
     "output_type": "execute_result"
    }
   ],
   "source": [
    "query = '''\n",
    "    SELECT a.author,\n",
    "           ROUND(AVG(r.rating),2) AS avg_rating\n",
    "    FROM ratings AS r\n",
    "    INNER JOIN books AS b ON r.book_id=b.book_id\n",
    "    INNER JOIN authors AS a ON b.author_id=a.author_id\n",
    "    WHERE r.book_id IN (SELECT r.book_id\n",
    "                        FROM ratings AS r\n",
    "                        GROUP BY r.book_id\n",
    "                        HAVING COUNT(r.rating_id)>=50\n",
    "                        )\n",
    "    GROUP BY a.author_id\n",
    "    ORDER BY avg_rating DESC\n",
    "    LIMIT 1\n",
    "    \n",
    "\n",
    "'''\n",
    "pd.io.sql.read_sql(sql=text(query), con = con)\n"
   ]
  },
  {
   "cell_type": "markdown",
   "metadata": {},
   "source": [
    "Автор с самой высокой средней оценкой книг, в которых больше или равно 50 оценок - J.K. Rowling/Mary GrandPré"
   ]
  },
  {
   "cell_type": "markdown",
   "metadata": {},
   "source": [
    "## Среднее количество обзоров от пользователей, которые поставили больше 48 оценок"
   ]
  },
  {
   "cell_type": "code",
   "execution_count": 14,
   "metadata": {},
   "outputs": [
    {
     "data": {
      "text/html": [
       "<div>\n",
       "<style scoped>\n",
       "    .dataframe tbody tr th:only-of-type {\n",
       "        vertical-align: middle;\n",
       "    }\n",
       "\n",
       "    .dataframe tbody tr th {\n",
       "        vertical-align: top;\n",
       "    }\n",
       "\n",
       "    .dataframe thead th {\n",
       "        text-align: right;\n",
       "    }\n",
       "</style>\n",
       "<table border=\"1\" class=\"dataframe\">\n",
       "  <thead>\n",
       "    <tr style=\"text-align: right;\">\n",
       "      <th></th>\n",
       "      <th>avg_count_review</th>\n",
       "    </tr>\n",
       "  </thead>\n",
       "  <tbody>\n",
       "    <tr>\n",
       "      <th>0</th>\n",
       "      <td>24.0</td>\n",
       "    </tr>\n",
       "  </tbody>\n",
       "</table>\n",
       "</div>"
      ],
      "text/plain": [
       "   avg_count_review\n",
       "0              24.0"
      ]
     },
     "execution_count": 14,
     "metadata": {},
     "output_type": "execute_result"
    }
   ],
   "source": [
    "query = '''\n",
    "    SELECT ROUND(AVG(count_review),2) AS avg_count_review\n",
    "    FROM (\n",
    "          SELECT rev.username,\n",
    "                 COUNT(rev.review_id) AS count_review\n",
    "          FROM reviews AS rev\n",
    "          GROUP BY rev.username\n",
    "          HAVING rev.username IN (\n",
    "                                  SELECT rat.username\n",
    "                                  FROM ratings AS rat\n",
    "                                  GROUP BY rat.username\n",
    "                                  HAVING COUNT(rat.rating_id)>48\n",
    "                                  ) \n",
    "          ) AS count_review\n",
    "'''\n",
    "pd.io.sql.read_sql(sql=text(query), con = con)"
   ]
  },
  {
   "cell_type": "markdown",
   "metadata": {},
   "source": [
    "Среднее количество обзоров от пользователей, которые поставили больше 48 оценок, равно 24."
   ]
  },
  {
   "cell_type": "markdown",
   "metadata": {},
   "source": [
    "## Вывод"
   ]
  },
  {
   "cell_type": "markdown",
   "metadata": {},
   "source": [
    "По результатам исследования мы получили, что:\n",
    "- после 1 января 2000 вышло 819 книг.\n",
    "- всего в каталоге 1000 книг. Максимальный рейтинг - 5, минимальный - 1,5. Количество обзоров от 0 до 7.\n",
    "- издательство Penguin Books выпустило  наибольшее количество книг (42 шт.), толще 50 страниц.\n",
    "- наиболее популярный автор - это союз Джоан Роулинг, британская писательница, написавшая \"Гарри Поттера\" и американский иллюстратор Мари Грандпре, которая делала иллюстрации к обложкам и главам книг.\n",
    "- среднее количество обзоров от пользователей, которые поставили больше 48 оценок, равно 24. Это значит они много читают и много делятся информацией о книгах."
   ]
  }
 ],
 "metadata": {
  "ExecuteTimeLog": [
   {
    "duration": 2666,
    "start_time": "2024-07-19T03:36:51.960Z"
   },
   {
    "duration": 512,
    "start_time": "2024-07-19T03:38:55.181Z"
   },
   {
    "duration": 2,
    "start_time": "2024-07-19T03:45:42.951Z"
   },
   {
    "duration": 6963,
    "start_time": "2024-07-19T03:47:16.470Z"
   },
   {
    "duration": 3,
    "start_time": "2024-07-19T03:51:44.269Z"
   },
   {
    "duration": 162,
    "start_time": "2024-07-19T03:51:47.675Z"
   },
   {
    "duration": 2,
    "start_time": "2024-07-19T03:52:30.214Z"
   },
   {
    "duration": 3,
    "start_time": "2024-07-19T03:52:31.061Z"
   },
   {
    "duration": 2,
    "start_time": "2024-07-19T03:52:31.620Z"
   },
   {
    "duration": 170,
    "start_time": "2024-07-19T03:52:34.950Z"
   },
   {
    "duration": 5,
    "start_time": "2024-07-19T03:52:37.461Z"
   },
   {
    "duration": 45,
    "start_time": "2024-07-19T03:53:01.684Z"
   },
   {
    "duration": 2,
    "start_time": "2024-07-19T04:17:17.687Z"
   },
   {
    "duration": 190,
    "start_time": "2024-07-19T04:17:18.271Z"
   },
   {
    "duration": 40,
    "start_time": "2024-07-19T04:17:28.015Z"
   },
   {
    "duration": 28,
    "start_time": "2024-07-19T04:18:03.872Z"
   },
   {
    "duration": 29,
    "start_time": "2024-07-19T04:19:15.512Z"
   },
   {
    "duration": 27,
    "start_time": "2024-07-19T04:19:22.473Z"
   },
   {
    "duration": 30,
    "start_time": "2024-07-19T04:20:05.807Z"
   },
   {
    "duration": 30,
    "start_time": "2024-07-19T04:20:54.751Z"
   },
   {
    "duration": 65,
    "start_time": "2024-07-19T04:29:37.198Z"
   },
   {
    "duration": 27,
    "start_time": "2024-07-19T04:30:04.972Z"
   },
   {
    "duration": 28,
    "start_time": "2024-07-19T04:32:13.687Z"
   },
   {
    "duration": 46,
    "start_time": "2024-07-19T04:38:15.593Z"
   },
   {
    "duration": 62,
    "start_time": "2024-07-19T04:38:43.039Z"
   },
   {
    "duration": 59,
    "start_time": "2024-07-19T04:39:14.742Z"
   },
   {
    "duration": 62,
    "start_time": "2024-07-19T04:41:00.326Z"
   },
   {
    "duration": 64,
    "start_time": "2024-07-19T04:42:12.487Z"
   },
   {
    "duration": 63,
    "start_time": "2024-07-19T04:42:58.336Z"
   },
   {
    "duration": 69,
    "start_time": "2024-07-19T04:44:05.960Z"
   },
   {
    "duration": 63,
    "start_time": "2024-07-19T04:44:39.327Z"
   },
   {
    "duration": 63,
    "start_time": "2024-07-19T04:44:54.279Z"
   },
   {
    "duration": 63,
    "start_time": "2024-07-19T04:45:10.807Z"
   },
   {
    "duration": 64,
    "start_time": "2024-07-19T04:45:24.162Z"
   },
   {
    "duration": 63,
    "start_time": "2024-07-19T04:45:38.775Z"
   },
   {
    "duration": 47,
    "start_time": "2024-07-19T04:57:52.475Z"
   },
   {
    "duration": 42,
    "start_time": "2024-07-19T04:58:15.635Z"
   },
   {
    "duration": 29,
    "start_time": "2024-07-19T04:59:16.813Z"
   },
   {
    "duration": 65,
    "start_time": "2024-07-19T05:00:51.956Z"
   },
   {
    "duration": 45,
    "start_time": "2024-07-19T05:07:18.966Z"
   },
   {
    "duration": 41,
    "start_time": "2024-07-19T05:07:31.728Z"
   },
   {
    "duration": 31,
    "start_time": "2024-07-19T05:07:46.934Z"
   },
   {
    "duration": 35,
    "start_time": "2024-07-19T05:08:37.286Z"
   },
   {
    "duration": 48,
    "start_time": "2024-07-19T05:11:58.129Z"
   },
   {
    "duration": 56,
    "start_time": "2024-07-19T05:12:08.447Z"
   },
   {
    "duration": 43,
    "start_time": "2024-07-19T05:12:34.640Z"
   },
   {
    "duration": 30,
    "start_time": "2024-07-19T05:12:57.415Z"
   },
   {
    "duration": 46,
    "start_time": "2024-07-19T05:16:04.408Z"
   },
   {
    "duration": 55,
    "start_time": "2024-07-19T05:17:00.417Z"
   },
   {
    "duration": 41,
    "start_time": "2024-07-19T05:20:46.241Z"
   },
   {
    "duration": 33,
    "start_time": "2024-07-19T05:20:58.562Z"
   },
   {
    "duration": 31,
    "start_time": "2024-07-19T05:21:26.753Z"
   },
   {
    "duration": 32,
    "start_time": "2024-07-19T07:11:44.682Z"
   },
   {
    "duration": 31,
    "start_time": "2024-07-19T07:22:52.405Z"
   },
   {
    "duration": 32,
    "start_time": "2024-07-19T07:23:00.053Z"
   },
   {
    "duration": 32,
    "start_time": "2024-07-19T07:24:07.965Z"
   },
   {
    "duration": 46,
    "start_time": "2024-07-19T07:28:01.807Z"
   },
   {
    "duration": 60,
    "start_time": "2024-07-19T07:29:10.863Z"
   },
   {
    "duration": 42,
    "start_time": "2024-07-19T07:32:34.792Z"
   },
   {
    "duration": 37,
    "start_time": "2024-07-19T07:33:06.833Z"
   },
   {
    "duration": 32,
    "start_time": "2024-07-19T07:33:40.319Z"
   },
   {
    "duration": 46,
    "start_time": "2024-07-19T07:33:51.923Z"
   },
   {
    "duration": 66,
    "start_time": "2024-07-19T07:34:08.768Z"
   },
   {
    "duration": 44,
    "start_time": "2024-07-19T07:34:18.814Z"
   },
   {
    "duration": 47,
    "start_time": "2024-07-19T07:43:57.835Z"
   },
   {
    "duration": 42,
    "start_time": "2024-07-19T07:44:07.181Z"
   },
   {
    "duration": 31,
    "start_time": "2024-07-19T07:44:36.438Z"
   },
   {
    "duration": 47,
    "start_time": "2024-07-19T07:54:43.535Z"
   },
   {
    "duration": 48,
    "start_time": "2024-07-19T11:08:25.263Z"
   },
   {
    "duration": 2598,
    "start_time": "2024-07-19T11:08:34.260Z"
   },
   {
    "duration": 495,
    "start_time": "2024-07-19T11:08:36.860Z"
   },
   {
    "duration": 2,
    "start_time": "2024-07-19T11:08:37.357Z"
   },
   {
    "duration": 7324,
    "start_time": "2024-07-19T11:08:37.361Z"
   },
   {
    "duration": 55,
    "start_time": "2024-07-19T11:08:44.687Z"
   },
   {
    "duration": 31,
    "start_time": "2024-07-19T11:08:44.743Z"
   },
   {
    "duration": 31,
    "start_time": "2024-07-19T11:08:44.776Z"
   },
   {
    "duration": 33,
    "start_time": "2024-07-19T11:08:44.809Z"
   },
   {
    "duration": 84,
    "start_time": "2024-07-19T11:08:44.843Z"
   },
   {
    "duration": 30,
    "start_time": "2024-07-19T11:08:44.928Z"
   },
   {
    "duration": 70,
    "start_time": "2024-07-19T11:08:44.959Z"
   },
   {
    "duration": 32,
    "start_time": "2024-07-19T11:08:45.031Z"
   },
   {
    "duration": 52,
    "start_time": "2024-07-19T11:08:45.064Z"
   },
   {
    "duration": 57,
    "start_time": "2024-07-19T11:08:45.117Z"
   },
   {
    "duration": 84,
    "start_time": "2024-07-19T11:08:45.175Z"
   },
   {
    "duration": 61,
    "start_time": "2024-07-19T11:08:59.161Z"
   },
   {
    "duration": 66,
    "start_time": "2024-07-19T11:23:25.415Z"
   },
   {
    "duration": 60,
    "start_time": "2024-07-19T11:23:52.232Z"
   },
   {
    "duration": 61,
    "start_time": "2024-07-19T11:24:07.647Z"
   },
   {
    "duration": 42,
    "start_time": "2024-07-19T11:24:50.103Z"
   },
   {
    "duration": 33,
    "start_time": "2024-07-19T11:27:14.409Z"
   },
   {
    "duration": 51,
    "start_time": "2024-07-19T11:28:11.680Z"
   },
   {
    "duration": 69,
    "start_time": "2024-07-19T11:29:20.681Z"
   },
   {
    "duration": 43,
    "start_time": "2024-07-19T11:30:15.081Z"
   },
   {
    "duration": 33,
    "start_time": "2024-07-19T11:33:01.850Z"
   },
   {
    "duration": 2925,
    "start_time": "2024-07-19T12:49:13.702Z"
   },
   {
    "duration": 528,
    "start_time": "2024-07-19T12:49:16.629Z"
   },
   {
    "duration": 3,
    "start_time": "2024-07-19T12:49:17.158Z"
   },
   {
    "duration": 5249,
    "start_time": "2024-07-19T12:49:17.163Z"
   },
   {
    "duration": 17,
    "start_time": "2024-07-19T12:49:22.414Z"
   },
   {
    "duration": 82,
    "start_time": "2024-07-19T12:49:22.433Z"
   },
   {
    "duration": 7,
    "start_time": "2024-07-19T12:49:22.517Z"
   },
   {
    "duration": 8,
    "start_time": "2024-07-19T12:49:22.526Z"
   },
   {
    "duration": 70,
    "start_time": "2024-07-19T12:49:22.536Z"
   },
   {
    "duration": 9,
    "start_time": "2024-07-19T12:49:22.608Z"
   },
   {
    "duration": 29,
    "start_time": "2024-07-19T12:49:22.618Z"
   },
   {
    "duration": 11,
    "start_time": "2024-07-19T12:49:22.648Z"
   },
   {
    "duration": 12,
    "start_time": "2024-07-19T12:49:22.660Z"
   },
   {
    "duration": 11,
    "start_time": "2024-07-19T12:49:22.674Z"
   },
   {
    "duration": 76,
    "start_time": "2024-07-19T13:41:27.687Z"
   },
   {
    "duration": 68,
    "start_time": "2024-07-19T13:41:45.465Z"
   },
   {
    "duration": 68,
    "start_time": "2024-07-19T13:42:31.354Z"
   },
   {
    "duration": 67,
    "start_time": "2024-07-19T13:54:50.279Z"
   }
  ],
  "kernelspec": {
   "display_name": "Python 3 (ipykernel)",
   "language": "python",
   "name": "python3"
  },
  "language_info": {
   "codemirror_mode": {
    "name": "ipython",
    "version": 3
   },
   "file_extension": ".py",
   "mimetype": "text/x-python",
   "name": "python",
   "nbconvert_exporter": "python",
   "pygments_lexer": "ipython3",
   "version": "3.11.7"
  },
  "toc": {
   "base_numbering": 1,
   "nav_menu": {},
   "number_sections": true,
   "sideBar": true,
   "skip_h1_title": true,
   "title_cell": "Содержание",
   "title_sidebar": "",
   "toc_cell": true,
   "toc_position": {},
   "toc_section_display": true,
   "toc_window_display": true
  }
 },
 "nbformat": 4,
 "nbformat_minor": 4
}
