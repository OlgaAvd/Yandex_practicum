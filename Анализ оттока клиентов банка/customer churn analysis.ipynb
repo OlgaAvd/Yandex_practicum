{
 "cells": [
  {
   "cell_type": "markdown",
   "metadata": {
    "toc": true
   },
   "source": [
    "<h1>Содержание<span class=\"tocSkip\"></span></h1>\n",
    "<div class=\"toc\"><ul class=\"toc-item\"><li><span><a href=\"#Материалы\" data-toc-modified-id=\"Материалы-1\"><span class=\"toc-item-num\">1&nbsp;&nbsp;</span>Материалы</a></span></li><li><span><a href=\"#Загрузка-данных-и-импорт-необходимых-библиотек\" data-toc-modified-id=\"Загрузка-данных-и-импорт-необходимых-библиотек-2\"><span class=\"toc-item-num\">2&nbsp;&nbsp;</span>Загрузка данных и импорт необходимых библиотек</a></span></li><li><span><a href=\"#Предобработка-данных\" data-toc-modified-id=\"Предобработка-данных-3\"><span class=\"toc-item-num\">3&nbsp;&nbsp;</span>Предобработка данных</a></span><ul class=\"toc-item\"><li><span><a href=\"#Переименование-столбцов\" data-toc-modified-id=\"Переименование-столбцов-3.1\"><span class=\"toc-item-num\">3.1&nbsp;&nbsp;</span>Переименование столбцов</a></span></li><li><span><a href=\"#Обработка-пропусков\" data-toc-modified-id=\"Обработка-пропусков-3.2\"><span class=\"toc-item-num\">3.2&nbsp;&nbsp;</span>Обработка пропусков</a></span></li><li><span><a href=\"#Проверка-на-явные-и-неявные-дубликаты\" data-toc-modified-id=\"Проверка-на-явные-и-неявные-дубликаты-3.3\"><span class=\"toc-item-num\">3.3&nbsp;&nbsp;</span>Проверка на явные и неявные дубликаты</a></span></li><li><span><a href=\"#Кодирование-переменных\" data-toc-modified-id=\"Кодирование-переменных-3.4\"><span class=\"toc-item-num\">3.4&nbsp;&nbsp;</span>Кодирование переменных</a></span></li></ul></li><li><span><a href=\"#Исследовательский-анализ\" data-toc-modified-id=\"Исследовательский-анализ-4\"><span class=\"toc-item-num\">4&nbsp;&nbsp;</span>Исследовательский анализ</a></span><ul class=\"toc-item\"><li><span><a href=\"#Рассмотрим-категориальные-(дискретные)-признаки\" data-toc-modified-id=\"Рассмотрим-категориальные-(дискретные)-признаки-4.1\"><span class=\"toc-item-num\">4.1&nbsp;&nbsp;</span>Рассмотрим категориальные (дискретные) признаки</a></span></li><li><span><a href=\"#Расмотрим-непрерывные-признаки\" data-toc-modified-id=\"Расмотрим-непрерывные-признаки-4.2\"><span class=\"toc-item-num\">4.2&nbsp;&nbsp;</span>Расмотрим непрерывные признаки</a></span></li><li><span><a href=\"#Корреляция-признаков\" data-toc-modified-id=\"Корреляция-признаков-4.3\"><span class=\"toc-item-num\">4.3&nbsp;&nbsp;</span>Корреляция признаков</a></span></li></ul></li><li><span><a href=\"#Статистический-анализ-и-проверка-гипотез\" data-toc-modified-id=\"Статистический-анализ-и-проверка-гипотез-5\"><span class=\"toc-item-num\">5&nbsp;&nbsp;</span>Статистический анализ и проверка гипотез</a></span><ul class=\"toc-item\"><li><span><a href=\"#Проверка-гипотезы-о-равенстве-среднего-дохода-между-клиентами,-которые-ушли-и-теми,-которые-остались\" data-toc-modified-id=\"Проверка-гипотезы-о-равенстве-среднего-дохода-между-клиентами,-которые-ушли-и-теми,-которые-остались-5.1\"><span class=\"toc-item-num\">5.1&nbsp;&nbsp;</span>Проверка гипотезы о равенстве среднего дохода между клиентами, которые ушли и теми, которые остались</a></span></li><li><span><a href=\"#Проверка-гипотезы-о-равенстве-среднего-возраста-между-клиентами,-которые-ушли-и-теми,-которые-остались\" data-toc-modified-id=\"Проверка-гипотезы-о-равенстве-среднего-возраста-между-клиентами,-которые-ушли-и-теми,-которые-остались-5.2\"><span class=\"toc-item-num\">5.2&nbsp;&nbsp;</span>Проверка гипотезы о равенстве среднего возраста между клиентами, которые ушли и теми, которые остались</a></span></li><li><span><a href=\"#Проверка-гипотезы-о-равенстве-среднего-количества-используемых-банковских-продуктов-между-клиентами,-которые-ушли-и-теми,-которые-остались\" data-toc-modified-id=\"Проверка-гипотезы-о-равенстве-среднего-количества-используемых-банковских-продуктов-между-клиентами,-которые-ушли-и-теми,-которые-остались-5.3\"><span class=\"toc-item-num\">5.3&nbsp;&nbsp;</span>Проверка гипотезы о равенстве среднего количества используемых банковских продуктов между клиентами, которые ушли и теми, которые остались</a></span></li><li><span><a href=\"#Проверка-гипотезы-о-равенстве-в-среднем-количестве-баллов-собственности-между-клиентами,-которые-ушли-и-теми,-которые-остались\" data-toc-modified-id=\"Проверка-гипотезы-о-равенстве-в-среднем-количестве-баллов-собственности-между-клиентами,-которые-ушли-и-теми,-которые-остались-5.4\"><span class=\"toc-item-num\">5.4&nbsp;&nbsp;</span>Проверка гипотезы о равенстве в среднем количестве баллов собственности между клиентами, которые ушли и теми, которые остались</a></span></li></ul></li><li><span><a href=\"#Сегментация-пользователей\" data-toc-modified-id=\"Сегментация-пользователей-6\"><span class=\"toc-item-num\">6&nbsp;&nbsp;</span>Сегментация пользователей</a></span><ul class=\"toc-item\"><li><span><a href=\"#Сегмент-№1\" data-toc-modified-id=\"Сегмент-№1-6.1\"><span class=\"toc-item-num\">6.1&nbsp;&nbsp;</span>Сегмент №1</a></span></li><li><span><a href=\"#Сегмент-№2\" data-toc-modified-id=\"Сегмент-№2-6.2\"><span class=\"toc-item-num\">6.2&nbsp;&nbsp;</span>Сегмент №2</a></span></li><li><span><a href=\"#Сегмент-№3\" data-toc-modified-id=\"Сегмент-№3-6.3\"><span class=\"toc-item-num\">6.3&nbsp;&nbsp;</span>Сегмент №3</a></span></li><li><span><a href=\"#Сегмент-№4\" data-toc-modified-id=\"Сегмент-№4-6.4\"><span class=\"toc-item-num\">6.4&nbsp;&nbsp;</span>Сегмент №4</a></span></li></ul></li><li><span><a href=\"#Приоритизация-сегментов\" data-toc-modified-id=\"Приоритизация-сегментов-7\"><span class=\"toc-item-num\">7&nbsp;&nbsp;</span>Приоритизация сегментов</a></span></li><li><span><a href=\"#Вывод-и-рекомендации\" data-toc-modified-id=\"Вывод-и-рекомендации-8\"><span class=\"toc-item-num\">8&nbsp;&nbsp;</span>Вывод и рекомендации</a></span></li></ul></div>"
   ]
  },
  {
   "cell_type": "markdown",
   "metadata": {},
   "source": [
    "# Банки — Анализ оттока клиентов"
   ]
  },
  {
   "cell_type": "markdown",
   "metadata": {},
   "source": [
    "## Материалы"
   ]
  },
  {
   "cell_type": "markdown",
   "metadata": {},
   "source": [
    "**Презентация:** (https://drive.google.com/file/d/11lzYp-vPlwYIJnXfJgE0Dot0XFKQbPcx/view?usp=sharing)"
   ]
  },
  {
   "cell_type": "markdown",
   "metadata": {},
   "source": [
    "**Цель проекта**\n",
    "\n",
    "Проанализировать клиентов регионального банка и выделить сегменты клиентов, которые склонны уходить из банка.\n",
    "\n",
    "**Входные данные**\n",
    "\n",
    "Датасет содержит данные о клиентах банка «Метанпром». Банк располагается в Ярославле и областных городах: Ростов Великий и Рыбинск.\n",
    "\n",
    "Колонки:\n",
    "- USERID — идентификатор пользователя\n",
    "- score — баллы кредитного скоринга\n",
    "- city — город\n",
    "- gender — пол\n",
    "- age — возраст\n",
    "- equity — количество баллов собственности\n",
    "- balance — баланс на счёте\n",
    "- products — количество продуктов, которыми пользуется клиент\n",
    "- credit_card — есть ли кредитная карта\n",
    "- last_activity — активный клиент\n",
    "- EST_SALARY — оценочный доход клиента\n",
    "- churn — признак оттока\n",
    "\n",
    "**Ход исследования**\n",
    "1. Загрузка данных и импорт необходимых библиотек\n",
    "2. Предобработка данных\n",
    "3. Исследовательский анализ\n",
    "4. Статистический анализ и проверка гипотез\n",
    "5. Сегментация пользователей и их приоритизация\n",
    "6. Вывод и рекомендации\n",
    "7. Презентация"
   ]
  },
  {
   "cell_type": "markdown",
   "metadata": {},
   "source": [
    "## Загрузка данных и импорт необходимых библиотек"
   ]
  },
  {
   "cell_type": "code",
   "execution_count": 1,
   "metadata": {},
   "outputs": [],
   "source": [
    "import pandas as pd\n",
    "import matplotlib.pyplot as plt\n",
    "import seaborn as sns\n",
    "import numpy as np\n",
    "import scipy.stats as st"
   ]
  },
  {
   "cell_type": "code",
   "execution_count": 2,
   "metadata": {},
   "outputs": [
    {
     "data": {
      "text/html": [
       "<div>\n",
       "<style scoped>\n",
       "    .dataframe tbody tr th:only-of-type {\n",
       "        vertical-align: middle;\n",
       "    }\n",
       "\n",
       "    .dataframe tbody tr th {\n",
       "        vertical-align: top;\n",
       "    }\n",
       "\n",
       "    .dataframe thead th {\n",
       "        text-align: right;\n",
       "    }\n",
       "</style>\n",
       "<table border=\"1\" class=\"dataframe\">\n",
       "  <thead>\n",
       "    <tr style=\"text-align: right;\">\n",
       "      <th></th>\n",
       "      <th>USERID</th>\n",
       "      <th>score</th>\n",
       "      <th>city</th>\n",
       "      <th>gender</th>\n",
       "      <th>age</th>\n",
       "      <th>equity</th>\n",
       "      <th>balance</th>\n",
       "      <th>products</th>\n",
       "      <th>credit_card</th>\n",
       "      <th>last_activity</th>\n",
       "      <th>EST_SALARY</th>\n",
       "      <th>churn</th>\n",
       "    </tr>\n",
       "  </thead>\n",
       "  <tbody>\n",
       "    <tr>\n",
       "      <th>0</th>\n",
       "      <td>183012</td>\n",
       "      <td>850.0</td>\n",
       "      <td>Рыбинск</td>\n",
       "      <td>Ж</td>\n",
       "      <td>25.0</td>\n",
       "      <td>1</td>\n",
       "      <td>59214.82</td>\n",
       "      <td>2</td>\n",
       "      <td>0</td>\n",
       "      <td>1</td>\n",
       "      <td>75719.14</td>\n",
       "      <td>1</td>\n",
       "    </tr>\n",
       "    <tr>\n",
       "      <th>1</th>\n",
       "      <td>146556</td>\n",
       "      <td>861.0</td>\n",
       "      <td>Рыбинск</td>\n",
       "      <td>Ж</td>\n",
       "      <td>37.0</td>\n",
       "      <td>5</td>\n",
       "      <td>850594.33</td>\n",
       "      <td>3</td>\n",
       "      <td>1</td>\n",
       "      <td>0</td>\n",
       "      <td>86621.77</td>\n",
       "      <td>0</td>\n",
       "    </tr>\n",
       "    <tr>\n",
       "      <th>2</th>\n",
       "      <td>120722</td>\n",
       "      <td>892.0</td>\n",
       "      <td>Рыбинск</td>\n",
       "      <td>Ж</td>\n",
       "      <td>30.0</td>\n",
       "      <td>0</td>\n",
       "      <td>NaN</td>\n",
       "      <td>1</td>\n",
       "      <td>1</td>\n",
       "      <td>1</td>\n",
       "      <td>107683.34</td>\n",
       "      <td>0</td>\n",
       "    </tr>\n",
       "    <tr>\n",
       "      <th>3</th>\n",
       "      <td>225363</td>\n",
       "      <td>866.0</td>\n",
       "      <td>Ярославль</td>\n",
       "      <td>Ж</td>\n",
       "      <td>51.0</td>\n",
       "      <td>5</td>\n",
       "      <td>1524746.26</td>\n",
       "      <td>2</td>\n",
       "      <td>0</td>\n",
       "      <td>1</td>\n",
       "      <td>174423.53</td>\n",
       "      <td>1</td>\n",
       "    </tr>\n",
       "    <tr>\n",
       "      <th>4</th>\n",
       "      <td>157978</td>\n",
       "      <td>730.0</td>\n",
       "      <td>Ярославль</td>\n",
       "      <td>М</td>\n",
       "      <td>34.0</td>\n",
       "      <td>5</td>\n",
       "      <td>174.00</td>\n",
       "      <td>1</td>\n",
       "      <td>1</td>\n",
       "      <td>0</td>\n",
       "      <td>67353.16</td>\n",
       "      <td>1</td>\n",
       "    </tr>\n",
       "  </tbody>\n",
       "</table>\n",
       "</div>"
      ],
      "text/plain": [
       "   USERID  score       city gender   age  equity     balance  products  \\\n",
       "0  183012  850.0    Рыбинск      Ж  25.0       1    59214.82         2   \n",
       "1  146556  861.0    Рыбинск      Ж  37.0       5   850594.33         3   \n",
       "2  120722  892.0    Рыбинск      Ж  30.0       0         NaN         1   \n",
       "3  225363  866.0  Ярославль      Ж  51.0       5  1524746.26         2   \n",
       "4  157978  730.0  Ярославль      М  34.0       5      174.00         1   \n",
       "\n",
       "   credit_card  last_activity  EST_SALARY  churn  \n",
       "0            0              1    75719.14      1  \n",
       "1            1              0    86621.77      0  \n",
       "2            1              1   107683.34      0  \n",
       "3            0              1   174423.53      1  \n",
       "4            1              0    67353.16      1  "
      ]
     },
     "execution_count": 2,
     "metadata": {},
     "output_type": "execute_result"
    }
   ],
   "source": [
    "try:\n",
    "    df = pd.read_csv('https://code.s3.yandex.net/datasets/bank_scrooge.csv')\n",
    "except:\n",
    "    df = pd.read_csv('/datasets/bank_scrooge.csv')\n",
    "df.head()"
   ]
  },
  {
   "cell_type": "code",
   "execution_count": 3,
   "metadata": {},
   "outputs": [
    {
     "name": "stdout",
     "output_type": "stream",
     "text": [
      "<class 'pandas.core.frame.DataFrame'>\n",
      "RangeIndex: 10000 entries, 0 to 9999\n",
      "Data columns (total 12 columns):\n",
      " #   Column         Non-Null Count  Dtype  \n",
      "---  ------         --------------  -----  \n",
      " 0   USERID         10000 non-null  int64  \n",
      " 1   score          10000 non-null  float64\n",
      " 2   city           10000 non-null  object \n",
      " 3   gender         10000 non-null  object \n",
      " 4   age            9974 non-null   float64\n",
      " 5   equity         10000 non-null  int64  \n",
      " 6   balance        7705 non-null   float64\n",
      " 7   products       10000 non-null  int64  \n",
      " 8   credit_card    10000 non-null  int64  \n",
      " 9   last_activity  10000 non-null  int64  \n",
      " 10  EST_SALARY     10000 non-null  float64\n",
      " 11  churn          10000 non-null  int64  \n",
      "dtypes: float64(4), int64(6), object(2)\n",
      "memory usage: 937.6+ KB\n"
     ]
    }
   ],
   "source": [
    "df.info()"
   ]
  },
  {
   "cell_type": "code",
   "execution_count": 4,
   "metadata": {},
   "outputs": [
    {
     "data": {
      "text/html": [
       "<div>\n",
       "<style scoped>\n",
       "    .dataframe tbody tr th:only-of-type {\n",
       "        vertical-align: middle;\n",
       "    }\n",
       "\n",
       "    .dataframe tbody tr th {\n",
       "        vertical-align: top;\n",
       "    }\n",
       "\n",
       "    .dataframe thead th {\n",
       "        text-align: right;\n",
       "    }\n",
       "</style>\n",
       "<table border=\"1\" class=\"dataframe\">\n",
       "  <thead>\n",
       "    <tr style=\"text-align: right;\">\n",
       "      <th></th>\n",
       "      <th>USERID</th>\n",
       "      <th>score</th>\n",
       "      <th>age</th>\n",
       "      <th>equity</th>\n",
       "      <th>balance</th>\n",
       "      <th>products</th>\n",
       "      <th>credit_card</th>\n",
       "      <th>last_activity</th>\n",
       "      <th>EST_SALARY</th>\n",
       "      <th>churn</th>\n",
       "    </tr>\n",
       "  </thead>\n",
       "  <tbody>\n",
       "    <tr>\n",
       "      <th>count</th>\n",
       "      <td>10000.00000</td>\n",
       "      <td>10000.000000</td>\n",
       "      <td>9974.000000</td>\n",
       "      <td>10000.000000</td>\n",
       "      <td>7.705000e+03</td>\n",
       "      <td>10000.000000</td>\n",
       "      <td>10000.000000</td>\n",
       "      <td>10000.000000</td>\n",
       "      <td>1.000000e+04</td>\n",
       "      <td>10000.000000</td>\n",
       "    </tr>\n",
       "    <tr>\n",
       "      <th>mean</th>\n",
       "      <td>171814.71260</td>\n",
       "      <td>848.699400</td>\n",
       "      <td>42.734409</td>\n",
       "      <td>2.627600</td>\n",
       "      <td>8.277943e+05</td>\n",
       "      <td>1.870100</td>\n",
       "      <td>0.680400</td>\n",
       "      <td>0.523500</td>\n",
       "      <td>1.478669e+05</td>\n",
       "      <td>0.182000</td>\n",
       "    </tr>\n",
       "    <tr>\n",
       "      <th>std</th>\n",
       "      <td>33708.23812</td>\n",
       "      <td>65.448519</td>\n",
       "      <td>12.179971</td>\n",
       "      <td>1.980836</td>\n",
       "      <td>1.980614e+06</td>\n",
       "      <td>0.792647</td>\n",
       "      <td>0.466345</td>\n",
       "      <td>0.499472</td>\n",
       "      <td>1.393885e+05</td>\n",
       "      <td>0.385864</td>\n",
       "    </tr>\n",
       "    <tr>\n",
       "      <th>min</th>\n",
       "      <td>94561.00000</td>\n",
       "      <td>642.000000</td>\n",
       "      <td>18.000000</td>\n",
       "      <td>0.000000</td>\n",
       "      <td>0.000000e+00</td>\n",
       "      <td>0.000000</td>\n",
       "      <td>0.000000</td>\n",
       "      <td>0.000000</td>\n",
       "      <td>2.546300e+03</td>\n",
       "      <td>0.000000</td>\n",
       "    </tr>\n",
       "    <tr>\n",
       "      <th>25%</th>\n",
       "      <td>142810.25000</td>\n",
       "      <td>802.000000</td>\n",
       "      <td>33.000000</td>\n",
       "      <td>0.000000</td>\n",
       "      <td>2.955542e+05</td>\n",
       "      <td>1.000000</td>\n",
       "      <td>0.000000</td>\n",
       "      <td>0.000000</td>\n",
       "      <td>7.525190e+04</td>\n",
       "      <td>0.000000</td>\n",
       "    </tr>\n",
       "    <tr>\n",
       "      <th>50%</th>\n",
       "      <td>172728.00000</td>\n",
       "      <td>853.000000</td>\n",
       "      <td>40.000000</td>\n",
       "      <td>3.000000</td>\n",
       "      <td>5.242722e+05</td>\n",
       "      <td>2.000000</td>\n",
       "      <td>1.000000</td>\n",
       "      <td>1.000000</td>\n",
       "      <td>1.196581e+05</td>\n",
       "      <td>0.000000</td>\n",
       "    </tr>\n",
       "    <tr>\n",
       "      <th>75%</th>\n",
       "      <td>201261.75000</td>\n",
       "      <td>900.000000</td>\n",
       "      <td>51.000000</td>\n",
       "      <td>4.000000</td>\n",
       "      <td>9.807058e+05</td>\n",
       "      <td>2.000000</td>\n",
       "      <td>1.000000</td>\n",
       "      <td>1.000000</td>\n",
       "      <td>1.745005e+05</td>\n",
       "      <td>0.000000</td>\n",
       "    </tr>\n",
       "    <tr>\n",
       "      <th>max</th>\n",
       "      <td>229145.00000</td>\n",
       "      <td>1000.000000</td>\n",
       "      <td>86.000000</td>\n",
       "      <td>9.000000</td>\n",
       "      <td>1.191136e+08</td>\n",
       "      <td>5.000000</td>\n",
       "      <td>1.000000</td>\n",
       "      <td>1.000000</td>\n",
       "      <td>1.395064e+06</td>\n",
       "      <td>1.000000</td>\n",
       "    </tr>\n",
       "  </tbody>\n",
       "</table>\n",
       "</div>"
      ],
      "text/plain": [
       "             USERID         score          age        equity       balance  \\\n",
       "count   10000.00000  10000.000000  9974.000000  10000.000000  7.705000e+03   \n",
       "mean   171814.71260    848.699400    42.734409      2.627600  8.277943e+05   \n",
       "std     33708.23812     65.448519    12.179971      1.980836  1.980614e+06   \n",
       "min     94561.00000    642.000000    18.000000      0.000000  0.000000e+00   \n",
       "25%    142810.25000    802.000000    33.000000      0.000000  2.955542e+05   \n",
       "50%    172728.00000    853.000000    40.000000      3.000000  5.242722e+05   \n",
       "75%    201261.75000    900.000000    51.000000      4.000000  9.807058e+05   \n",
       "max    229145.00000   1000.000000    86.000000      9.000000  1.191136e+08   \n",
       "\n",
       "           products   credit_card  last_activity    EST_SALARY         churn  \n",
       "count  10000.000000  10000.000000   10000.000000  1.000000e+04  10000.000000  \n",
       "mean       1.870100      0.680400       0.523500  1.478669e+05      0.182000  \n",
       "std        0.792647      0.466345       0.499472  1.393885e+05      0.385864  \n",
       "min        0.000000      0.000000       0.000000  2.546300e+03      0.000000  \n",
       "25%        1.000000      0.000000       0.000000  7.525190e+04      0.000000  \n",
       "50%        2.000000      1.000000       1.000000  1.196581e+05      0.000000  \n",
       "75%        2.000000      1.000000       1.000000  1.745005e+05      0.000000  \n",
       "max        5.000000      1.000000       1.000000  1.395064e+06      1.000000  "
      ]
     },
     "execution_count": 4,
     "metadata": {},
     "output_type": "execute_result"
    }
   ],
   "source": [
    "df.describe()"
   ]
  },
  {
   "cell_type": "markdown",
   "metadata": {},
   "source": [
    "Загрузили данные. Видим, что у нас 10000 строк, из которых в столбце \"Age\" есть пропуск в 26 строках, в столбце \"balance\" - в 2295 строках. Типы данных корректные, только после обработки пропусков в возрасте заменим на целый тип. \n",
    "\n",
    "Также видим, что:\n",
    "- баллы кредитного скоринга от 642 до 1000\n",
    "- возраст клиентов от 18 до 86 лет\n",
    "- количество баллов собственности от 0 до 9 (медианное значение 3)\n",
    "- количество продуктов, которыми пользуется клиент от 0 до 5 (медианное значение 2), изучим далее почему 0."
   ]
  },
  {
   "cell_type": "markdown",
   "metadata": {},
   "source": [
    "## Предобработка данных"
   ]
  },
  {
   "cell_type": "markdown",
   "metadata": {},
   "source": [
    "### Переименование столбцов"
   ]
  },
  {
   "cell_type": "code",
   "execution_count": 5,
   "metadata": {},
   "outputs": [],
   "source": [
    "df = df.rename(columns = {'USERID':'user_id', 'EST_SALARY':'est_salary'})"
   ]
  },
  {
   "cell_type": "markdown",
   "metadata": {},
   "source": [
    "### Обработка пропусков"
   ]
  },
  {
   "cell_type": "code",
   "execution_count": 6,
   "metadata": {},
   "outputs": [
    {
     "data": {
      "text/html": [
       "<div>\n",
       "<style scoped>\n",
       "    .dataframe tbody tr th:only-of-type {\n",
       "        vertical-align: middle;\n",
       "    }\n",
       "\n",
       "    .dataframe tbody tr th {\n",
       "        vertical-align: top;\n",
       "    }\n",
       "\n",
       "    .dataframe thead th {\n",
       "        text-align: right;\n",
       "    }\n",
       "</style>\n",
       "<table border=\"1\" class=\"dataframe\">\n",
       "  <thead>\n",
       "    <tr style=\"text-align: right;\">\n",
       "      <th></th>\n",
       "      <th>user_id</th>\n",
       "      <th>score</th>\n",
       "      <th>city</th>\n",
       "      <th>gender</th>\n",
       "      <th>age</th>\n",
       "      <th>equity</th>\n",
       "      <th>balance</th>\n",
       "      <th>products</th>\n",
       "      <th>credit_card</th>\n",
       "      <th>last_activity</th>\n",
       "      <th>est_salary</th>\n",
       "      <th>churn</th>\n",
       "    </tr>\n",
       "  </thead>\n",
       "  <tbody>\n",
       "    <tr>\n",
       "      <th>8957</th>\n",
       "      <td>147837</td>\n",
       "      <td>962.0</td>\n",
       "      <td>Рыбинск</td>\n",
       "      <td>Ж</td>\n",
       "      <td>79.0</td>\n",
       "      <td>3</td>\n",
       "      <td>NaN</td>\n",
       "      <td>0</td>\n",
       "      <td>0</td>\n",
       "      <td>0</td>\n",
       "      <td>25063.96</td>\n",
       "      <td>1</td>\n",
       "    </tr>\n",
       "  </tbody>\n",
       "</table>\n",
       "</div>"
      ],
      "text/plain": [
       "      user_id  score     city gender   age  equity  balance  products  \\\n",
       "8957   147837  962.0  Рыбинск      Ж  79.0       3      NaN         0   \n",
       "\n",
       "      credit_card  last_activity  est_salary  churn  \n",
       "8957            0              0    25063.96      1  "
      ]
     },
     "execution_count": 6,
     "metadata": {},
     "output_type": "execute_result"
    }
   ],
   "source": [
    "df[df['products']==0]"
   ]
  },
  {
   "cell_type": "markdown",
   "metadata": {},
   "source": [
    "Если человек является клиентом банка, то он должен пользоваться минимум 1 его продуктом. В нашем случае, человек не пользуется ни одним продуктом, неактивный и ушел. Всего 1 строка, удалим ее."
   ]
  },
  {
   "cell_type": "code",
   "execution_count": 7,
   "metadata": {},
   "outputs": [
    {
     "name": "stdout",
     "output_type": "stream",
     "text": [
      "<class 'pandas.core.frame.DataFrame'>\n",
      "Int64Index: 9999 entries, 0 to 9999\n",
      "Data columns (total 12 columns):\n",
      " #   Column         Non-Null Count  Dtype  \n",
      "---  ------         --------------  -----  \n",
      " 0   user_id        9999 non-null   int64  \n",
      " 1   score          9999 non-null   float64\n",
      " 2   city           9999 non-null   object \n",
      " 3   gender         9999 non-null   object \n",
      " 4   age            9973 non-null   float64\n",
      " 5   equity         9999 non-null   int64  \n",
      " 6   balance        7705 non-null   float64\n",
      " 7   products       9999 non-null   int64  \n",
      " 8   credit_card    9999 non-null   int64  \n",
      " 9   last_activity  9999 non-null   int64  \n",
      " 10  est_salary     9999 non-null   float64\n",
      " 11  churn          9999 non-null   int64  \n",
      "dtypes: float64(4), int64(6), object(2)\n",
      "memory usage: 1015.5+ KB\n"
     ]
    }
   ],
   "source": [
    "df = df[df['products'] != 0]\n",
    "df.info()"
   ]
  },
  {
   "cell_type": "code",
   "execution_count": 8,
   "metadata": {},
   "outputs": [
    {
     "data": {
      "text/html": [
       "<style  type=\"text/css\" >\n",
       "#T_89cb4_row0_col0,#T_89cb4_row1_col0,#T_89cb4_row2_col0,#T_89cb4_row3_col0,#T_89cb4_row5_col0,#T_89cb4_row7_col0,#T_89cb4_row8_col0,#T_89cb4_row9_col0,#T_89cb4_row10_col0,#T_89cb4_row11_col0{\n",
       "            background-color:  #3b4cc0;\n",
       "            color:  #f1f1f1;\n",
       "        }#T_89cb4_row4_col0{\n",
       "            background-color:  #3e51c5;\n",
       "            color:  #f1f1f1;\n",
       "        }#T_89cb4_row6_col0{\n",
       "            background-color:  #b40426;\n",
       "            color:  #f1f1f1;\n",
       "        }</style><table id=\"T_89cb4_\" ><thead>    <tr>        <th class=\"blank level0\" ></th>        <th class=\"col_heading level0 col0\" >0</th>    </tr></thead><tbody>\n",
       "                <tr>\n",
       "                        <th id=\"T_89cb4_level0_row0\" class=\"row_heading level0 row0\" >user_id</th>\n",
       "                        <td id=\"T_89cb4_row0_col0\" class=\"data row0 col0\" >0.000000</td>\n",
       "            </tr>\n",
       "            <tr>\n",
       "                        <th id=\"T_89cb4_level0_row1\" class=\"row_heading level0 row1\" >score</th>\n",
       "                        <td id=\"T_89cb4_row1_col0\" class=\"data row1 col0\" >0.000000</td>\n",
       "            </tr>\n",
       "            <tr>\n",
       "                        <th id=\"T_89cb4_level0_row2\" class=\"row_heading level0 row2\" >city</th>\n",
       "                        <td id=\"T_89cb4_row2_col0\" class=\"data row2 col0\" >0.000000</td>\n",
       "            </tr>\n",
       "            <tr>\n",
       "                        <th id=\"T_89cb4_level0_row3\" class=\"row_heading level0 row3\" >gender</th>\n",
       "                        <td id=\"T_89cb4_row3_col0\" class=\"data row3 col0\" >0.000000</td>\n",
       "            </tr>\n",
       "            <tr>\n",
       "                        <th id=\"T_89cb4_level0_row4\" class=\"row_heading level0 row4\" >age</th>\n",
       "                        <td id=\"T_89cb4_row4_col0\" class=\"data row4 col0\" >0.300000</td>\n",
       "            </tr>\n",
       "            <tr>\n",
       "                        <th id=\"T_89cb4_level0_row5\" class=\"row_heading level0 row5\" >equity</th>\n",
       "                        <td id=\"T_89cb4_row5_col0\" class=\"data row5 col0\" >0.000000</td>\n",
       "            </tr>\n",
       "            <tr>\n",
       "                        <th id=\"T_89cb4_level0_row6\" class=\"row_heading level0 row6\" >balance</th>\n",
       "                        <td id=\"T_89cb4_row6_col0\" class=\"data row6 col0\" >22.900000</td>\n",
       "            </tr>\n",
       "            <tr>\n",
       "                        <th id=\"T_89cb4_level0_row7\" class=\"row_heading level0 row7\" >products</th>\n",
       "                        <td id=\"T_89cb4_row7_col0\" class=\"data row7 col0\" >0.000000</td>\n",
       "            </tr>\n",
       "            <tr>\n",
       "                        <th id=\"T_89cb4_level0_row8\" class=\"row_heading level0 row8\" >credit_card</th>\n",
       "                        <td id=\"T_89cb4_row8_col0\" class=\"data row8 col0\" >0.000000</td>\n",
       "            </tr>\n",
       "            <tr>\n",
       "                        <th id=\"T_89cb4_level0_row9\" class=\"row_heading level0 row9\" >last_activity</th>\n",
       "                        <td id=\"T_89cb4_row9_col0\" class=\"data row9 col0\" >0.000000</td>\n",
       "            </tr>\n",
       "            <tr>\n",
       "                        <th id=\"T_89cb4_level0_row10\" class=\"row_heading level0 row10\" >est_salary</th>\n",
       "                        <td id=\"T_89cb4_row10_col0\" class=\"data row10 col0\" >0.000000</td>\n",
       "            </tr>\n",
       "            <tr>\n",
       "                        <th id=\"T_89cb4_level0_row11\" class=\"row_heading level0 row11\" >churn</th>\n",
       "                        <td id=\"T_89cb4_row11_col0\" class=\"data row11 col0\" >0.000000</td>\n",
       "            </tr>\n",
       "    </tbody></table>"
      ],
      "text/plain": [
       "<pandas.io.formats.style.Styler at 0x7f26507703d0>"
      ]
     },
     "execution_count": 8,
     "metadata": {},
     "output_type": "execute_result"
    }
   ],
   "source": [
    "pd.DataFrame(round(df.isna().mean()*100,1)).style.background_gradient('coolwarm')"
   ]
  },
  {
   "cell_type": "markdown",
   "metadata": {},
   "source": [
    "Пропусков в столбце с возрастом всего 26 (менее 1%), поэтому можем удалить эти строки и переведем в тип \"int\""
   ]
  },
  {
   "cell_type": "code",
   "execution_count": 9,
   "metadata": {},
   "outputs": [
    {
     "name": "stdout",
     "output_type": "stream",
     "text": [
      "<class 'pandas.core.frame.DataFrame'>\n",
      "Int64Index: 9973 entries, 0 to 9999\n",
      "Data columns (total 12 columns):\n",
      " #   Column         Non-Null Count  Dtype  \n",
      "---  ------         --------------  -----  \n",
      " 0   user_id        9973 non-null   int64  \n",
      " 1   score          9973 non-null   float64\n",
      " 2   city           9973 non-null   object \n",
      " 3   gender         9973 non-null   object \n",
      " 4   age            9973 non-null   int64  \n",
      " 5   equity         9973 non-null   int64  \n",
      " 6   balance        7695 non-null   float64\n",
      " 7   products       9973 non-null   int64  \n",
      " 8   credit_card    9973 non-null   int64  \n",
      " 9   last_activity  9973 non-null   int64  \n",
      " 10  est_salary     9973 non-null   float64\n",
      " 11  churn          9973 non-null   int64  \n",
      "dtypes: float64(3), int64(7), object(2)\n",
      "memory usage: 1012.9+ KB\n"
     ]
    }
   ],
   "source": [
    "df = df.dropna(subset=['age'])\n",
    "df['age'] = df['age'].astype('int')\n",
    "df.info()"
   ]
  },
  {
   "cell_type": "code",
   "execution_count": 10,
   "metadata": {},
   "outputs": [
    {
     "data": {
      "text/html": [
       "<div>\n",
       "<style scoped>\n",
       "    .dataframe tbody tr th:only-of-type {\n",
       "        vertical-align: middle;\n",
       "    }\n",
       "\n",
       "    .dataframe tbody tr th {\n",
       "        vertical-align: top;\n",
       "    }\n",
       "\n",
       "    .dataframe thead th {\n",
       "        text-align: right;\n",
       "    }\n",
       "</style>\n",
       "<table border=\"1\" class=\"dataframe\">\n",
       "  <thead>\n",
       "    <tr style=\"text-align: right;\">\n",
       "      <th></th>\n",
       "      <th>user_id</th>\n",
       "      <th>score</th>\n",
       "      <th>city</th>\n",
       "      <th>gender</th>\n",
       "      <th>age</th>\n",
       "      <th>equity</th>\n",
       "      <th>balance</th>\n",
       "      <th>products</th>\n",
       "      <th>credit_card</th>\n",
       "      <th>last_activity</th>\n",
       "      <th>est_salary</th>\n",
       "      <th>churn</th>\n",
       "      <th>flag</th>\n",
       "    </tr>\n",
       "  </thead>\n",
       "  <tbody>\n",
       "    <tr>\n",
       "      <th>0</th>\n",
       "      <td>183012</td>\n",
       "      <td>850.0</td>\n",
       "      <td>Рыбинск</td>\n",
       "      <td>Ж</td>\n",
       "      <td>25</td>\n",
       "      <td>1</td>\n",
       "      <td>59214.82</td>\n",
       "      <td>2</td>\n",
       "      <td>0</td>\n",
       "      <td>1</td>\n",
       "      <td>75719.14</td>\n",
       "      <td>1</td>\n",
       "      <td>0</td>\n",
       "    </tr>\n",
       "    <tr>\n",
       "      <th>1</th>\n",
       "      <td>146556</td>\n",
       "      <td>861.0</td>\n",
       "      <td>Рыбинск</td>\n",
       "      <td>Ж</td>\n",
       "      <td>37</td>\n",
       "      <td>5</td>\n",
       "      <td>850594.33</td>\n",
       "      <td>3</td>\n",
       "      <td>1</td>\n",
       "      <td>0</td>\n",
       "      <td>86621.77</td>\n",
       "      <td>0</td>\n",
       "      <td>0</td>\n",
       "    </tr>\n",
       "    <tr>\n",
       "      <th>2</th>\n",
       "      <td>120722</td>\n",
       "      <td>892.0</td>\n",
       "      <td>Рыбинск</td>\n",
       "      <td>Ж</td>\n",
       "      <td>30</td>\n",
       "      <td>0</td>\n",
       "      <td>NaN</td>\n",
       "      <td>1</td>\n",
       "      <td>1</td>\n",
       "      <td>1</td>\n",
       "      <td>107683.34</td>\n",
       "      <td>0</td>\n",
       "      <td>1</td>\n",
       "    </tr>\n",
       "    <tr>\n",
       "      <th>3</th>\n",
       "      <td>225363</td>\n",
       "      <td>866.0</td>\n",
       "      <td>Ярославль</td>\n",
       "      <td>Ж</td>\n",
       "      <td>51</td>\n",
       "      <td>5</td>\n",
       "      <td>1524746.26</td>\n",
       "      <td>2</td>\n",
       "      <td>0</td>\n",
       "      <td>1</td>\n",
       "      <td>174423.53</td>\n",
       "      <td>1</td>\n",
       "      <td>0</td>\n",
       "    </tr>\n",
       "    <tr>\n",
       "      <th>4</th>\n",
       "      <td>157978</td>\n",
       "      <td>730.0</td>\n",
       "      <td>Ярославль</td>\n",
       "      <td>М</td>\n",
       "      <td>34</td>\n",
       "      <td>5</td>\n",
       "      <td>174.00</td>\n",
       "      <td>1</td>\n",
       "      <td>1</td>\n",
       "      <td>0</td>\n",
       "      <td>67353.16</td>\n",
       "      <td>1</td>\n",
       "      <td>0</td>\n",
       "    </tr>\n",
       "  </tbody>\n",
       "</table>\n",
       "</div>"
      ],
      "text/plain": [
       "   user_id  score       city gender  age  equity     balance  products  \\\n",
       "0   183012  850.0    Рыбинск      Ж   25       1    59214.82         2   \n",
       "1   146556  861.0    Рыбинск      Ж   37       5   850594.33         3   \n",
       "2   120722  892.0    Рыбинск      Ж   30       0         NaN         1   \n",
       "3   225363  866.0  Ярославль      Ж   51       5  1524746.26         2   \n",
       "4   157978  730.0  Ярославль      М   34       5      174.00         1   \n",
       "\n",
       "   credit_card  last_activity  est_salary  churn  flag  \n",
       "0            0              1    75719.14      1     0  \n",
       "1            1              0    86621.77      0     0  \n",
       "2            1              1   107683.34      0     1  \n",
       "3            0              1   174423.53      1     0  \n",
       "4            1              0    67353.16      1     0  "
      ]
     },
     "execution_count": 10,
     "metadata": {},
     "output_type": "execute_result"
    }
   ],
   "source": [
    "df['flag'] = df['balance'].isna().astype('int')\n",
    "df.head()"
   ]
  },
  {
   "cell_type": "code",
   "execution_count": 11,
   "metadata": {},
   "outputs": [
    {
     "data": {
      "text/html": [
       "<div>\n",
       "<style scoped>\n",
       "    .dataframe tbody tr th:only-of-type {\n",
       "        vertical-align: middle;\n",
       "    }\n",
       "\n",
       "    .dataframe tbody tr th {\n",
       "        vertical-align: top;\n",
       "    }\n",
       "\n",
       "    .dataframe thead th {\n",
       "        text-align: right;\n",
       "    }\n",
       "</style>\n",
       "<table border=\"1\" class=\"dataframe\">\n",
       "  <thead>\n",
       "    <tr style=\"text-align: right;\">\n",
       "      <th></th>\n",
       "      <th>0</th>\n",
       "      <th>1</th>\n",
       "    </tr>\n",
       "  </thead>\n",
       "  <tbody>\n",
       "    <tr>\n",
       "      <th>flag</th>\n",
       "      <td>0.000000</td>\n",
       "      <td>1.000000</td>\n",
       "    </tr>\n",
       "    <tr>\n",
       "      <th>Ср.зарплата</th>\n",
       "      <td>124520.394264</td>\n",
       "      <td>226433.776313</td>\n",
       "    </tr>\n",
       "    <tr>\n",
       "      <th>Ср.возраст</th>\n",
       "      <td>42.924366</td>\n",
       "      <td>42.076822</td>\n",
       "    </tr>\n",
       "    <tr>\n",
       "      <th>Ср.балл кредитного скоринга</th>\n",
       "      <td>843.744120</td>\n",
       "      <td>865.314750</td>\n",
       "    </tr>\n",
       "    <tr>\n",
       "      <th>Медианное кол-во продуктов</th>\n",
       "      <td>2.000000</td>\n",
       "      <td>1.000000</td>\n",
       "    </tr>\n",
       "    <tr>\n",
       "      <th>Медианное кол-во собст-сти</th>\n",
       "      <td>4.000000</td>\n",
       "      <td>0.000000</td>\n",
       "    </tr>\n",
       "  </tbody>\n",
       "</table>\n",
       "</div>"
      ],
      "text/plain": [
       "                                         0              1\n",
       "flag                              0.000000       1.000000\n",
       "Ср.зарплата                  124520.394264  226433.776313\n",
       "Ср.возраст                       42.924366      42.076822\n",
       "Ср.балл кредитного скоринга     843.744120     865.314750\n",
       "Медианное кол-во продуктов        2.000000       1.000000\n",
       "Медианное кол-во собст-сти        4.000000       0.000000"
      ]
     },
     "execution_count": 11,
     "metadata": {},
     "output_type": "execute_result"
    }
   ],
   "source": [
    "df_flag = (\n",
    "    df.groupby('flag').agg({'est_salary':'mean', \n",
    "                            'age':'mean',\n",
    "                            'score':'mean',\n",
    "                            'products':'median', \n",
    "                            'equity':'median'}).rename(columns={'est_salary':'Ср.зарплата',\n",
    "                                                                'age':'Ср.возраст',\n",
    "                                                                'score':'Ср.балл кредитного скоринга',\n",
    "                                                                'products':'Медианное кол-во продуктов',\n",
    "                                                                'equity':'Медианное кол-во собст-сти'})\n",
    "    .reset_index().T\n",
    ")\n",
    "df_flag"
   ]
  },
  {
   "cell_type": "code",
   "execution_count": 12,
   "metadata": {},
   "outputs": [
    {
     "data": {
      "text/plain": [
       "flag  churn\n",
       "0     0        5889\n",
       "      1        1806\n",
       "1     0        2266\n",
       "      1          12\n",
       "Name: churn, dtype: int64"
      ]
     },
     "execution_count": 12,
     "metadata": {},
     "output_type": "execute_result"
    }
   ],
   "source": [
    "df.groupby('flag')['churn'].value_counts()"
   ]
  },
  {
   "cell_type": "code",
   "execution_count": 13,
   "metadata": {},
   "outputs": [
    {
     "data": {
      "image/png": "[encoded data removed]",
      "text/plain": [
       "<Figure size 1080x720 with 2 Axes>"
      ]
     },
     "metadata": {
      "needs_background": "light"
     },
     "output_type": "display_data"
    }
   ],
   "source": [
    "plt.figure(figsize=(15,10))\n",
    "sns.heatmap (df.drop(columns=['user_id']).fillna(0).corr()[['flag']], annot=True, cmap='coolwarm', center=0, linewidths=1);\n",
    "plt.title('Матрица корреляций')\n",
    "plt.show()"
   ]
  },
  {
   "cell_type": "markdown",
   "metadata": {},
   "source": [
    "Мы установили флаг, отвечающий за пропуск в столбце с балансом (1 - если значение пропущено, 0 - если нет). И видим, что в строках с пропущенным балансом:\n",
    "- ср.зарплата выше\n",
    "- ср.возраст практически не отличается\n",
    "- ср.балл кредитного скоринга чуть выше\n",
    "- люди пользуются чуть меньшим количеством продуктов\n",
    "- имеют меньшее кол-во баллов собственности\n",
    "\n",
    "Также видим, что в строках с пропущенными значениями баланса всего 12 чел ушли, что не подтверждает идею о том, что пропуски связаны с тем, что клиент ушел.\n",
    "\n",
    "Убедились, что наш флаг, отвечающий за пропуски в балансе, коррелирует со многими параметрами, т.е. относится к категории MNAR *(Missing Not At Random / Отсутствуют не случайно) - пропуски зависят от данных, без дополнительного обоснования их нельзя отбрасывать или заполнять одним значением, т.к. это приведет к заметным искажениям*"
   ]
  },
  {
   "cell_type": "markdown",
   "metadata": {},
   "source": [
    "### Проверка на явные и неявные дубликаты"
   ]
  },
  {
   "cell_type": "code",
   "execution_count": 14,
   "metadata": {},
   "outputs": [
    {
     "data": {
      "text/plain": [
       "0"
      ]
     },
     "execution_count": 14,
     "metadata": {},
     "output_type": "execute_result"
    }
   ],
   "source": [
    "df.duplicated().sum()"
   ]
  },
  {
   "cell_type": "code",
   "execution_count": 15,
   "metadata": {},
   "outputs": [
    {
     "data": {
      "text/plain": [
       "100"
      ]
     },
     "execution_count": 15,
     "metadata": {},
     "output_type": "execute_result"
    }
   ],
   "source": [
    "df.duplicated(subset='user_id', keep=False).sum()"
   ]
  },
  {
   "cell_type": "code",
   "execution_count": 16,
   "metadata": {},
   "outputs": [
    {
     "data": {
      "text/plain": [
       "0"
      ]
     },
     "execution_count": 16,
     "metadata": {},
     "output_type": "execute_result"
    }
   ],
   "source": [
    "df.duplicated(subset=['user_id', 'city'], keep=False).sum()"
   ]
  },
  {
   "cell_type": "code",
   "execution_count": 17,
   "metadata": {},
   "outputs": [
    {
     "data": {
      "text/plain": [
       "36"
      ]
     },
     "execution_count": 17,
     "metadata": {},
     "output_type": "execute_result"
    }
   ],
   "source": [
    "df.duplicated(subset=['user_id', 'gender'], keep=False).sum()"
   ]
  },
  {
   "cell_type": "code",
   "execution_count": 18,
   "metadata": {},
   "outputs": [
    {
     "data": {
      "text/plain": [
       "10"
      ]
     },
     "execution_count": 18,
     "metadata": {},
     "output_type": "execute_result"
    }
   ],
   "source": [
    "df.duplicated(subset=['user_id', 'age'], keep=False).sum()"
   ]
  },
  {
   "cell_type": "code",
   "execution_count": 19,
   "metadata": {},
   "outputs": [
    {
     "data": {
      "text/plain": [
       "0"
      ]
     },
     "execution_count": 19,
     "metadata": {},
     "output_type": "execute_result"
    }
   ],
   "source": [
    "df.duplicated(subset=['user_id', 'score'], keep=False).sum()"
   ]
  },
  {
   "cell_type": "code",
   "execution_count": 20,
   "metadata": {},
   "outputs": [
    {
     "data": {
      "text/plain": [
       "4"
      ]
     },
     "execution_count": 20,
     "metadata": {},
     "output_type": "execute_result"
    }
   ],
   "source": [
    "df.duplicated(subset=['user_id', 'gender', 'age'], keep=False).sum()"
   ]
  },
  {
   "cell_type": "code",
   "execution_count": 21,
   "metadata": {},
   "outputs": [
    {
     "data": {
      "text/html": [
       "<div>\n",
       "<style scoped>\n",
       "    .dataframe tbody tr th:only-of-type {\n",
       "        vertical-align: middle;\n",
       "    }\n",
       "\n",
       "    .dataframe tbody tr th {\n",
       "        vertical-align: top;\n",
       "    }\n",
       "\n",
       "    .dataframe thead th {\n",
       "        text-align: right;\n",
       "    }\n",
       "</style>\n",
       "<table border=\"1\" class=\"dataframe\">\n",
       "  <thead>\n",
       "    <tr style=\"text-align: right;\">\n",
       "      <th></th>\n",
       "      <th>user_id</th>\n",
       "      <th>score</th>\n",
       "      <th>city</th>\n",
       "      <th>gender</th>\n",
       "      <th>age</th>\n",
       "      <th>equity</th>\n",
       "      <th>balance</th>\n",
       "      <th>products</th>\n",
       "      <th>credit_card</th>\n",
       "      <th>last_activity</th>\n",
       "      <th>est_salary</th>\n",
       "      <th>churn</th>\n",
       "      <th>flag</th>\n",
       "    </tr>\n",
       "  </thead>\n",
       "  <tbody>\n",
       "    <tr>\n",
       "      <th>3274</th>\n",
       "      <td>155765</td>\n",
       "      <td>863.0</td>\n",
       "      <td>Ярославль</td>\n",
       "      <td>М</td>\n",
       "      <td>30</td>\n",
       "      <td>5</td>\n",
       "      <td>1036114.50</td>\n",
       "      <td>5</td>\n",
       "      <td>1</td>\n",
       "      <td>1</td>\n",
       "      <td>150744.50</td>\n",
       "      <td>1</td>\n",
       "      <td>0</td>\n",
       "    </tr>\n",
       "    <tr>\n",
       "      <th>5197</th>\n",
       "      <td>155765</td>\n",
       "      <td>923.0</td>\n",
       "      <td>Рыбинск</td>\n",
       "      <td>М</td>\n",
       "      <td>30</td>\n",
       "      <td>0</td>\n",
       "      <td>NaN</td>\n",
       "      <td>1</td>\n",
       "      <td>1</td>\n",
       "      <td>1</td>\n",
       "      <td>120296.60</td>\n",
       "      <td>0</td>\n",
       "      <td>1</td>\n",
       "    </tr>\n",
       "    <tr>\n",
       "      <th>8205</th>\n",
       "      <td>227795</td>\n",
       "      <td>840.0</td>\n",
       "      <td>Рыбинск</td>\n",
       "      <td>М</td>\n",
       "      <td>34</td>\n",
       "      <td>2</td>\n",
       "      <td>350768.03</td>\n",
       "      <td>1</td>\n",
       "      <td>1</td>\n",
       "      <td>0</td>\n",
       "      <td>102036.14</td>\n",
       "      <td>1</td>\n",
       "      <td>0</td>\n",
       "    </tr>\n",
       "    <tr>\n",
       "      <th>8497</th>\n",
       "      <td>227795</td>\n",
       "      <td>839.0</td>\n",
       "      <td>Ярославль</td>\n",
       "      <td>М</td>\n",
       "      <td>34</td>\n",
       "      <td>2</td>\n",
       "      <td>326593.14</td>\n",
       "      <td>2</td>\n",
       "      <td>1</td>\n",
       "      <td>0</td>\n",
       "      <td>103314.92</td>\n",
       "      <td>0</td>\n",
       "      <td>0</td>\n",
       "    </tr>\n",
       "  </tbody>\n",
       "</table>\n",
       "</div>"
      ],
      "text/plain": [
       "      user_id  score       city gender  age  equity     balance  products  \\\n",
       "3274   155765  863.0  Ярославль      М   30       5  1036114.50         5   \n",
       "5197   155765  923.0    Рыбинск      М   30       0         NaN         1   \n",
       "8205   227795  840.0    Рыбинск      М   34       2   350768.03         1   \n",
       "8497   227795  839.0  Ярославль      М   34       2   326593.14         2   \n",
       "\n",
       "      credit_card  last_activity  est_salary  churn  flag  \n",
       "3274            1              1   150744.50      1     0  \n",
       "5197            1              1   120296.60      0     1  \n",
       "8205            1              0   102036.14      1     0  \n",
       "8497            1              0   103314.92      0     0  "
      ]
     },
     "execution_count": 21,
     "metadata": {},
     "output_type": "execute_result"
    }
   ],
   "source": [
    "df[df.duplicated(subset=['user_id', 'gender', 'age'], keep=False)]"
   ]
  },
  {
   "cell_type": "code",
   "execution_count": 22,
   "metadata": {},
   "outputs": [
    {
     "data": {
      "text/html": [
       "<div>\n",
       "<style scoped>\n",
       "    .dataframe tbody tr th:only-of-type {\n",
       "        vertical-align: middle;\n",
       "    }\n",
       "\n",
       "    .dataframe tbody tr th {\n",
       "        vertical-align: top;\n",
       "    }\n",
       "\n",
       "    .dataframe thead th {\n",
       "        text-align: right;\n",
       "    }\n",
       "</style>\n",
       "<table border=\"1\" class=\"dataframe\">\n",
       "  <thead>\n",
       "    <tr style=\"text-align: right;\">\n",
       "      <th></th>\n",
       "      <th>user_id</th>\n",
       "      <th>score</th>\n",
       "      <th>city</th>\n",
       "      <th>gender</th>\n",
       "      <th>age</th>\n",
       "      <th>equity</th>\n",
       "      <th>balance</th>\n",
       "      <th>products</th>\n",
       "      <th>credit_card</th>\n",
       "      <th>last_activity</th>\n",
       "      <th>est_salary</th>\n",
       "      <th>churn</th>\n",
       "      <th>flag</th>\n",
       "    </tr>\n",
       "  </thead>\n",
       "  <tbody>\n",
       "    <tr>\n",
       "      <th>58</th>\n",
       "      <td>164676</td>\n",
       "      <td>860.0</td>\n",
       "      <td>Ярославль</td>\n",
       "      <td>М</td>\n",
       "      <td>37</td>\n",
       "      <td>5</td>\n",
       "      <td>648594.03</td>\n",
       "      <td>2</td>\n",
       "      <td>1</td>\n",
       "      <td>1</td>\n",
       "      <td>213586.86</td>\n",
       "      <td>1</td>\n",
       "      <td>0</td>\n",
       "    </tr>\n",
       "    <tr>\n",
       "      <th>150</th>\n",
       "      <td>185748</td>\n",
       "      <td>850.0</td>\n",
       "      <td>Рыбинск</td>\n",
       "      <td>М</td>\n",
       "      <td>36</td>\n",
       "      <td>5</td>\n",
       "      <td>1203376.67</td>\n",
       "      <td>2</td>\n",
       "      <td>0</td>\n",
       "      <td>1</td>\n",
       "      <td>89401.82</td>\n",
       "      <td>1</td>\n",
       "      <td>0</td>\n",
       "    </tr>\n",
       "    <tr>\n",
       "      <th>161</th>\n",
       "      <td>197364</td>\n",
       "      <td>928.0</td>\n",
       "      <td>Рыбинск</td>\n",
       "      <td>Ж</td>\n",
       "      <td>53</td>\n",
       "      <td>6</td>\n",
       "      <td>1347183.86</td>\n",
       "      <td>2</td>\n",
       "      <td>0</td>\n",
       "      <td>1</td>\n",
       "      <td>168189.49</td>\n",
       "      <td>1</td>\n",
       "      <td>0</td>\n",
       "    </tr>\n",
       "    <tr>\n",
       "      <th>231</th>\n",
       "      <td>190253</td>\n",
       "      <td>823.0</td>\n",
       "      <td>Рыбинск</td>\n",
       "      <td>М</td>\n",
       "      <td>37</td>\n",
       "      <td>4</td>\n",
       "      <td>373348.39</td>\n",
       "      <td>2</td>\n",
       "      <td>0</td>\n",
       "      <td>1</td>\n",
       "      <td>131947.92</td>\n",
       "      <td>1</td>\n",
       "      <td>0</td>\n",
       "    </tr>\n",
       "    <tr>\n",
       "      <th>690</th>\n",
       "      <td>152479</td>\n",
       "      <td>768.0</td>\n",
       "      <td>Рыбинск</td>\n",
       "      <td>Ж</td>\n",
       "      <td>42</td>\n",
       "      <td>0</td>\n",
       "      <td>126787.79</td>\n",
       "      <td>4</td>\n",
       "      <td>1</td>\n",
       "      <td>1</td>\n",
       "      <td>143233.23</td>\n",
       "      <td>1</td>\n",
       "      <td>0</td>\n",
       "    </tr>\n",
       "    <tr>\n",
       "      <th>...</th>\n",
       "      <td>...</td>\n",
       "      <td>...</td>\n",
       "      <td>...</td>\n",
       "      <td>...</td>\n",
       "      <td>...</td>\n",
       "      <td>...</td>\n",
       "      <td>...</td>\n",
       "      <td>...</td>\n",
       "      <td>...</td>\n",
       "      <td>...</td>\n",
       "      <td>...</td>\n",
       "      <td>...</td>\n",
       "      <td>...</td>\n",
       "    </tr>\n",
       "    <tr>\n",
       "      <th>9659</th>\n",
       "      <td>195884</td>\n",
       "      <td>767.0</td>\n",
       "      <td>Рыбинск</td>\n",
       "      <td>Ж</td>\n",
       "      <td>45</td>\n",
       "      <td>1</td>\n",
       "      <td>335652.56</td>\n",
       "      <td>3</td>\n",
       "      <td>1</td>\n",
       "      <td>1</td>\n",
       "      <td>100197.67</td>\n",
       "      <td>0</td>\n",
       "      <td>0</td>\n",
       "    </tr>\n",
       "    <tr>\n",
       "      <th>9775</th>\n",
       "      <td>124450</td>\n",
       "      <td>758.0</td>\n",
       "      <td>Рыбинск</td>\n",
       "      <td>Ж</td>\n",
       "      <td>36</td>\n",
       "      <td>0</td>\n",
       "      <td>73574.07</td>\n",
       "      <td>2</td>\n",
       "      <td>0</td>\n",
       "      <td>1</td>\n",
       "      <td>79963.59</td>\n",
       "      <td>0</td>\n",
       "      <td>0</td>\n",
       "    </tr>\n",
       "    <tr>\n",
       "      <th>9785</th>\n",
       "      <td>168998</td>\n",
       "      <td>895.0</td>\n",
       "      <td>Рыбинск</td>\n",
       "      <td>М</td>\n",
       "      <td>44</td>\n",
       "      <td>0</td>\n",
       "      <td>282653.53</td>\n",
       "      <td>3</td>\n",
       "      <td>0</td>\n",
       "      <td>0</td>\n",
       "      <td>255296.47</td>\n",
       "      <td>0</td>\n",
       "      <td>0</td>\n",
       "    </tr>\n",
       "    <tr>\n",
       "      <th>9880</th>\n",
       "      <td>217412</td>\n",
       "      <td>886.0</td>\n",
       "      <td>Ярославль</td>\n",
       "      <td>Ж</td>\n",
       "      <td>35</td>\n",
       "      <td>3</td>\n",
       "      <td>1026172.14</td>\n",
       "      <td>2</td>\n",
       "      <td>1</td>\n",
       "      <td>0</td>\n",
       "      <td>53099.16</td>\n",
       "      <td>0</td>\n",
       "      <td>0</td>\n",
       "    </tr>\n",
       "    <tr>\n",
       "      <th>9970</th>\n",
       "      <td>175730</td>\n",
       "      <td>816.0</td>\n",
       "      <td>Рыбинск</td>\n",
       "      <td>М</td>\n",
       "      <td>36</td>\n",
       "      <td>4</td>\n",
       "      <td>477892.07</td>\n",
       "      <td>3</td>\n",
       "      <td>1</td>\n",
       "      <td>0</td>\n",
       "      <td>81100.60</td>\n",
       "      <td>0</td>\n",
       "      <td>0</td>\n",
       "    </tr>\n",
       "  </tbody>\n",
       "</table>\n",
       "<p>100 rows × 13 columns</p>\n",
       "</div>"
      ],
      "text/plain": [
       "      user_id  score       city gender  age  equity     balance  products  \\\n",
       "58     164676  860.0  Ярославль      М   37       5   648594.03         2   \n",
       "150    185748  850.0    Рыбинск      М   36       5  1203376.67         2   \n",
       "161    197364  928.0    Рыбинск      Ж   53       6  1347183.86         2   \n",
       "231    190253  823.0    Рыбинск      М   37       4   373348.39         2   \n",
       "690    152479  768.0    Рыбинск      Ж   42       0   126787.79         4   \n",
       "...       ...    ...        ...    ...  ...     ...         ...       ...   \n",
       "9659   195884  767.0    Рыбинск      Ж   45       1   335652.56         3   \n",
       "9775   124450  758.0    Рыбинск      Ж   36       0    73574.07         2   \n",
       "9785   168998  895.0    Рыбинск      М   44       0   282653.53         3   \n",
       "9880   217412  886.0  Ярославль      Ж   35       3  1026172.14         2   \n",
       "9970   175730  816.0    Рыбинск      М   36       4   477892.07         3   \n",
       "\n",
       "      credit_card  last_activity  est_salary  churn  flag  \n",
       "58              1              1   213586.86      1     0  \n",
       "150             0              1    89401.82      1     0  \n",
       "161             0              1   168189.49      1     0  \n",
       "231             0              1   131947.92      1     0  \n",
       "690             1              1   143233.23      1     0  \n",
       "...           ...            ...         ...    ...   ...  \n",
       "9659            1              1   100197.67      0     0  \n",
       "9775            0              1    79963.59      0     0  \n",
       "9785            0              0   255296.47      0     0  \n",
       "9880            1              0    53099.16      0     0  \n",
       "9970            1              0    81100.60      0     0  \n",
       "\n",
       "[100 rows x 13 columns]"
      ]
     },
     "execution_count": 22,
     "metadata": {},
     "output_type": "execute_result"
    }
   ],
   "source": [
    "df_dupl = df[df.duplicated(subset='user_id', keep=False)]\n",
    "df_dupl"
   ]
  },
  {
   "cell_type": "code",
   "execution_count": 23,
   "metadata": {},
   "outputs": [
    {
     "data": {
      "text/plain": [
       "array(['Ярославль', 'Рыбинск'], dtype=object)"
      ]
     },
     "execution_count": 23,
     "metadata": {},
     "output_type": "execute_result"
    }
   ],
   "source": [
    "df_dupl['city'].unique()"
   ]
  },
  {
   "cell_type": "markdown",
   "metadata": {},
   "source": [
    "Полных дубликатов нет. При проверке на неявные дубликаты обнаружили, что по id есть 50 совпадений, но при детальном анализе видно, что пользователи из разных городов (Ярославль и Рыбинск), пользователей из Ростова нет. Значит, это разные люди и удалять без смещения результата мы не можем. Возможно эта ситуация появилась из-за слияния нескольких баз по городам."
   ]
  },
  {
   "cell_type": "markdown",
   "metadata": {},
   "source": [
    "### Кодирование переменных"
   ]
  },
  {
   "cell_type": "code",
   "execution_count": 24,
   "metadata": {},
   "outputs": [
    {
     "data": {
      "text/html": [
       "<div>\n",
       "<style scoped>\n",
       "    .dataframe tbody tr th:only-of-type {\n",
       "        vertical-align: middle;\n",
       "    }\n",
       "\n",
       "    .dataframe tbody tr th {\n",
       "        vertical-align: top;\n",
       "    }\n",
       "\n",
       "    .dataframe thead th {\n",
       "        text-align: right;\n",
       "    }\n",
       "</style>\n",
       "<table border=\"1\" class=\"dataframe\">\n",
       "  <thead>\n",
       "    <tr style=\"text-align: right;\">\n",
       "      <th></th>\n",
       "      <th>user_id</th>\n",
       "      <th>score</th>\n",
       "      <th>city</th>\n",
       "      <th>gender</th>\n",
       "      <th>age</th>\n",
       "      <th>equity</th>\n",
       "      <th>balance</th>\n",
       "      <th>products</th>\n",
       "      <th>credit_card</th>\n",
       "      <th>last_activity</th>\n",
       "      <th>est_salary</th>\n",
       "      <th>churn</th>\n",
       "      <th>flag</th>\n",
       "      <th>gender_1</th>\n",
       "      <th>city_1</th>\n",
       "    </tr>\n",
       "  </thead>\n",
       "  <tbody>\n",
       "    <tr>\n",
       "      <th>0</th>\n",
       "      <td>183012</td>\n",
       "      <td>850.0</td>\n",
       "      <td>Рыбинск</td>\n",
       "      <td>Ж</td>\n",
       "      <td>25</td>\n",
       "      <td>1</td>\n",
       "      <td>59214.82</td>\n",
       "      <td>2</td>\n",
       "      <td>0</td>\n",
       "      <td>1</td>\n",
       "      <td>75719.14</td>\n",
       "      <td>1</td>\n",
       "      <td>0</td>\n",
       "      <td>Ж</td>\n",
       "      <td>Рыбинск</td>\n",
       "    </tr>\n",
       "    <tr>\n",
       "      <th>1</th>\n",
       "      <td>146556</td>\n",
       "      <td>861.0</td>\n",
       "      <td>Рыбинск</td>\n",
       "      <td>Ж</td>\n",
       "      <td>37</td>\n",
       "      <td>5</td>\n",
       "      <td>850594.33</td>\n",
       "      <td>3</td>\n",
       "      <td>1</td>\n",
       "      <td>0</td>\n",
       "      <td>86621.77</td>\n",
       "      <td>0</td>\n",
       "      <td>0</td>\n",
       "      <td>Ж</td>\n",
       "      <td>Рыбинск</td>\n",
       "    </tr>\n",
       "    <tr>\n",
       "      <th>2</th>\n",
       "      <td>120722</td>\n",
       "      <td>892.0</td>\n",
       "      <td>Рыбинск</td>\n",
       "      <td>Ж</td>\n",
       "      <td>30</td>\n",
       "      <td>0</td>\n",
       "      <td>NaN</td>\n",
       "      <td>1</td>\n",
       "      <td>1</td>\n",
       "      <td>1</td>\n",
       "      <td>107683.34</td>\n",
       "      <td>0</td>\n",
       "      <td>1</td>\n",
       "      <td>Ж</td>\n",
       "      <td>Рыбинск</td>\n",
       "    </tr>\n",
       "    <tr>\n",
       "      <th>3</th>\n",
       "      <td>225363</td>\n",
       "      <td>866.0</td>\n",
       "      <td>Ярославль</td>\n",
       "      <td>Ж</td>\n",
       "      <td>51</td>\n",
       "      <td>5</td>\n",
       "      <td>1524746.26</td>\n",
       "      <td>2</td>\n",
       "      <td>0</td>\n",
       "      <td>1</td>\n",
       "      <td>174423.53</td>\n",
       "      <td>1</td>\n",
       "      <td>0</td>\n",
       "      <td>Ж</td>\n",
       "      <td>Ярославль</td>\n",
       "    </tr>\n",
       "    <tr>\n",
       "      <th>4</th>\n",
       "      <td>157978</td>\n",
       "      <td>730.0</td>\n",
       "      <td>Ярославль</td>\n",
       "      <td>М</td>\n",
       "      <td>34</td>\n",
       "      <td>5</td>\n",
       "      <td>174.00</td>\n",
       "      <td>1</td>\n",
       "      <td>1</td>\n",
       "      <td>0</td>\n",
       "      <td>67353.16</td>\n",
       "      <td>1</td>\n",
       "      <td>0</td>\n",
       "      <td>М</td>\n",
       "      <td>Ярославль</td>\n",
       "    </tr>\n",
       "  </tbody>\n",
       "</table>\n",
       "</div>"
      ],
      "text/plain": [
       "   user_id  score       city gender  age  equity     balance  products  \\\n",
       "0   183012  850.0    Рыбинск      Ж   25       1    59214.82         2   \n",
       "1   146556  861.0    Рыбинск      Ж   37       5   850594.33         3   \n",
       "2   120722  892.0    Рыбинск      Ж   30       0         NaN         1   \n",
       "3   225363  866.0  Ярославль      Ж   51       5  1524746.26         2   \n",
       "4   157978  730.0  Ярославль      М   34       5      174.00         1   \n",
       "\n",
       "   credit_card  last_activity  est_salary  churn  flag gender_1     city_1  \n",
       "0            0              1    75719.14      1     0        Ж    Рыбинск  \n",
       "1            1              0    86621.77      0     0        Ж    Рыбинск  \n",
       "2            1              1   107683.34      0     1        Ж    Рыбинск  \n",
       "3            0              1   174423.53      1     0        Ж  Ярославль  \n",
       "4            1              0    67353.16      1     0        М  Ярославль  "
      ]
     },
     "execution_count": 24,
     "metadata": {},
     "output_type": "execute_result"
    }
   ],
   "source": [
    "df['gender_1'] = df['gender']\n",
    "df['city_1'] = df['city']\n",
    "df.head()"
   ]
  },
  {
   "cell_type": "code",
   "execution_count": 25,
   "metadata": {},
   "outputs": [
    {
     "data": {
      "text/html": [
       "<div>\n",
       "<style scoped>\n",
       "    .dataframe tbody tr th:only-of-type {\n",
       "        vertical-align: middle;\n",
       "    }\n",
       "\n",
       "    .dataframe tbody tr th {\n",
       "        vertical-align: top;\n",
       "    }\n",
       "\n",
       "    .dataframe thead th {\n",
       "        text-align: right;\n",
       "    }\n",
       "</style>\n",
       "<table border=\"1\" class=\"dataframe\">\n",
       "  <thead>\n",
       "    <tr style=\"text-align: right;\">\n",
       "      <th></th>\n",
       "      <th>user_id</th>\n",
       "      <th>score</th>\n",
       "      <th>city</th>\n",
       "      <th>gender</th>\n",
       "      <th>age</th>\n",
       "      <th>equity</th>\n",
       "      <th>balance</th>\n",
       "      <th>products</th>\n",
       "      <th>credit_card</th>\n",
       "      <th>last_activity</th>\n",
       "      <th>est_salary</th>\n",
       "      <th>churn</th>\n",
       "      <th>flag</th>\n",
       "      <th>female</th>\n",
       "      <th>male</th>\n",
       "      <th>Ростов</th>\n",
       "      <th>Рыбинск</th>\n",
       "      <th>Ярославль</th>\n",
       "    </tr>\n",
       "  </thead>\n",
       "  <tbody>\n",
       "    <tr>\n",
       "      <th>0</th>\n",
       "      <td>183012</td>\n",
       "      <td>850.0</td>\n",
       "      <td>Рыбинск</td>\n",
       "      <td>Ж</td>\n",
       "      <td>25</td>\n",
       "      <td>1</td>\n",
       "      <td>59214.82</td>\n",
       "      <td>2</td>\n",
       "      <td>0</td>\n",
       "      <td>1</td>\n",
       "      <td>75719.14</td>\n",
       "      <td>1</td>\n",
       "      <td>0</td>\n",
       "      <td>1</td>\n",
       "      <td>0</td>\n",
       "      <td>0</td>\n",
       "      <td>1</td>\n",
       "      <td>0</td>\n",
       "    </tr>\n",
       "    <tr>\n",
       "      <th>1</th>\n",
       "      <td>146556</td>\n",
       "      <td>861.0</td>\n",
       "      <td>Рыбинск</td>\n",
       "      <td>Ж</td>\n",
       "      <td>37</td>\n",
       "      <td>5</td>\n",
       "      <td>850594.33</td>\n",
       "      <td>3</td>\n",
       "      <td>1</td>\n",
       "      <td>0</td>\n",
       "      <td>86621.77</td>\n",
       "      <td>0</td>\n",
       "      <td>0</td>\n",
       "      <td>1</td>\n",
       "      <td>0</td>\n",
       "      <td>0</td>\n",
       "      <td>1</td>\n",
       "      <td>0</td>\n",
       "    </tr>\n",
       "    <tr>\n",
       "      <th>2</th>\n",
       "      <td>120722</td>\n",
       "      <td>892.0</td>\n",
       "      <td>Рыбинск</td>\n",
       "      <td>Ж</td>\n",
       "      <td>30</td>\n",
       "      <td>0</td>\n",
       "      <td>NaN</td>\n",
       "      <td>1</td>\n",
       "      <td>1</td>\n",
       "      <td>1</td>\n",
       "      <td>107683.34</td>\n",
       "      <td>0</td>\n",
       "      <td>1</td>\n",
       "      <td>1</td>\n",
       "      <td>0</td>\n",
       "      <td>0</td>\n",
       "      <td>1</td>\n",
       "      <td>0</td>\n",
       "    </tr>\n",
       "    <tr>\n",
       "      <th>3</th>\n",
       "      <td>225363</td>\n",
       "      <td>866.0</td>\n",
       "      <td>Ярославль</td>\n",
       "      <td>Ж</td>\n",
       "      <td>51</td>\n",
       "      <td>5</td>\n",
       "      <td>1524746.26</td>\n",
       "      <td>2</td>\n",
       "      <td>0</td>\n",
       "      <td>1</td>\n",
       "      <td>174423.53</td>\n",
       "      <td>1</td>\n",
       "      <td>0</td>\n",
       "      <td>1</td>\n",
       "      <td>0</td>\n",
       "      <td>0</td>\n",
       "      <td>0</td>\n",
       "      <td>1</td>\n",
       "    </tr>\n",
       "    <tr>\n",
       "      <th>4</th>\n",
       "      <td>157978</td>\n",
       "      <td>730.0</td>\n",
       "      <td>Ярославль</td>\n",
       "      <td>М</td>\n",
       "      <td>34</td>\n",
       "      <td>5</td>\n",
       "      <td>174.00</td>\n",
       "      <td>1</td>\n",
       "      <td>1</td>\n",
       "      <td>0</td>\n",
       "      <td>67353.16</td>\n",
       "      <td>1</td>\n",
       "      <td>0</td>\n",
       "      <td>0</td>\n",
       "      <td>1</td>\n",
       "      <td>0</td>\n",
       "      <td>0</td>\n",
       "      <td>1</td>\n",
       "    </tr>\n",
       "  </tbody>\n",
       "</table>\n",
       "</div>"
      ],
      "text/plain": [
       "   user_id  score       city gender  age  equity     balance  products  \\\n",
       "0   183012  850.0    Рыбинск      Ж   25       1    59214.82         2   \n",
       "1   146556  861.0    Рыбинск      Ж   37       5   850594.33         3   \n",
       "2   120722  892.0    Рыбинск      Ж   30       0         NaN         1   \n",
       "3   225363  866.0  Ярославль      Ж   51       5  1524746.26         2   \n",
       "4   157978  730.0  Ярославль      М   34       5      174.00         1   \n",
       "\n",
       "   credit_card  last_activity  est_salary  churn  flag  female  male  Ростов  \\\n",
       "0            0              1    75719.14      1     0       1     0       0   \n",
       "1            1              0    86621.77      0     0       1     0       0   \n",
       "2            1              1   107683.34      0     1       1     0       0   \n",
       "3            0              1   174423.53      1     0       1     0       0   \n",
       "4            1              0    67353.16      1     0       0     1       0   \n",
       "\n",
       "   Рыбинск  Ярославль  \n",
       "0        1          0  \n",
       "1        1          0  \n",
       "2        1          0  \n",
       "3        0          1  \n",
       "4        0          1  "
      ]
     },
     "execution_count": 25,
     "metadata": {},
     "output_type": "execute_result"
    }
   ],
   "source": [
    "df = pd.get_dummies(df, columns=['gender_1', 'city_1'])\n",
    "df = df.rename(columns=({'gender_1_Ж':'female', \n",
    "                        'gender_1_М':'male',\n",
    "                       'city_1_Ростов':'Ростов',\n",
    "                       'city_1_Рыбинск':'Рыбинск',\n",
    "                       'city_1_Ярославль':'Ярославль'}))\n",
    "df.head()"
   ]
  },
  {
   "cell_type": "markdown",
   "metadata": {},
   "source": [
    "Перевели категориальне переменные (возраст и город) в бинарные для дальнейшего анализа корреляции."
   ]
  },
  {
   "cell_type": "markdown",
   "metadata": {},
   "source": [
    "## Исследовательский анализ"
   ]
  },
  {
   "cell_type": "markdown",
   "metadata": {},
   "source": [
    "### Рассмотрим категориальные (дискретные) признаки"
   ]
  },
  {
   "cell_type": "code",
   "execution_count": 26,
   "metadata": {},
   "outputs": [],
   "source": [
    "def categorial_churn(data, col):\n",
    "    tabl = data.pivot_table(index=col, values='churn', aggfunc=['sum', 'count']).reset_index()\n",
    "    tabl.columns = [col,'churn', 'total']\n",
    "    tabl['percent'] = round((tabl['churn'] / tabl['total'])*100,2)\n",
    "    display(tabl)\n",
    "    \n",
    "    plt.figure(figsize=(10,7))\n",
    "    sns.barplot(data=tabl, x=col, y='percent')\n",
    "    plt.axhline(round((df['churn'].sum() / df['churn'].count())*100,2), linewidth=1, color='r', linestyle='--')\n",
    "    plt.title(f'Распределение процента оттока по {col}')\n",
    "    plt.xlabel(col)\n",
    "    plt.ylabel('Процент')\n",
    "\n",
    "    plt.show()\n",
    "    return "
   ]
  },
  {
   "cell_type": "code",
   "execution_count": 27,
   "metadata": {},
   "outputs": [
    {
     "data": {
      "text/html": [
       "<div>\n",
       "<style scoped>\n",
       "    .dataframe tbody tr th:only-of-type {\n",
       "        vertical-align: middle;\n",
       "    }\n",
       "\n",
       "    .dataframe tbody tr th {\n",
       "        vertical-align: top;\n",
       "    }\n",
       "\n",
       "    .dataframe thead th {\n",
       "        text-align: right;\n",
       "    }\n",
       "</style>\n",
       "<table border=\"1\" class=\"dataframe\">\n",
       "  <thead>\n",
       "    <tr style=\"text-align: right;\">\n",
       "      <th></th>\n",
       "      <th>city</th>\n",
       "      <th>churn</th>\n",
       "      <th>total</th>\n",
       "      <th>percent</th>\n",
       "    </tr>\n",
       "  </thead>\n",
       "  <tbody>\n",
       "    <tr>\n",
       "      <th>0</th>\n",
       "      <td>Ростов</td>\n",
       "      <td>265</td>\n",
       "      <td>1416</td>\n",
       "      <td>18.71</td>\n",
       "    </tr>\n",
       "    <tr>\n",
       "      <th>1</th>\n",
       "      <td>Рыбинск</td>\n",
       "      <td>436</td>\n",
       "      <td>2682</td>\n",
       "      <td>16.26</td>\n",
       "    </tr>\n",
       "    <tr>\n",
       "      <th>2</th>\n",
       "      <td>Ярославль</td>\n",
       "      <td>1117</td>\n",
       "      <td>5875</td>\n",
       "      <td>19.01</td>\n",
       "    </tr>\n",
       "  </tbody>\n",
       "</table>\n",
       "</div>"
      ],
      "text/plain": [
       "        city  churn  total  percent\n",
       "0     Ростов    265   1416    18.71\n",
       "1    Рыбинск    436   2682    16.26\n",
       "2  Ярославль   1117   5875    19.01"
      ]
     },
     "metadata": {},
     "output_type": "display_data"
    },
    {
     "data": {
      "image/png": "[encoded data removed]",
      "text/plain": [
       "<Figure size 720x504 with 1 Axes>"
      ]
     },
     "metadata": {
      "needs_background": "light"
     },
     "output_type": "display_data"
    }
   ],
   "source": [
    "categorial_churn(df, 'city')"
   ]
  },
  {
   "cell_type": "markdown",
   "metadata": {},
   "source": [
    "Процент оттока в Ростове и Ярославле выше среднего процента по банку в целом. Таким образом, отток зависит от города."
   ]
  },
  {
   "cell_type": "code",
   "execution_count": 28,
   "metadata": {},
   "outputs": [
    {
     "data": {
      "text/html": [
       "<div>\n",
       "<style scoped>\n",
       "    .dataframe tbody tr th:only-of-type {\n",
       "        vertical-align: middle;\n",
       "    }\n",
       "\n",
       "    .dataframe tbody tr th {\n",
       "        vertical-align: top;\n",
       "    }\n",
       "\n",
       "    .dataframe thead th {\n",
       "        text-align: right;\n",
       "    }\n",
       "</style>\n",
       "<table border=\"1\" class=\"dataframe\">\n",
       "  <thead>\n",
       "    <tr style=\"text-align: right;\">\n",
       "      <th></th>\n",
       "      <th>gender</th>\n",
       "      <th>churn</th>\n",
       "      <th>total</th>\n",
       "      <th>percent</th>\n",
       "    </tr>\n",
       "  </thead>\n",
       "  <tbody>\n",
       "    <tr>\n",
       "      <th>0</th>\n",
       "      <td>Ж</td>\n",
       "      <td>635</td>\n",
       "      <td>4982</td>\n",
       "      <td>12.75</td>\n",
       "    </tr>\n",
       "    <tr>\n",
       "      <th>1</th>\n",
       "      <td>М</td>\n",
       "      <td>1183</td>\n",
       "      <td>4991</td>\n",
       "      <td>23.70</td>\n",
       "    </tr>\n",
       "  </tbody>\n",
       "</table>\n",
       "</div>"
      ],
      "text/plain": [
       "  gender  churn  total  percent\n",
       "0      Ж    635   4982    12.75\n",
       "1      М   1183   4991    23.70"
      ]
     },
     "metadata": {},
     "output_type": "display_data"
    },
    {
     "data": {
      "image/png": "[encoded data removed]",
      "text/plain": [
       "<Figure size 720x504 with 1 Axes>"
      ]
     },
     "metadata": {
      "needs_background": "light"
     },
     "output_type": "display_data"
    }
   ],
   "source": [
    "categorial_churn(df, 'gender')"
   ]
  },
  {
   "cell_type": "markdown",
   "metadata": {},
   "source": [
    "Процент оттока мужчин значительно выше оттока женщин и превышает средний процент оттока в целом по банку. "
   ]
  },
  {
   "cell_type": "code",
   "execution_count": 29,
   "metadata": {},
   "outputs": [
    {
     "data": {
      "text/html": [
       "<div>\n",
       "<style scoped>\n",
       "    .dataframe tbody tr th:only-of-type {\n",
       "        vertical-align: middle;\n",
       "    }\n",
       "\n",
       "    .dataframe tbody tr th {\n",
       "        vertical-align: top;\n",
       "    }\n",
       "\n",
       "    .dataframe thead th {\n",
       "        text-align: right;\n",
       "    }\n",
       "</style>\n",
       "<table border=\"1\" class=\"dataframe\">\n",
       "  <thead>\n",
       "    <tr style=\"text-align: right;\">\n",
       "      <th></th>\n",
       "      <th>equity</th>\n",
       "      <th>churn</th>\n",
       "      <th>total</th>\n",
       "      <th>percent</th>\n",
       "    </tr>\n",
       "  </thead>\n",
       "  <tbody>\n",
       "    <tr>\n",
       "      <th>0</th>\n",
       "      <td>0</td>\n",
       "      <td>90</td>\n",
       "      <td>2576</td>\n",
       "      <td>3.49</td>\n",
       "    </tr>\n",
       "    <tr>\n",
       "      <th>1</th>\n",
       "      <td>1</td>\n",
       "      <td>93</td>\n",
       "      <td>773</td>\n",
       "      <td>12.03</td>\n",
       "    </tr>\n",
       "    <tr>\n",
       "      <th>2</th>\n",
       "      <td>2</td>\n",
       "      <td>166</td>\n",
       "      <td>1051</td>\n",
       "      <td>15.79</td>\n",
       "    </tr>\n",
       "    <tr>\n",
       "      <th>3</th>\n",
       "      <td>3</td>\n",
       "      <td>321</td>\n",
       "      <td>1540</td>\n",
       "      <td>20.84</td>\n",
       "    </tr>\n",
       "    <tr>\n",
       "      <th>4</th>\n",
       "      <td>4</td>\n",
       "      <td>464</td>\n",
       "      <td>1847</td>\n",
       "      <td>25.12</td>\n",
       "    </tr>\n",
       "    <tr>\n",
       "      <th>5</th>\n",
       "      <td>5</td>\n",
       "      <td>576</td>\n",
       "      <td>1915</td>\n",
       "      <td>30.08</td>\n",
       "    </tr>\n",
       "    <tr>\n",
       "      <th>6</th>\n",
       "      <td>6</td>\n",
       "      <td>58</td>\n",
       "      <td>161</td>\n",
       "      <td>36.02</td>\n",
       "    </tr>\n",
       "    <tr>\n",
       "      <th>7</th>\n",
       "      <td>7</td>\n",
       "      <td>37</td>\n",
       "      <td>80</td>\n",
       "      <td>46.25</td>\n",
       "    </tr>\n",
       "    <tr>\n",
       "      <th>8</th>\n",
       "      <td>8</td>\n",
       "      <td>6</td>\n",
       "      <td>17</td>\n",
       "      <td>35.29</td>\n",
       "    </tr>\n",
       "    <tr>\n",
       "      <th>9</th>\n",
       "      <td>9</td>\n",
       "      <td>7</td>\n",
       "      <td>13</td>\n",
       "      <td>53.85</td>\n",
       "    </tr>\n",
       "  </tbody>\n",
       "</table>\n",
       "</div>"
      ],
      "text/plain": [
       "   equity  churn  total  percent\n",
       "0       0     90   2576     3.49\n",
       "1       1     93    773    12.03\n",
       "2       2    166   1051    15.79\n",
       "3       3    321   1540    20.84\n",
       "4       4    464   1847    25.12\n",
       "5       5    576   1915    30.08\n",
       "6       6     58    161    36.02\n",
       "7       7     37     80    46.25\n",
       "8       8      6     17    35.29\n",
       "9       9      7     13    53.85"
      ]
     },
     "metadata": {},
     "output_type": "display_data"
    },
    {
     "data": {
      "image/png": "[encoded data removed]",
      "text/plain": [
       "<Figure size 720x504 with 1 Axes>"
      ]
     },
     "metadata": {
      "needs_background": "light"
     },
     "output_type": "display_data"
    }
   ],
   "source": [
    "categorial_churn(df, 'equity')"
   ]
  },
  {
   "cell_type": "markdown",
   "metadata": {},
   "source": [
    "Чем больше количество баллов собственности, тем выше процент оттока (кроме 8). Для количества от 3 до 9 процент оттока выше среднего процента по банку"
   ]
  },
  {
   "cell_type": "code",
   "execution_count": 30,
   "metadata": {},
   "outputs": [
    {
     "data": {
      "text/html": [
       "<div>\n",
       "<style scoped>\n",
       "    .dataframe tbody tr th:only-of-type {\n",
       "        vertical-align: middle;\n",
       "    }\n",
       "\n",
       "    .dataframe tbody tr th {\n",
       "        vertical-align: top;\n",
       "    }\n",
       "\n",
       "    .dataframe thead th {\n",
       "        text-align: right;\n",
       "    }\n",
       "</style>\n",
       "<table border=\"1\" class=\"dataframe\">\n",
       "  <thead>\n",
       "    <tr style=\"text-align: right;\">\n",
       "      <th></th>\n",
       "      <th>products</th>\n",
       "      <th>churn</th>\n",
       "      <th>total</th>\n",
       "      <th>percent</th>\n",
       "    </tr>\n",
       "  </thead>\n",
       "  <tbody>\n",
       "    <tr>\n",
       "      <th>0</th>\n",
       "      <td>1</td>\n",
       "      <td>235</td>\n",
       "      <td>3323</td>\n",
       "      <td>7.07</td>\n",
       "    </tr>\n",
       "    <tr>\n",
       "      <th>1</th>\n",
       "      <td>2</td>\n",
       "      <td>978</td>\n",
       "      <td>5119</td>\n",
       "      <td>19.11</td>\n",
       "    </tr>\n",
       "    <tr>\n",
       "      <th>2</th>\n",
       "      <td>3</td>\n",
       "      <td>297</td>\n",
       "      <td>1038</td>\n",
       "      <td>28.61</td>\n",
       "    </tr>\n",
       "    <tr>\n",
       "      <th>3</th>\n",
       "      <td>4</td>\n",
       "      <td>300</td>\n",
       "      <td>474</td>\n",
       "      <td>63.29</td>\n",
       "    </tr>\n",
       "    <tr>\n",
       "      <th>4</th>\n",
       "      <td>5</td>\n",
       "      <td>8</td>\n",
       "      <td>19</td>\n",
       "      <td>42.11</td>\n",
       "    </tr>\n",
       "  </tbody>\n",
       "</table>\n",
       "</div>"
      ],
      "text/plain": [
       "   products  churn  total  percent\n",
       "0         1    235   3323     7.07\n",
       "1         2    978   5119    19.11\n",
       "2         3    297   1038    28.61\n",
       "3         4    300    474    63.29\n",
       "4         5      8     19    42.11"
      ]
     },
     "metadata": {},
     "output_type": "display_data"
    },
    {
     "data": {
      "image/png": "[encoded data removed]",
      "text/plain": [
       "<Figure size 720x504 with 1 Axes>"
      ]
     },
     "metadata": {
      "needs_background": "light"
     },
     "output_type": "display_data"
    }
   ],
   "source": [
    "categorial_churn(df, 'products')"
   ]
  },
  {
   "cell_type": "markdown",
   "metadata": {},
   "source": [
    "Процент оттока пользователей, которые пользуются больше, чем 1 продуктом превышает средний процент по банку. Самый высокий отток у клиентов, которые пользуются 4 продуктами."
   ]
  },
  {
   "cell_type": "code",
   "execution_count": 31,
   "metadata": {},
   "outputs": [
    {
     "data": {
      "text/html": [
       "<div>\n",
       "<style scoped>\n",
       "    .dataframe tbody tr th:only-of-type {\n",
       "        vertical-align: middle;\n",
       "    }\n",
       "\n",
       "    .dataframe tbody tr th {\n",
       "        vertical-align: top;\n",
       "    }\n",
       "\n",
       "    .dataframe thead th {\n",
       "        text-align: right;\n",
       "    }\n",
       "</style>\n",
       "<table border=\"1\" class=\"dataframe\">\n",
       "  <thead>\n",
       "    <tr style=\"text-align: right;\">\n",
       "      <th></th>\n",
       "      <th>credit_card</th>\n",
       "      <th>churn</th>\n",
       "      <th>total</th>\n",
       "      <th>percent</th>\n",
       "    </tr>\n",
       "  </thead>\n",
       "  <tbody>\n",
       "    <tr>\n",
       "      <th>0</th>\n",
       "      <td>0</td>\n",
       "      <td>815</td>\n",
       "      <td>3189</td>\n",
       "      <td>25.56</td>\n",
       "    </tr>\n",
       "    <tr>\n",
       "      <th>1</th>\n",
       "      <td>1</td>\n",
       "      <td>1003</td>\n",
       "      <td>6784</td>\n",
       "      <td>14.78</td>\n",
       "    </tr>\n",
       "  </tbody>\n",
       "</table>\n",
       "</div>"
      ],
      "text/plain": [
       "   credit_card  churn  total  percent\n",
       "0            0    815   3189    25.56\n",
       "1            1   1003   6784    14.78"
      ]
     },
     "metadata": {},
     "output_type": "display_data"
    },
    {
     "data": {
      "image/png": "[encoded data removed]",
      "text/plain": [
       "<Figure size 720x504 with 1 Axes>"
      ]
     },
     "metadata": {
      "needs_background": "light"
     },
     "output_type": "display_data"
    }
   ],
   "source": [
    "categorial_churn(df, 'credit_card')"
   ]
  },
  {
   "cell_type": "markdown",
   "metadata": {},
   "source": [
    "Процент ушедших пользователей, у которых была кредитная карта значительно больше, чем у которых такой карты не было и он превышает средний отток по банку."
   ]
  },
  {
   "cell_type": "code",
   "execution_count": 32,
   "metadata": {},
   "outputs": [
    {
     "data": {
      "text/html": [
       "<div>\n",
       "<style scoped>\n",
       "    .dataframe tbody tr th:only-of-type {\n",
       "        vertical-align: middle;\n",
       "    }\n",
       "\n",
       "    .dataframe tbody tr th {\n",
       "        vertical-align: top;\n",
       "    }\n",
       "\n",
       "    .dataframe thead th {\n",
       "        text-align: right;\n",
       "    }\n",
       "</style>\n",
       "<table border=\"1\" class=\"dataframe\">\n",
       "  <thead>\n",
       "    <tr style=\"text-align: right;\">\n",
       "      <th></th>\n",
       "      <th>last_activity</th>\n",
       "      <th>churn</th>\n",
       "      <th>total</th>\n",
       "      <th>percent</th>\n",
       "    </tr>\n",
       "  </thead>\n",
       "  <tbody>\n",
       "    <tr>\n",
       "      <th>0</th>\n",
       "      <td>0</td>\n",
       "      <td>541</td>\n",
       "      <td>4758</td>\n",
       "      <td>11.37</td>\n",
       "    </tr>\n",
       "    <tr>\n",
       "      <th>1</th>\n",
       "      <td>1</td>\n",
       "      <td>1277</td>\n",
       "      <td>5215</td>\n",
       "      <td>24.49</td>\n",
       "    </tr>\n",
       "  </tbody>\n",
       "</table>\n",
       "</div>"
      ],
      "text/plain": [
       "   last_activity  churn  total  percent\n",
       "0              0    541   4758    11.37\n",
       "1              1   1277   5215    24.49"
      ]
     },
     "metadata": {},
     "output_type": "display_data"
    },
    {
     "data": {
      "image/png": "[encoded data removed]",
      "text/plain": [
       "<Figure size 720x504 with 1 Axes>"
      ]
     },
     "metadata": {
      "needs_background": "light"
     },
     "output_type": "display_data"
    }
   ],
   "source": [
    "categorial_churn(df, 'last_activity')"
   ]
  },
  {
   "cell_type": "markdown",
   "metadata": {},
   "source": [
    "Активные клиенты уходят более,чем в 2 раза чаще, чем неактивные. Возможно, у них больше негативный опыт."
   ]
  },
  {
   "cell_type": "markdown",
   "metadata": {},
   "source": [
    "### Расмотрим непрерывные признаки"
   ]
  },
  {
   "cell_type": "code",
   "execution_count": 33,
   "metadata": {},
   "outputs": [],
   "source": [
    "def continuous_churn(data, col):\n",
    "    fig, ax = plt.subplots(figsize=(15,5))\n",
    "    sns.histplot(data=df, \n",
    "                 x=col, \n",
    "                 hue='churn', \n",
    "                 stat='density', \n",
    "                 common_norm=False, \n",
    "                 kde=True, \n",
    "                 element='step', \n",
    "                 ax=plt.subplot(1, 2, 1))\n",
    "    plt.title(f'Распределение оттока по {col}')\n",
    "    plt.xlabel(col)\n",
    "    plt.ylabel('Количество пользователей')\n",
    "    \n",
    "    sns.boxplot(data=df, \n",
    "                x='churn', \n",
    "                y=col, \n",
    "                ax=plt.subplot(1, 2, 2)) \n",
    "    plt.xlabel('')\n",
    "    plt.ylabel('')\n",
    "    plt.xticks(np.arange(2), ('Действующие клиенты', 'Отток'))\n",
    "    \n",
    "    plt.show()\n",
    "    return"
   ]
  },
  {
   "cell_type": "code",
   "execution_count": 34,
   "metadata": {},
   "outputs": [
    {
     "data": {
      "image/png": "[encoded data removed]",
      "text/plain": [
       "<Figure size 1080x360 with 2 Axes>"
      ]
     },
     "metadata": {
      "needs_background": "light"
     },
     "output_type": "display_data"
    }
   ],
   "source": [
    "continuous_churn(df, 'score')"
   ]
  },
  {
   "cell_type": "markdown",
   "metadata": {},
   "source": [
    "Пик оттока приходится на значение score около 870. Средние баллы кредитного скоринга выше у отточных клиентов."
   ]
  },
  {
   "cell_type": "code",
   "execution_count": 35,
   "metadata": {},
   "outputs": [
    {
     "data": {
      "image/png": "[encoded data removed]",
      "text/plain": [
       "<Figure size 1080x360 with 2 Axes>"
      ]
     },
     "metadata": {
      "needs_background": "light"
     },
     "output_type": "display_data"
    }
   ],
   "source": [
    "continuous_churn(df, 'age')"
   ]
  },
  {
   "cell_type": "markdown",
   "metadata": {},
   "source": [
    "Отток высокий в возрасте 34-35 и 55 лет. Средний возраст отточных клиентов - чуть меньше 40 лет."
   ]
  },
  {
   "cell_type": "code",
   "execution_count": 36,
   "metadata": {},
   "outputs": [
    {
     "data": {
      "image/png": "[encoded data removed]",
      "text/plain": [
       "<Figure size 1080x360 with 2 Axes>"
      ]
     },
     "metadata": {
      "needs_background": "light"
     },
     "output_type": "display_data"
    }
   ],
   "source": [
    "continuous_churn(df, 'est_salary')"
   ]
  },
  {
   "cell_type": "markdown",
   "metadata": {},
   "source": [
    "Гисторамма не очень удачная, т.к. хвост распределения очень длинный. Удалим правый хвост."
   ]
  },
  {
   "cell_type": "code",
   "execution_count": 37,
   "metadata": {},
   "outputs": [
    {
     "data": {
      "image/png": "[encoded data removed]",
      "text/plain": [
       "<Figure size 1080x360 with 2 Axes>"
      ]
     },
     "metadata": {
      "needs_background": "light"
     },
     "output_type": "display_data"
    }
   ],
   "source": [
    "fig, ax = plt.subplots(figsize=(15,5))\n",
    "sns.histplot(data=df, \n",
    "             x='est_salary', \n",
    "             hue='churn', \n",
    "             stat='density', \n",
    "             common_norm=False, \n",
    "             kde=True, \n",
    "             element='step', \n",
    "             ax=plt.subplot(1, 2, 1))\n",
    "plt.title('Распределение оттока по доходу клиента')\n",
    "plt.xlabel('Доход клиента')\n",
    "plt.ylabel('Количество пользователей')\n",
    "plt.xlim([0, df['est_salary'].quantile(.97)])\n",
    "\n",
    "sns.boxplot(data=df, \n",
    "            x='churn', \n",
    "            y='est_salary', \n",
    "            ax=plt.subplot(1, 2, 2)) \n",
    "plt.xlabel('')\n",
    "plt.ylabel('')\n",
    "plt.xticks(np.arange(2), ('Действующие клиенты', 'Отток'))\n",
    "plt.ylim([0, df['est_salary'].quantile(.97)])\n",
    "plt.show()"
   ]
  },
  {
   "cell_type": "markdown",
   "metadata": {},
   "source": [
    "Средний доход у отточных клиентов немного выше и находится в районе 120-130 тыс."
   ]
  },
  {
   "cell_type": "code",
   "execution_count": 38,
   "metadata": {},
   "outputs": [
    {
     "data": {
      "image/png": "[encoded data removed]",
      "text/plain": [
       "<Figure size 1080x360 with 2 Axes>"
      ]
     },
     "metadata": {
      "needs_background": "light"
     },
     "output_type": "display_data"
    }
   ],
   "source": [
    "continuous_churn(df, 'balance')"
   ]
  },
  {
   "cell_type": "markdown",
   "metadata": {},
   "source": [
    "Ситуация та же самая, что и с доходом клиента. Удалим правый хвост и посмотрим на распределение более внимательно."
   ]
  },
  {
   "cell_type": "code",
   "execution_count": 39,
   "metadata": {},
   "outputs": [
    {
     "data": {
      "image/png": "[encoded data removed]",
      "text/plain": [
       "<Figure size 1080x360 with 2 Axes>"
      ]
     },
     "metadata": {
      "needs_background": "light"
     },
     "output_type": "display_data"
    }
   ],
   "source": [
    "fig, ax = plt.subplots(figsize=(15,5))\n",
    "sns.histplot(data=df, \n",
    "             x='balance', \n",
    "             hue='churn', \n",
    "             stat='density', \n",
    "             common_norm=False, \n",
    "             kde=True, \n",
    "             element='step',\n",
    "             ax=plt.subplot(1, 2, 1))\n",
    "plt.title('Распределение оттока по балансу на счете')\n",
    "plt.xlabel('Баланс')\n",
    "plt.ylabel('Количество пользователей')\n",
    "plt.xlim([0, df['balance'].quantile(.97)])\n",
    "\n",
    "sns.boxplot(data=df, \n",
    "            x='churn', \n",
    "            y='est_salary', \n",
    "            ax=plt.subplot(1, 2, 2)) \n",
    "plt.xlabel('')\n",
    "plt.ylabel('')\n",
    "plt.xticks(np.arange(2), ('Действующие клиенты', 'Отток'))\n",
    "plt.ylim([0, df['balance'].quantile(.8)])\n",
    "plt.show()"
   ]
  },
  {
   "cell_type": "markdown",
   "metadata": {},
   "source": [
    "Средний баланс на счете примерно одинаковый у отточных клиентов и нет. Количество пользователей с балансом 400 тыс у неотточных клиентов значительно выше. "
   ]
  },
  {
   "cell_type": "markdown",
   "metadata": {},
   "source": [
    "Таким образом:\n",
    "- самый низкий процент отточных клиентов в Рыбинске, высокий - в Ярославле\n",
    "- мужчины уходят почти в 2 раза чаще, чем женщины\n",
    "- чем больше баллов собственности, тем больше клиентов уходит\n",
    "- самый высокий отток клиентов, которые пользуются 4 продуктами\n",
    "- клиенты без кредитной карты уходят значительно чаще\n",
    "- активные клиенты уходят чаще более, чем в 2 раза\n",
    "- средний скоринговый баланс выше у отточных клиентов\n",
    "- пик отточных клиентов приходится на 34-35 и 55 лет\n",
    "- средний доход у отточных клиентов незначительно превышает доход оставшихся клиентов и составляет 120- 130 тыс\n",
    "- средний баланс примерно одинаковый у клиентов обеих групп. Пик отточных клиентов приходится на 400 тыс."
   ]
  },
  {
   "cell_type": "markdown",
   "metadata": {},
   "source": [
    "### Корреляция признаков"
   ]
  },
  {
   "cell_type": "code",
   "execution_count": 40,
   "metadata": {},
   "outputs": [
    {
     "data": {
      "image/png": "[encoded data removed]",
      "text/plain": [
       "<Figure size 1080x720 with 2 Axes>"
      ]
     },
     "metadata": {
      "needs_background": "light"
     },
     "output_type": "display_data"
    }
   ],
   "source": [
    "plt.figure(figsize=(15,10))\n",
    "sns.heatmap (df.drop(columns=['user_id']).corr(), annot=True, cmap='coolwarm', center=0, linewidths=1);\n",
    "plt.title('Матрица корреляций')\n",
    "plt.show()"
   ]
  },
  {
   "cell_type": "markdown",
   "metadata": {},
   "source": [
    "Шкала корреляции Чеддока:\n",
    "- от 0 до 0,3 - очень слабая\n",
    "- от 0,3 до 0,5 – слабая \n",
    "- от 0, 5 до 0,7 – средняя \n",
    "- от 0,7 до 0, 9 – высокая\n",
    "- от 0,9 до 1 - очень высокая"
   ]
  },
  {
   "cell_type": "markdown",
   "metadata": {},
   "source": [
    "Согласно этой шкале, связь между всеми признаками очень слабая. \n",
    "\n",
    "По таблице видно, что наибольшая из всех корреляция с показателем оттока клиентов у таких параметров как:\n",
    "- количество продуктов, которыми пользуется клиент (products) - 0,3\n",
    "- количество баллов собственности (equity) - 0,27\n",
    "- активность клиента (last_activity) - 0,17\n",
    "- пол (female, male) - 0,14\n",
    "- наличие кредитной карты (credit_card) - 0,13\n",
    "- баллы кредитного скоринга (score) - 0,11"
   ]
  },
  {
   "cell_type": "markdown",
   "metadata": {},
   "source": [
    "## Статистический анализ и проверка гипотез"
   ]
  },
  {
   "cell_type": "markdown",
   "metadata": {},
   "source": [
    "Когда имеются две выборки, которые мы хотим сравнить относительно равенства среднего значения некоторой переменной, мы используем t-test Стьюдента.\n",
    "\n",
    "Чтобы понять, можно ли применять t-тест, нужно проверить условия:\n",
    "- генеральные совокупности не зависят друг от друга\n",
    "- выборочные средние нормально распределены (Это условие не должно быть препятствием благодаря ЦПТ. Если размер выборки составляет хотя бы несколько десятков значений, то выборочные средние, которые можно получить из одной и той же генеральной совокупности, будут распределены близко к нормальному вокруг истинного среднего этой совокупности. Это так, даже если сама генеральная совокупность не распределена нормально)\n",
    "- дисперсии рассматриваемых генеральных совокупностей равны"
   ]
  },
  {
   "cell_type": "markdown",
   "metadata": {},
   "source": [
    "Разделим наши данные на 2 выборки: отточные клиенты и нет. Выборки будут независимые."
   ]
  },
  {
   "cell_type": "code",
   "execution_count": 41,
   "metadata": {},
   "outputs": [
    {
     "data": {
      "text/html": [
       "<div>\n",
       "<style scoped>\n",
       "    .dataframe tbody tr th:only-of-type {\n",
       "        vertical-align: middle;\n",
       "    }\n",
       "\n",
       "    .dataframe tbody tr th {\n",
       "        vertical-align: top;\n",
       "    }\n",
       "\n",
       "    .dataframe thead th {\n",
       "        text-align: right;\n",
       "    }\n",
       "</style>\n",
       "<table border=\"1\" class=\"dataframe\">\n",
       "  <thead>\n",
       "    <tr style=\"text-align: right;\">\n",
       "      <th></th>\n",
       "      <th>user_id</th>\n",
       "      <th>score</th>\n",
       "      <th>city</th>\n",
       "      <th>gender</th>\n",
       "      <th>age</th>\n",
       "      <th>equity</th>\n",
       "      <th>balance</th>\n",
       "      <th>products</th>\n",
       "      <th>credit_card</th>\n",
       "      <th>last_activity</th>\n",
       "      <th>est_salary</th>\n",
       "      <th>churn</th>\n",
       "      <th>flag</th>\n",
       "      <th>female</th>\n",
       "      <th>male</th>\n",
       "      <th>Ростов</th>\n",
       "      <th>Рыбинск</th>\n",
       "      <th>Ярославль</th>\n",
       "    </tr>\n",
       "  </thead>\n",
       "  <tbody>\n",
       "    <tr>\n",
       "      <th>1</th>\n",
       "      <td>146556</td>\n",
       "      <td>861.0</td>\n",
       "      <td>Рыбинск</td>\n",
       "      <td>Ж</td>\n",
       "      <td>37</td>\n",
       "      <td>5</td>\n",
       "      <td>850594.33</td>\n",
       "      <td>3</td>\n",
       "      <td>1</td>\n",
       "      <td>0</td>\n",
       "      <td>86621.77</td>\n",
       "      <td>0</td>\n",
       "      <td>0</td>\n",
       "      <td>1</td>\n",
       "      <td>0</td>\n",
       "      <td>0</td>\n",
       "      <td>1</td>\n",
       "      <td>0</td>\n",
       "    </tr>\n",
       "    <tr>\n",
       "      <th>2</th>\n",
       "      <td>120722</td>\n",
       "      <td>892.0</td>\n",
       "      <td>Рыбинск</td>\n",
       "      <td>Ж</td>\n",
       "      <td>30</td>\n",
       "      <td>0</td>\n",
       "      <td>NaN</td>\n",
       "      <td>1</td>\n",
       "      <td>1</td>\n",
       "      <td>1</td>\n",
       "      <td>107683.34</td>\n",
       "      <td>0</td>\n",
       "      <td>1</td>\n",
       "      <td>1</td>\n",
       "      <td>0</td>\n",
       "      <td>0</td>\n",
       "      <td>1</td>\n",
       "      <td>0</td>\n",
       "    </tr>\n",
       "    <tr>\n",
       "      <th>5</th>\n",
       "      <td>202305</td>\n",
       "      <td>856.0</td>\n",
       "      <td>Рыбинск</td>\n",
       "      <td>М</td>\n",
       "      <td>56</td>\n",
       "      <td>4</td>\n",
       "      <td>863687.24</td>\n",
       "      <td>3</td>\n",
       "      <td>1</td>\n",
       "      <td>0</td>\n",
       "      <td>156619.80</td>\n",
       "      <td>0</td>\n",
       "      <td>0</td>\n",
       "      <td>0</td>\n",
       "      <td>1</td>\n",
       "      <td>0</td>\n",
       "      <td>1</td>\n",
       "      <td>0</td>\n",
       "    </tr>\n",
       "    <tr>\n",
       "      <th>6</th>\n",
       "      <td>177259</td>\n",
       "      <td>807.0</td>\n",
       "      <td>Ярославль</td>\n",
       "      <td>Ж</td>\n",
       "      <td>39</td>\n",
       "      <td>3</td>\n",
       "      <td>405042.44</td>\n",
       "      <td>3</td>\n",
       "      <td>0</td>\n",
       "      <td>1</td>\n",
       "      <td>103838.32</td>\n",
       "      <td>0</td>\n",
       "      <td>0</td>\n",
       "      <td>1</td>\n",
       "      <td>0</td>\n",
       "      <td>0</td>\n",
       "      <td>0</td>\n",
       "      <td>1</td>\n",
       "    </tr>\n",
       "    <tr>\n",
       "      <th>7</th>\n",
       "      <td>218868</td>\n",
       "      <td>825.0</td>\n",
       "      <td>Ярославль</td>\n",
       "      <td>Ж</td>\n",
       "      <td>38</td>\n",
       "      <td>4</td>\n",
       "      <td>458145.40</td>\n",
       "      <td>2</td>\n",
       "      <td>1</td>\n",
       "      <td>1</td>\n",
       "      <td>68085.48</td>\n",
       "      <td>0</td>\n",
       "      <td>0</td>\n",
       "      <td>1</td>\n",
       "      <td>0</td>\n",
       "      <td>0</td>\n",
       "      <td>0</td>\n",
       "      <td>1</td>\n",
       "    </tr>\n",
       "    <tr>\n",
       "      <th>...</th>\n",
       "      <td>...</td>\n",
       "      <td>...</td>\n",
       "      <td>...</td>\n",
       "      <td>...</td>\n",
       "      <td>...</td>\n",
       "      <td>...</td>\n",
       "      <td>...</td>\n",
       "      <td>...</td>\n",
       "      <td>...</td>\n",
       "      <td>...</td>\n",
       "      <td>...</td>\n",
       "      <td>...</td>\n",
       "      <td>...</td>\n",
       "      <td>...</td>\n",
       "      <td>...</td>\n",
       "      <td>...</td>\n",
       "      <td>...</td>\n",
       "      <td>...</td>\n",
       "    </tr>\n",
       "    <tr>\n",
       "      <th>9995</th>\n",
       "      <td>120553</td>\n",
       "      <td>814.0</td>\n",
       "      <td>Рыбинск</td>\n",
       "      <td>М</td>\n",
       "      <td>27</td>\n",
       "      <td>1</td>\n",
       "      <td>78144.65</td>\n",
       "      <td>1</td>\n",
       "      <td>0</td>\n",
       "      <td>1</td>\n",
       "      <td>18943.64</td>\n",
       "      <td>0</td>\n",
       "      <td>0</td>\n",
       "      <td>0</td>\n",
       "      <td>1</td>\n",
       "      <td>0</td>\n",
       "      <td>1</td>\n",
       "      <td>0</td>\n",
       "    </tr>\n",
       "    <tr>\n",
       "      <th>9996</th>\n",
       "      <td>139170</td>\n",
       "      <td>894.0</td>\n",
       "      <td>Ярославль</td>\n",
       "      <td>М</td>\n",
       "      <td>46</td>\n",
       "      <td>0</td>\n",
       "      <td>NaN</td>\n",
       "      <td>1</td>\n",
       "      <td>1</td>\n",
       "      <td>0</td>\n",
       "      <td>196898.29</td>\n",
       "      <td>0</td>\n",
       "      <td>1</td>\n",
       "      <td>0</td>\n",
       "      <td>1</td>\n",
       "      <td>0</td>\n",
       "      <td>0</td>\n",
       "      <td>1</td>\n",
       "    </tr>\n",
       "    <tr>\n",
       "      <th>9997</th>\n",
       "      <td>115639</td>\n",
       "      <td>903.0</td>\n",
       "      <td>Ярославль</td>\n",
       "      <td>М</td>\n",
       "      <td>24</td>\n",
       "      <td>0</td>\n",
       "      <td>NaN</td>\n",
       "      <td>2</td>\n",
       "      <td>1</td>\n",
       "      <td>1</td>\n",
       "      <td>108905.09</td>\n",
       "      <td>0</td>\n",
       "      <td>1</td>\n",
       "      <td>0</td>\n",
       "      <td>1</td>\n",
       "      <td>0</td>\n",
       "      <td>0</td>\n",
       "      <td>1</td>\n",
       "    </tr>\n",
       "    <tr>\n",
       "      <th>9998</th>\n",
       "      <td>148700</td>\n",
       "      <td>777.0</td>\n",
       "      <td>Ярославль</td>\n",
       "      <td>Ж</td>\n",
       "      <td>68</td>\n",
       "      <td>3</td>\n",
       "      <td>865457.97</td>\n",
       "      <td>3</td>\n",
       "      <td>0</td>\n",
       "      <td>1</td>\n",
       "      <td>86874.90</td>\n",
       "      <td>0</td>\n",
       "      <td>0</td>\n",
       "      <td>1</td>\n",
       "      <td>0</td>\n",
       "      <td>0</td>\n",
       "      <td>0</td>\n",
       "      <td>1</td>\n",
       "    </tr>\n",
       "    <tr>\n",
       "      <th>9999</th>\n",
       "      <td>96267</td>\n",
       "      <td>828.0</td>\n",
       "      <td>Рыбинск</td>\n",
       "      <td>Ж</td>\n",
       "      <td>58</td>\n",
       "      <td>3</td>\n",
       "      <td>1180886.70</td>\n",
       "      <td>4</td>\n",
       "      <td>0</td>\n",
       "      <td>1</td>\n",
       "      <td>21422.37</td>\n",
       "      <td>0</td>\n",
       "      <td>0</td>\n",
       "      <td>1</td>\n",
       "      <td>0</td>\n",
       "      <td>0</td>\n",
       "      <td>1</td>\n",
       "      <td>0</td>\n",
       "    </tr>\n",
       "  </tbody>\n",
       "</table>\n",
       "<p>8155 rows × 18 columns</p>\n",
       "</div>"
      ],
      "text/plain": [
       "      user_id  score       city gender  age  equity     balance  products  \\\n",
       "1      146556  861.0    Рыбинск      Ж   37       5   850594.33         3   \n",
       "2      120722  892.0    Рыбинск      Ж   30       0         NaN         1   \n",
       "5      202305  856.0    Рыбинск      М   56       4   863687.24         3   \n",
       "6      177259  807.0  Ярославль      Ж   39       3   405042.44         3   \n",
       "7      218868  825.0  Ярославль      Ж   38       4   458145.40         2   \n",
       "...       ...    ...        ...    ...  ...     ...         ...       ...   \n",
       "9995   120553  814.0    Рыбинск      М   27       1    78144.65         1   \n",
       "9996   139170  894.0  Ярославль      М   46       0         NaN         1   \n",
       "9997   115639  903.0  Ярославль      М   24       0         NaN         2   \n",
       "9998   148700  777.0  Ярославль      Ж   68       3   865457.97         3   \n",
       "9999    96267  828.0    Рыбинск      Ж   58       3  1180886.70         4   \n",
       "\n",
       "      credit_card  last_activity  est_salary  churn  flag  female  male  \\\n",
       "1               1              0    86621.77      0     0       1     0   \n",
       "2               1              1   107683.34      0     1       1     0   \n",
       "5               1              0   156619.80      0     0       0     1   \n",
       "6               0              1   103838.32      0     0       1     0   \n",
       "7               1              1    68085.48      0     0       1     0   \n",
       "...           ...            ...         ...    ...   ...     ...   ...   \n",
       "9995            0              1    18943.64      0     0       0     1   \n",
       "9996            1              0   196898.29      0     1       0     1   \n",
       "9997            1              1   108905.09      0     1       0     1   \n",
       "9998            0              1    86874.90      0     0       1     0   \n",
       "9999            0              1    21422.37      0     0       1     0   \n",
       "\n",
       "      Ростов  Рыбинск  Ярославль  \n",
       "1          0        1          0  \n",
       "2          0        1          0  \n",
       "5          0        1          0  \n",
       "6          0        0          1  \n",
       "7          0        0          1  \n",
       "...      ...      ...        ...  \n",
       "9995       0        1          0  \n",
       "9996       0        0          1  \n",
       "9997       0        0          1  \n",
       "9998       0        0          1  \n",
       "9999       0        1          0  \n",
       "\n",
       "[8155 rows x 18 columns]"
      ]
     },
     "execution_count": 41,
     "metadata": {},
     "output_type": "execute_result"
    }
   ],
   "source": [
    "df_0 = df.query('churn == 0')\n",
    "df_0"
   ]
  },
  {
   "cell_type": "code",
   "execution_count": 42,
   "metadata": {},
   "outputs": [
    {
     "data": {
      "text/html": [
       "<div>\n",
       "<style scoped>\n",
       "    .dataframe tbody tr th:only-of-type {\n",
       "        vertical-align: middle;\n",
       "    }\n",
       "\n",
       "    .dataframe tbody tr th {\n",
       "        vertical-align: top;\n",
       "    }\n",
       "\n",
       "    .dataframe thead th {\n",
       "        text-align: right;\n",
       "    }\n",
       "</style>\n",
       "<table border=\"1\" class=\"dataframe\">\n",
       "  <thead>\n",
       "    <tr style=\"text-align: right;\">\n",
       "      <th></th>\n",
       "      <th>user_id</th>\n",
       "      <th>score</th>\n",
       "      <th>city</th>\n",
       "      <th>gender</th>\n",
       "      <th>age</th>\n",
       "      <th>equity</th>\n",
       "      <th>balance</th>\n",
       "      <th>products</th>\n",
       "      <th>credit_card</th>\n",
       "      <th>last_activity</th>\n",
       "      <th>est_salary</th>\n",
       "      <th>churn</th>\n",
       "      <th>flag</th>\n",
       "      <th>female</th>\n",
       "      <th>male</th>\n",
       "      <th>Ростов</th>\n",
       "      <th>Рыбинск</th>\n",
       "      <th>Ярославль</th>\n",
       "    </tr>\n",
       "  </thead>\n",
       "  <tbody>\n",
       "    <tr>\n",
       "      <th>0</th>\n",
       "      <td>183012</td>\n",
       "      <td>850.0</td>\n",
       "      <td>Рыбинск</td>\n",
       "      <td>Ж</td>\n",
       "      <td>25</td>\n",
       "      <td>1</td>\n",
       "      <td>59214.82</td>\n",
       "      <td>2</td>\n",
       "      <td>0</td>\n",
       "      <td>1</td>\n",
       "      <td>75719.14</td>\n",
       "      <td>1</td>\n",
       "      <td>0</td>\n",
       "      <td>1</td>\n",
       "      <td>0</td>\n",
       "      <td>0</td>\n",
       "      <td>1</td>\n",
       "      <td>0</td>\n",
       "    </tr>\n",
       "    <tr>\n",
       "      <th>3</th>\n",
       "      <td>225363</td>\n",
       "      <td>866.0</td>\n",
       "      <td>Ярославль</td>\n",
       "      <td>Ж</td>\n",
       "      <td>51</td>\n",
       "      <td>5</td>\n",
       "      <td>1524746.26</td>\n",
       "      <td>2</td>\n",
       "      <td>0</td>\n",
       "      <td>1</td>\n",
       "      <td>174423.53</td>\n",
       "      <td>1</td>\n",
       "      <td>0</td>\n",
       "      <td>1</td>\n",
       "      <td>0</td>\n",
       "      <td>0</td>\n",
       "      <td>0</td>\n",
       "      <td>1</td>\n",
       "    </tr>\n",
       "    <tr>\n",
       "      <th>4</th>\n",
       "      <td>157978</td>\n",
       "      <td>730.0</td>\n",
       "      <td>Ярославль</td>\n",
       "      <td>М</td>\n",
       "      <td>34</td>\n",
       "      <td>5</td>\n",
       "      <td>174.00</td>\n",
       "      <td>1</td>\n",
       "      <td>1</td>\n",
       "      <td>0</td>\n",
       "      <td>67353.16</td>\n",
       "      <td>1</td>\n",
       "      <td>0</td>\n",
       "      <td>0</td>\n",
       "      <td>1</td>\n",
       "      <td>0</td>\n",
       "      <td>0</td>\n",
       "      <td>1</td>\n",
       "    </tr>\n",
       "    <tr>\n",
       "      <th>12</th>\n",
       "      <td>132970</td>\n",
       "      <td>845.0</td>\n",
       "      <td>Ярославль</td>\n",
       "      <td>Ж</td>\n",
       "      <td>31</td>\n",
       "      <td>3</td>\n",
       "      <td>591928.52</td>\n",
       "      <td>2</td>\n",
       "      <td>1</td>\n",
       "      <td>1</td>\n",
       "      <td>112697.16</td>\n",
       "      <td>1</td>\n",
       "      <td>0</td>\n",
       "      <td>1</td>\n",
       "      <td>0</td>\n",
       "      <td>0</td>\n",
       "      <td>0</td>\n",
       "      <td>1</td>\n",
       "    </tr>\n",
       "    <tr>\n",
       "      <th>40</th>\n",
       "      <td>129705</td>\n",
       "      <td>811.0</td>\n",
       "      <td>Рыбинск</td>\n",
       "      <td>М</td>\n",
       "      <td>34</td>\n",
       "      <td>2</td>\n",
       "      <td>129799.35</td>\n",
       "      <td>1</td>\n",
       "      <td>0</td>\n",
       "      <td>0</td>\n",
       "      <td>96242.71</td>\n",
       "      <td>1</td>\n",
       "      <td>0</td>\n",
       "      <td>0</td>\n",
       "      <td>1</td>\n",
       "      <td>0</td>\n",
       "      <td>1</td>\n",
       "      <td>0</td>\n",
       "    </tr>\n",
       "    <tr>\n",
       "      <th>...</th>\n",
       "      <td>...</td>\n",
       "      <td>...</td>\n",
       "      <td>...</td>\n",
       "      <td>...</td>\n",
       "      <td>...</td>\n",
       "      <td>...</td>\n",
       "      <td>...</td>\n",
       "      <td>...</td>\n",
       "      <td>...</td>\n",
       "      <td>...</td>\n",
       "      <td>...</td>\n",
       "      <td>...</td>\n",
       "      <td>...</td>\n",
       "      <td>...</td>\n",
       "      <td>...</td>\n",
       "      <td>...</td>\n",
       "      <td>...</td>\n",
       "      <td>...</td>\n",
       "    </tr>\n",
       "    <tr>\n",
       "      <th>9981</th>\n",
       "      <td>154871</td>\n",
       "      <td>892.0</td>\n",
       "      <td>Рыбинск</td>\n",
       "      <td>М</td>\n",
       "      <td>39</td>\n",
       "      <td>5</td>\n",
       "      <td>636287.72</td>\n",
       "      <td>2</td>\n",
       "      <td>0</td>\n",
       "      <td>1</td>\n",
       "      <td>227288.27</td>\n",
       "      <td>1</td>\n",
       "      <td>0</td>\n",
       "      <td>0</td>\n",
       "      <td>1</td>\n",
       "      <td>0</td>\n",
       "      <td>1</td>\n",
       "      <td>0</td>\n",
       "    </tr>\n",
       "    <tr>\n",
       "      <th>9986</th>\n",
       "      <td>152986</td>\n",
       "      <td>822.0</td>\n",
       "      <td>Ярославль</td>\n",
       "      <td>М</td>\n",
       "      <td>58</td>\n",
       "      <td>5</td>\n",
       "      <td>1434857.91</td>\n",
       "      <td>2</td>\n",
       "      <td>0</td>\n",
       "      <td>1</td>\n",
       "      <td>83442.41</td>\n",
       "      <td>1</td>\n",
       "      <td>0</td>\n",
       "      <td>0</td>\n",
       "      <td>1</td>\n",
       "      <td>0</td>\n",
       "      <td>0</td>\n",
       "      <td>1</td>\n",
       "    </tr>\n",
       "    <tr>\n",
       "      <th>9987</th>\n",
       "      <td>151279</td>\n",
       "      <td>783.0</td>\n",
       "      <td>Рыбинск</td>\n",
       "      <td>Ж</td>\n",
       "      <td>61</td>\n",
       "      <td>3</td>\n",
       "      <td>387916.16</td>\n",
       "      <td>2</td>\n",
       "      <td>1</td>\n",
       "      <td>0</td>\n",
       "      <td>63160.96</td>\n",
       "      <td>1</td>\n",
       "      <td>0</td>\n",
       "      <td>1</td>\n",
       "      <td>0</td>\n",
       "      <td>0</td>\n",
       "      <td>1</td>\n",
       "      <td>0</td>\n",
       "    </tr>\n",
       "    <tr>\n",
       "      <th>9992</th>\n",
       "      <td>167165</td>\n",
       "      <td>813.0</td>\n",
       "      <td>Рыбинск</td>\n",
       "      <td>М</td>\n",
       "      <td>48</td>\n",
       "      <td>2</td>\n",
       "      <td>179765.62</td>\n",
       "      <td>2</td>\n",
       "      <td>1</td>\n",
       "      <td>0</td>\n",
       "      <td>133972.11</td>\n",
       "      <td>1</td>\n",
       "      <td>0</td>\n",
       "      <td>0</td>\n",
       "      <td>1</td>\n",
       "      <td>0</td>\n",
       "      <td>1</td>\n",
       "      <td>0</td>\n",
       "    </tr>\n",
       "    <tr>\n",
       "      <th>9994</th>\n",
       "      <td>114186</td>\n",
       "      <td>851.0</td>\n",
       "      <td>Ростов</td>\n",
       "      <td>М</td>\n",
       "      <td>42</td>\n",
       "      <td>3</td>\n",
       "      <td>370912.79</td>\n",
       "      <td>2</td>\n",
       "      <td>1</td>\n",
       "      <td>0</td>\n",
       "      <td>102123.93</td>\n",
       "      <td>1</td>\n",
       "      <td>0</td>\n",
       "      <td>0</td>\n",
       "      <td>1</td>\n",
       "      <td>1</td>\n",
       "      <td>0</td>\n",
       "      <td>0</td>\n",
       "    </tr>\n",
       "  </tbody>\n",
       "</table>\n",
       "<p>1818 rows × 18 columns</p>\n",
       "</div>"
      ],
      "text/plain": [
       "      user_id  score       city gender  age  equity     balance  products  \\\n",
       "0      183012  850.0    Рыбинск      Ж   25       1    59214.82         2   \n",
       "3      225363  866.0  Ярославль      Ж   51       5  1524746.26         2   \n",
       "4      157978  730.0  Ярославль      М   34       5      174.00         1   \n",
       "12     132970  845.0  Ярославль      Ж   31       3   591928.52         2   \n",
       "40     129705  811.0    Рыбинск      М   34       2   129799.35         1   \n",
       "...       ...    ...        ...    ...  ...     ...         ...       ...   \n",
       "9981   154871  892.0    Рыбинск      М   39       5   636287.72         2   \n",
       "9986   152986  822.0  Ярославль      М   58       5  1434857.91         2   \n",
       "9987   151279  783.0    Рыбинск      Ж   61       3   387916.16         2   \n",
       "9992   167165  813.0    Рыбинск      М   48       2   179765.62         2   \n",
       "9994   114186  851.0     Ростов      М   42       3   370912.79         2   \n",
       "\n",
       "      credit_card  last_activity  est_salary  churn  flag  female  male  \\\n",
       "0               0              1    75719.14      1     0       1     0   \n",
       "3               0              1   174423.53      1     0       1     0   \n",
       "4               1              0    67353.16      1     0       0     1   \n",
       "12              1              1   112697.16      1     0       1     0   \n",
       "40              0              0    96242.71      1     0       0     1   \n",
       "...           ...            ...         ...    ...   ...     ...   ...   \n",
       "9981            0              1   227288.27      1     0       0     1   \n",
       "9986            0              1    83442.41      1     0       0     1   \n",
       "9987            1              0    63160.96      1     0       1     0   \n",
       "9992            1              0   133972.11      1     0       0     1   \n",
       "9994            1              0   102123.93      1     0       0     1   \n",
       "\n",
       "      Ростов  Рыбинск  Ярославль  \n",
       "0          0        1          0  \n",
       "3          0        0          1  \n",
       "4          0        0          1  \n",
       "12         0        0          1  \n",
       "40         0        1          0  \n",
       "...      ...      ...        ...  \n",
       "9981       0        1          0  \n",
       "9986       0        0          1  \n",
       "9987       0        1          0  \n",
       "9992       0        1          0  \n",
       "9994       1        0          0  \n",
       "\n",
       "[1818 rows x 18 columns]"
      ]
     },
     "execution_count": 42,
     "metadata": {},
     "output_type": "execute_result"
    }
   ],
   "source": [
    "df_1 = df.query('churn == 1')\n",
    "df_1"
   ]
  },
  {
   "cell_type": "markdown",
   "metadata": {},
   "source": [
    "### Проверка гипотезы о равенстве среднего дохода между клиентами, которые ушли и теми, которые остались"
   ]
  },
  {
   "cell_type": "markdown",
   "metadata": {},
   "source": [
    "Теперь найдем дисперсии наших выборок"
   ]
  },
  {
   "cell_type": "code",
   "execution_count": 43,
   "metadata": {},
   "outputs": [
    {
     "name": "stdout",
     "output_type": "stream",
     "text": [
      "Дисперсия зарплат оставшихся клиентов =  20356342952.42\n",
      "Дисперсия зарплат отточных клиентов =  15103959585.93\n"
     ]
    }
   ],
   "source": [
    "print('Дисперсия зарплат оставшихся клиентов = ', round(np.var(df_0['est_salary']),2))\n",
    "print('Дисперсия зарплат отточных клиентов = ', round(np.var(df_1['est_salary']),2))"
   ]
  },
  {
   "cell_type": "markdown",
   "metadata": {},
   "source": [
    "Т.к. дисперсии у нас не равныe, то при использовании критерия Стьюдента будем использовать параметр equal_var=False"
   ]
  },
  {
   "cell_type": "code",
   "execution_count": 44,
   "metadata": {},
   "outputs": [
    {
     "name": "stdout",
     "output_type": "stream",
     "text": [
      "Средняя зарплата оставшихся клиентов =  147674.64\n",
      "Средняя зарплата отточных клиентов =  148357.48\n"
     ]
    }
   ],
   "source": [
    "print('Средняя зарплата оставшихся клиентов = ', round(df_0['est_salary'].mean(),2))\n",
    "print('Средняя зарплата отточных клиентов = ', round(df_1['est_salary'].mean(),2))"
   ]
  },
  {
   "cell_type": "markdown",
   "metadata": {},
   "source": [
    "Нулевая гипотеза H0: средняя зарплата оставшихся и отточных клиентов равна\n",
    "\n",
    "Альтернативная гипотеза H1: средняя зарплата оставшихся и отточных клиентов не равна\n",
    "\n",
    "Уровень значимость примем равным 0,05."
   ]
  },
  {
   "cell_type": "code",
   "execution_count": 45,
   "metadata": {},
   "outputs": [],
   "source": [
    "alpha = 0.05"
   ]
  },
  {
   "cell_type": "code",
   "execution_count": 46,
   "metadata": {},
   "outputs": [
    {
     "name": "stdout",
     "output_type": "stream",
     "text": [
      "p-значение: 0.8354803526840116\n",
      "Не получилось отвергнуть нулевую гипотезу\n"
     ]
    }
   ],
   "source": [
    "results = st.ttest_ind(df_0['est_salary'], df_1['est_salary'], equal_var=False)\n",
    "print('p-значение:', results.pvalue)\n",
    "if results.pvalue < alpha:\n",
    "    print(\"Отвергаем нулевую гипотезу\")\n",
    "else:\n",
    "    print(\"Не получилось отвергнуть нулевую гипотезу\")"
   ]
  },
  {
   "cell_type": "markdown",
   "metadata": {},
   "source": [
    "По результату t-теста мы можем сделать вывод, что различия в средних доходах между оставшихся и отточных клиентах не имеют статистической значимости. А это значит, что мы не можем отвергнуть нулевую гипотезу. Следовательно, средние доходы между группами равны."
   ]
  },
  {
   "cell_type": "markdown",
   "metadata": {},
   "source": [
    "### Проверка гипотезы о равенстве среднего возраста между клиентами, которые ушли и теми, которые остались"
   ]
  },
  {
   "cell_type": "code",
   "execution_count": 47,
   "metadata": {},
   "outputs": [
    {
     "name": "stdout",
     "output_type": "stream",
     "text": [
      "Дисперсия возраста оставшихся клиентов =  153.13\n",
      "Дисперсия возраста отточных клиентов =  124.14\n"
     ]
    }
   ],
   "source": [
    "print('Дисперсия возраста оставшихся клиентов = ', round(np.var(df_0['age']),2))\n",
    "print('Дисперсия возраста отточных клиентов = ', round(np.var(df_1['age']),2))"
   ]
  },
  {
   "cell_type": "code",
   "execution_count": 48,
   "metadata": {},
   "outputs": [
    {
     "name": "stdout",
     "output_type": "stream",
     "text": [
      "Средний возраст оставшихся клиентов =  43.02\n",
      "Средний возраст отточных клиентов =  41.43\n"
     ]
    }
   ],
   "source": [
    "print('Средний возраст оставшихся клиентов = ', round(df_0['age'].mean(),2))\n",
    "print('Средний возраст отточных клиентов = ', round(df_1['age'].mean(),2))"
   ]
  },
  {
   "cell_type": "markdown",
   "metadata": {},
   "source": [
    "Нулевая гипотеза H0: средний возраст оставшихся и отточных клиентов равен\n",
    "\n",
    "Альтернативная гипотеза H1: средний возраст оставшихся и отточных клиентов не равен"
   ]
  },
  {
   "cell_type": "code",
   "execution_count": 49,
   "metadata": {},
   "outputs": [
    {
     "name": "stdout",
     "output_type": "stream",
     "text": [
      "p-значение: 7.536127357312234e-08\n",
      "Отвергаем нулевую гипотезу\n"
     ]
    }
   ],
   "source": [
    "results = st.ttest_ind(df_0['age'], df_1['age'], equal_var=False)\n",
    "print('p-значение:', results.pvalue)\n",
    "if results.pvalue < alpha:\n",
    "    print(\"Отвергаем нулевую гипотезу\")\n",
    "else:\n",
    "    print(\"Не получилось отвергнуть нулевую гипотезу\")"
   ]
  },
  {
   "cell_type": "markdown",
   "metadata": {},
   "source": [
    "Различия в среднем возрасте имеют статистическую значимость и значит мы отвергаем нулевую гипотезу. Средний возраст оставшихся и ушедших клиентов различается."
   ]
  },
  {
   "cell_type": "markdown",
   "metadata": {},
   "source": [
    "### Проверка гипотезы о равенстве среднего количества используемых банковских продуктов между клиентами, которые ушли и теми, которые остались"
   ]
  },
  {
   "cell_type": "code",
   "execution_count": 50,
   "metadata": {},
   "outputs": [
    {
     "name": "stdout",
     "output_type": "stream",
     "text": [
      "Дисперсия количества используемых банковских продуктов у оставшихся клиентов =  0.51\n",
      "Дисперсия количества используемых банковских продуктов у отточных клиентов =  0.85\n"
     ]
    }
   ],
   "source": [
    "print('Дисперсия количества используемых банковских продуктов у оставшихся клиентов = ', round(np.var(df_0['products']),2))\n",
    "print('Дисперсия количества используемых банковских продуктов у отточных клиентов = ', round(np.var(df_1['products']),2))"
   ]
  },
  {
   "cell_type": "code",
   "execution_count": 51,
   "metadata": {},
   "outputs": [
    {
     "name": "stdout",
     "output_type": "stream",
     "text": [
      "Среднее кол-во используемых банковских продуктов у оставшихся клиентов =  1.76\n",
      "Среднее кол-во используемых банковских продуктов у отточных клиентов =  2.38\n"
     ]
    }
   ],
   "source": [
    "print('Среднее кол-во используемых банковских продуктов у оставшихся клиентов = ', round(df_0['products'].mean(),2))\n",
    "print('Среднее кол-во используемых банковских продуктов у отточных клиентов = ', round(df_1['products'].mean(),2))"
   ]
  },
  {
   "cell_type": "markdown",
   "metadata": {},
   "source": [
    "Нулевая гипотеза H0: среднее кол-во используемых банковских продуктов у оставшихся и отточных клиентов равно\n",
    "\n",
    "Альтернативная гипотеза H1: Среднее кол-во используемых банковских продуктов у оставшихся и отточных клиентов не равно"
   ]
  },
  {
   "cell_type": "code",
   "execution_count": 52,
   "metadata": {},
   "outputs": [
    {
     "name": "stdout",
     "output_type": "stream",
     "text": [
      "p-значение: 1.2671065900765871e-138\n",
      "Отвергаем нулевую гипотезу\n"
     ]
    }
   ],
   "source": [
    "results = st.ttest_ind(df_0['products'], df_1['products'], equal_var=False)\n",
    "print('p-значение:', results.pvalue)\n",
    "if results.pvalue < alpha:\n",
    "    print(\"Отвергаем нулевую гипотезу\")\n",
    "else:\n",
    "    print(\"Не получилось отвергнуть нулевую гипотезу\")"
   ]
  },
  {
   "cell_type": "markdown",
   "metadata": {},
   "source": [
    "Различия в среднем количестве используемых продуктов имеют статистическую значимость и значит мы отвергаем нулевую гипотезу. Среднее количество используемых подуктов у оставшихся и ушедших клиентов различается."
   ]
  },
  {
   "cell_type": "markdown",
   "metadata": {},
   "source": [
    "### Проверка гипотезы о равенстве в среднем количестве баллов собственности между клиентами, которые ушли и теми, которые остались"
   ]
  },
  {
   "cell_type": "code",
   "execution_count": 53,
   "metadata": {},
   "outputs": [
    {
     "name": "stdout",
     "output_type": "stream",
     "text": [
      "Дисперсия кол-ва баллов собственности у оставшихся клиентов =  3.88\n",
      "Дисперсия кол-ва баллов собственности у отточных клиентов =  2.52\n"
     ]
    }
   ],
   "source": [
    "print('Дисперсия кол-ва баллов собственности у оставшихся клиентов = ', round(np.var(df_0['equity']),2))\n",
    "print('Дисперсия кол-ва баллов собственности у отточных клиентов = ', round(np.var(df_1['equity']),2))"
   ]
  },
  {
   "cell_type": "code",
   "execution_count": 54,
   "metadata": {},
   "outputs": [
    {
     "name": "stdout",
     "output_type": "stream",
     "text": [
      "Среднее кол-во баллов собственности у оставшихся клиентов =  2.38\n",
      "Среднее кол-во баллов собственности у отточных клиентов =  3.76\n"
     ]
    }
   ],
   "source": [
    "print('Среднее кол-во баллов собственности у оставшихся клиентов = ', round(df_0['equity'].mean(),2))\n",
    "print('Среднее кол-во баллов собственности у отточных клиентов = ', round(df_1['equity'].mean(),2))"
   ]
  },
  {
   "cell_type": "code",
   "execution_count": 55,
   "metadata": {},
   "outputs": [
    {
     "name": "stdout",
     "output_type": "stream",
     "text": [
      "p-значение: 2.2265321241808214e-196\n",
      "Отвергаем нулевую гипотезу\n"
     ]
    }
   ],
   "source": [
    "results = st.ttest_ind(df_0['equity'], df_1['equity'], equal_var=False)\n",
    "print('p-значение:', results.pvalue)\n",
    "if results.pvalue < alpha:\n",
    "    print(\"Отвергаем нулевую гипотезу\")\n",
    "else:\n",
    "    print(\"Не получилось отвергнуть нулевую гипотезу\")"
   ]
  },
  {
   "cell_type": "markdown",
   "metadata": {},
   "source": [
    "Различия в среднем количестве баллов собственности имеют статистическую значимость и значит мы отвергаем нулевую гипотезу. Среднее количество баллов собственности у оставшихся и ушедших клиентов различается."
   ]
  },
  {
   "cell_type": "markdown",
   "metadata": {},
   "source": [
    "## Сегментация пользователей"
   ]
  },
  {
   "cell_type": "markdown",
   "metadata": {},
   "source": [
    "По итогам проведенного исследовательского анализа, корреляции признаков и проверки гипотез выделим несколько сегментов пользователей, которые склонны к оттоку.\n",
    "\n",
    "В качестве критериев для сегментации будем использовать:\n",
    "- количество используемых продуктов\n",
    "- количество баллов собственности\n",
    "- активность клиента\n",
    "- пол\n",
    "- есть ли кредитная карта\n",
    "- возраст"
   ]
  },
  {
   "cell_type": "code",
   "execution_count": 56,
   "metadata": {},
   "outputs": [
    {
     "name": "stdout",
     "output_type": "stream",
     "text": [
      "Уровень среднебанковского оттока: 18.23\n"
     ]
    }
   ],
   "source": [
    "print('Уровень среднебанковского оттока:', round((df.query('churn==1')['user_id'].count() / len(df))*100,2))"
   ]
  },
  {
   "cell_type": "markdown",
   "metadata": {},
   "source": [
    "Выделим сегменты, содержащие более 500 пользователей, в которых уровень оттока выше среднебанковского."
   ]
  },
  {
   "cell_type": "markdown",
   "metadata": {},
   "source": [
    "### Сегмент №1"
   ]
  },
  {
   "cell_type": "markdown",
   "metadata": {},
   "source": [
    "- мужчина\n",
    "- кредитная карта: нет\n",
    "- возраст: от 25 до 50\n",
    "- кол-во используемых продуктов: меньше 4"
   ]
  },
  {
   "cell_type": "code",
   "execution_count": 57,
   "metadata": {},
   "outputs": [],
   "source": [
    "segment_1 = df.query('gender==\"М\"  and credit_card==0 and age>=25 and age <=50 and products<=3')"
   ]
  },
  {
   "cell_type": "code",
   "execution_count": 58,
   "metadata": {},
   "outputs": [
    {
     "name": "stdout",
     "output_type": "stream",
     "text": [
      "Кол-во пользователей: 891\n",
      "Кол-во отточных клиентов: 289\n",
      "Уровень оттока: 32.44\n"
     ]
    }
   ],
   "source": [
    "print('Кол-во пользователей:', len(segment_1))\n",
    "print('Кол-во отточных клиентов:', segment_1.query('churn==1')['user_id'].count())\n",
    "print('Уровень оттока:', round((segment_1.query('churn==1')['user_id'].count() / len(segment_1))*100,2))"
   ]
  },
  {
   "cell_type": "markdown",
   "metadata": {},
   "source": [
    "### Сегмент №2"
   ]
  },
  {
   "cell_type": "markdown",
   "metadata": {},
   "source": [
    "- активный клиент\n",
    "- мужчина\n",
    "- кол-во используемых продуктов: меньше 3\n",
    "- кол-во баллов собственности: от 3"
   ]
  },
  {
   "cell_type": "code",
   "execution_count": 59,
   "metadata": {},
   "outputs": [],
   "source": [
    "segment_2 = df.query('last_activity==1 and gender==\"М\" and products<3 and equity>=3')"
   ]
  },
  {
   "cell_type": "code",
   "execution_count": 60,
   "metadata": {},
   "outputs": [
    {
     "name": "stdout",
     "output_type": "stream",
     "text": [
      "Кол-во пользователей: 1057\n",
      "Кол-во отточных клиентов: 448\n",
      "Уровень оттока: 42.38\n"
     ]
    }
   ],
   "source": [
    "print('Кол-во пользователей:', len(segment_2))\n",
    "print('Кол-во отточных клиентов:', segment_2.query('churn==1')['user_id'].count())\n",
    "print('Уровень оттока:', round((segment_2.query('churn==1')['user_id'].count() / len(segment_2))*100,2))"
   ]
  },
  {
   "cell_type": "markdown",
   "metadata": {},
   "source": [
    "### Сегмент №3"
   ]
  },
  {
   "cell_type": "markdown",
   "metadata": {},
   "source": [
    "- активный клиент\n",
    "- женщина\n",
    "- кол-во используемых продуктов: меньше 3\n",
    "- кредитная карта: нет"
   ]
  },
  {
   "cell_type": "code",
   "execution_count": 61,
   "metadata": {},
   "outputs": [],
   "source": [
    "segment_3 = df.query('last_activity==1 and gender==\"Ж\" and products<3 and credit_card==0')"
   ]
  },
  {
   "cell_type": "code",
   "execution_count": 62,
   "metadata": {},
   "outputs": [
    {
     "name": "stdout",
     "output_type": "stream",
     "text": [
      "Кол-во пользователей: 767\n",
      "Кол-во отточных клиентов: 217\n",
      "Уровень оттока: 28.29\n"
     ]
    }
   ],
   "source": [
    "print('Кол-во пользователей:', len(segment_3))\n",
    "print('Кол-во отточных клиентов:', segment_3.query('churn==1')['user_id'].count())\n",
    "print('Уровень оттока:', round((segment_3.query('churn==1')['user_id'].count() / len(segment_3))*100,2))"
   ]
  },
  {
   "cell_type": "markdown",
   "metadata": {},
   "source": [
    "### Сегмент №4"
   ]
  },
  {
   "cell_type": "markdown",
   "metadata": {},
   "source": [
    "- возраст: от 25 до 45\n",
    "- кол-во используемых продуктов: от 3\n",
    "- кол-во баллов собственности: от 4"
   ]
  },
  {
   "cell_type": "code",
   "execution_count": 63,
   "metadata": {},
   "outputs": [],
   "source": [
    "segment_4 = df.query('age>=25 and age<=45 and products>=3 and equity>=4')"
   ]
  },
  {
   "cell_type": "code",
   "execution_count": 64,
   "metadata": {},
   "outputs": [
    {
     "name": "stdout",
     "output_type": "stream",
     "text": [
      "Кол-во пользователей: 587\n",
      "Кол-во отточных клиентов: 264\n",
      "Уровень оттока: 44.97\n"
     ]
    }
   ],
   "source": [
    "print('Кол-во пользователей:', len(segment_4))\n",
    "print('Кол-во отточных клиентов:', segment_4.query('churn==1')['user_id'].count())\n",
    "print('Уровень оттока:', round((segment_4.query('churn==1')['user_id'].count() / len(segment_4))*100,2))"
   ]
  },
  {
   "cell_type": "markdown",
   "metadata": {},
   "source": [
    "## Приоритизация сегментов"
   ]
  },
  {
   "cell_type": "markdown",
   "metadata": {},
   "source": [
    "Расположим сегменты в порядке убывания доли отточных клиентов:\n",
    "1. **Сегмент №4**, уровень оттока 44,97%\n",
    "- возраст: от 25 до 45\n",
    "- кол-во используемых продуктов: от 3\n",
    "- кол-во баллов собственности: от 4\n",
    "\n",
    "2. **Сегмент №2**, уровень оттока 42,38%\n",
    "- активный клиент\n",
    "- мужчина\n",
    "- кол-во используемых продуктов: меньше 3\n",
    "- кол-во баллов собственности: от 3\n",
    "\n",
    "3. **Сегмент №1**, уровень оттока 32,44%\n",
    "- мужчина\n",
    "- кредитная карта: нет\n",
    "- возраст: от 25 до 50\n",
    "- кол-во используемых продуктов: меньше 4\n",
    "4. **Сегмент №3**, уровень оттока 28,29%\n",
    "- активный клиент\n",
    "- женщина\n",
    "- кол-во используемых продуктов: меньше 3\n",
    "- кредитная карта: нет"
   ]
  },
  {
   "cell_type": "markdown",
   "metadata": {},
   "source": [
    "## Вывод и рекомендации"
   ]
  },
  {
   "cell_type": "markdown",
   "metadata": {},
   "source": [
    "В ходе исследования мы проанализировали данные клиентов банка \"Метанпром\", обслуживающихся в отделениях Ярославля, Ростове Великом и Рыбинске (клиентские данные обезличены) и обнаружили, что:\n",
    "- количество клиентов до обработки 10000\n",
    "- баллы кредитного скоринга от 642 до 1000 (медианное значение 853)\n",
    "- возраст клиентов от 18 до 86 лет (медианное значение 40)\n",
    "- количество баллов собственности от 0 до 9 (медианное значение 3)\n",
    "- количество продуктов, которыми пользуется клиент от 0 до 5 (медианное значение 2)\n",
    "- баланс на счете от 0 до 119 млн\n",
    "- оценочный доход клиента от 2500 до 1,3 млн\n",
    "\n",
    "Также мы обнаружили дубликаты по user_id и выяснили, что это люди из разных городов (Ярославля и Рыбинска).\n",
    "\n",
    "Выяснили признаки отточных клиентов:\n",
    "- самый низкий процент ушедших клиентов в Рыбинске, высокий - в Ярославле\n",
    "- мужчины уходят почти в 2 раза чаще, чем женщины\n",
    "- чем больше баллов совственности, тем больше клиентов уходит\n",
    "- самый высокий отток клиентов, которые пользуются  4 продуктами\n",
    "- клиенты без кредитной карты уходят значительно чаще\n",
    "- активные клиенты уходят чаще более, чем в 2 раза\n",
    "- средний скоринговый баланс выше у отточных клиентов\n",
    "- пик отточных клиентов приходится на 34-35 и 55 лет\n",
    "- средний доход у отточных клиентов незначительно превышает доход оставшихся клиентов\n",
    "- средний баланс примерно одинаковый у клиентов обеих групп\n",
    "\n",
    "Согласно шкале корреляции Чеддока, все имеющиеся признаки имеют очень слабую корреляцию с оттоком. Признаки, имеющие наибольшую корреляцию с оттоком:\n",
    "- количество продуктов, которыми пользуется клиент - 0,3\n",
    "- количество баллов собственности - 0,27\n",
    "- активность клиента - 0,17\n",
    "- пол - 0,14\n",
    "- наличие кредитной карты - 0,13\n",
    "- баллы кредитного скоринга - 0,11\n",
    "\n",
    "Провели статистический анализ и проверили 4 гипотезы:\n",
    "- гипотезу о равенстве среднего дохода между отточными и оставшимися клиентами не смогли отвергнуть. Доходы между клиентами равны.\n",
    "- гипотеза о равенстве среднего возраста между отточными и оставшимися клиентами была отвергнута. Средний возраст в этих группах отличается.\n",
    "- гипотеза о равенстве среднего количества используемых банковских продуктов между отточными и оставшимися клиентами была отвергнута. Среднее количество используемых банковских продуктов отличается.\n",
    "- гипотеза о равенстве среднего количества баллов собственности между отточными и оставшимися клиентами была отвергнута. Среднее количество баллов собственности отличается.\n",
    "\n",
    "По итогам проведенного исследовательского анализа, корреляции признаков и проверки гипотез выделили и приоритизировали в порядке убывания доли отточных клиентов несколько сегментов пользователей, которые склонны к оттоку.\n",
    "\n",
    "В качестве критериев для сегментации использовали:\n",
    "- количество используемых продуктов\n",
    "- количество баллов собственности\n",
    "- активность клиента\n",
    "- пол\n",
    "- есть ли кредитная карта\n",
    "- возраст\n",
    "\n",
    "1. **Сегмент №4**, уровень оттока 44,97%\n",
    "- возраст: от 25 до 45\n",
    "- кол-во используемых продуктов: от 3\n",
    "- кол-во баллов собственности: от 4\n",
    "\n",
    "*Рекомендации:*\n",
    "- предложить специальные условия по страхованию объектов собственности\n",
    "- провести маркетинговые акции с крупными сетевыми магазинами: программы кэшбэка, начисление пользовательских баллов, розыгрыши призов\n",
    "- закрепление отдельного менеджера\n",
    "- начисление бонусов при проведении операций платежными картами в торговой сети или скидка при оплате картой за товар/услугу\n",
    "\n",
    "\n",
    "2. **Сегмент №2**, уровень оттока 42,38%\n",
    "- активный клиент\n",
    "- мужчина\n",
    "- кол-во используемых продуктов: меньше 3\n",
    "- кол-во баллов собственности: от 3\n",
    "\n",
    "*Рекомендации:*\n",
    "- предложить специальные условия по страхованию объектов собственности\n",
    "- информировать о новых доступных банковских продуктах\n",
    "- предложить продукт по сниженной процентной ставке\n",
    "- кешбэк: возврат процента от покупок в виде реальных денег на счёт клиента\n",
    "\n",
    "3. **Сегмент №1**, уровень оттока 32,44%\n",
    "- мужчина\n",
    "- кредитная карта: нет\n",
    "- возраст: от 25 до 50\n",
    "- кол-во используемых продуктов: меньше 4\n",
    "\n",
    "*Рекомендации:*\n",
    "- предложить оформить кредитную карту\n",
    "- информировать о новых доступных банковских продуктах\n",
    "- предложить повышенный кешбек на товары для спорта, активного отдыха и рыбалки\n",
    "- баллы или мили: накопление бонусных баллов или миль, которые обмениваются на товары, услуги или скидки\n",
    "\n",
    "\n",
    "4. **Сегмент №3**, уровень оттока 28,29%\n",
    "- активный клиент\n",
    "- женщина\n",
    "- кол-во используемых продуктов: меньше 3\n",
    "- кредитная карта: нет\n",
    "\n",
    "*Рекомендации:*\n",
    "- предложить оформить кредитную карту\n",
    "- информировать о новых доступных банковских продуктах\n",
    "- предложить продукт по сниженной процентной ставке\n",
    "- предложить повышенный кешбек на косметику, товары для дома и одежду"
   ]
  }
 ],
 "metadata": {
  "ExecuteTimeLog": [
   {
    "duration": 1254,
    "start_time": "2024-07-15T04:12:16.737Z"
   },
   {
    "duration": 160,
    "start_time": "2024-07-15T04:12:31.743Z"
   },
   {
    "duration": 71,
    "start_time": "2024-07-15T04:12:46.374Z"
   },
   {
    "duration": 11,
    "start_time": "2024-07-15T04:13:01.446Z"
   },
   {
    "duration": 13,
    "start_time": "2024-07-15T04:13:46.799Z"
   },
   {
    "duration": 46,
    "start_time": "2024-07-15T04:14:00.535Z"
   },
   {
    "duration": 31,
    "start_time": "2024-07-15T04:14:17.470Z"
   },
   {
    "duration": 10,
    "start_time": "2024-07-15T04:20:18.192Z"
   },
   {
    "duration": 13,
    "start_time": "2024-07-15T04:23:28.545Z"
   },
   {
    "duration": 32,
    "start_time": "2024-07-15T04:25:45.346Z"
   },
   {
    "duration": 29,
    "start_time": "2024-07-15T04:26:30.881Z"
   },
   {
    "duration": 16,
    "start_time": "2024-07-15T04:28:33.953Z"
   },
   {
    "duration": 30,
    "start_time": "2024-07-15T04:30:07.790Z"
   },
   {
    "duration": 3,
    "start_time": "2024-07-15T04:32:31.048Z"
   },
   {
    "duration": 14,
    "start_time": "2024-07-15T04:34:42.920Z"
   },
   {
    "duration": 29,
    "start_time": "2024-07-15T04:35:24.168Z"
   },
   {
    "duration": 12,
    "start_time": "2024-07-15T04:36:05.880Z"
   },
   {
    "duration": 3,
    "start_time": "2024-07-15T04:36:25.088Z"
   },
   {
    "duration": 72,
    "start_time": "2024-07-15T04:36:26.000Z"
   },
   {
    "duration": 10,
    "start_time": "2024-07-15T04:36:26.985Z"
   },
   {
    "duration": 35,
    "start_time": "2024-07-15T04:36:30.920Z"
   },
   {
    "duration": 12,
    "start_time": "2024-07-15T04:36:34.132Z"
   },
   {
    "duration": 3,
    "start_time": "2024-07-15T04:50:06.178Z"
   },
   {
    "duration": 9,
    "start_time": "2024-07-15T04:50:07.594Z"
   },
   {
    "duration": 10,
    "start_time": "2024-07-15T04:50:09.082Z"
   },
   {
    "duration": 13,
    "start_time": "2024-07-15T04:50:16.546Z"
   },
   {
    "duration": 29,
    "start_time": "2024-07-15T04:50:58.427Z"
   },
   {
    "duration": 10,
    "start_time": "2024-07-15T04:54:19.036Z"
   },
   {
    "duration": 11,
    "start_time": "2024-07-15T04:58:03.139Z"
   },
   {
    "duration": 18,
    "start_time": "2024-07-15T05:01:08.974Z"
   },
   {
    "duration": 3,
    "start_time": "2024-07-15T05:01:25.165Z"
   },
   {
    "duration": 67,
    "start_time": "2024-07-15T05:01:25.823Z"
   },
   {
    "duration": 26,
    "start_time": "2024-07-15T05:01:27.101Z"
   },
   {
    "duration": 41,
    "start_time": "2024-07-15T05:01:30.205Z"
   },
   {
    "duration": 10,
    "start_time": "2024-07-15T05:01:34.949Z"
   },
   {
    "duration": 20,
    "start_time": "2024-07-15T05:01:37.176Z"
   },
   {
    "duration": 12,
    "start_time": "2024-07-15T05:01:46.575Z"
   },
   {
    "duration": 4,
    "start_time": "2024-07-15T05:01:51.397Z"
   },
   {
    "duration": 9,
    "start_time": "2024-07-15T05:01:52.270Z"
   },
   {
    "duration": 12,
    "start_time": "2024-07-15T05:01:53.373Z"
   },
   {
    "duration": 13,
    "start_time": "2024-07-15T05:02:10.350Z"
   },
   {
    "duration": 3,
    "start_time": "2024-07-15T05:08:55.729Z"
   },
   {
    "duration": 3,
    "start_time": "2024-07-15T05:09:51.241Z"
   },
   {
    "duration": 233,
    "start_time": "2024-07-15T05:10:10.422Z"
   },
   {
    "duration": 3,
    "start_time": "2024-07-15T05:10:33.137Z"
   },
   {
    "duration": 203,
    "start_time": "2024-07-15T05:10:34.139Z"
   },
   {
    "duration": 1124,
    "start_time": "2024-07-15T05:11:13.377Z"
   },
   {
    "duration": 3,
    "start_time": "2024-07-15T05:13:45.066Z"
   },
   {
    "duration": 245,
    "start_time": "2024-07-15T05:13:50.298Z"
   },
   {
    "duration": 19,
    "start_time": "2024-07-15T05:17:57.107Z"
   },
   {
    "duration": 235,
    "start_time": "2024-07-15T05:20:57.524Z"
   },
   {
    "duration": 15,
    "start_time": "2024-07-15T05:21:20.122Z"
   },
   {
    "duration": 3,
    "start_time": "2024-07-15T05:21:43.158Z"
   },
   {
    "duration": 120,
    "start_time": "2024-07-15T05:21:43.163Z"
   },
   {
    "duration": 11,
    "start_time": "2024-07-15T05:21:43.285Z"
   },
   {
    "duration": 45,
    "start_time": "2024-07-15T05:21:43.298Z"
   },
   {
    "duration": 10,
    "start_time": "2024-07-15T05:21:43.344Z"
   },
   {
    "duration": 12,
    "start_time": "2024-07-15T05:21:43.355Z"
   },
   {
    "duration": 3,
    "start_time": "2024-07-15T05:21:43.368Z"
   },
   {
    "duration": 14,
    "start_time": "2024-07-15T05:21:43.373Z"
   },
   {
    "duration": 11,
    "start_time": "2024-07-15T05:21:43.388Z"
   },
   {
    "duration": 16,
    "start_time": "2024-07-15T05:21:43.417Z"
   },
   {
    "duration": 12,
    "start_time": "2024-07-15T05:35:23.890Z"
   },
   {
    "duration": 25,
    "start_time": "2024-07-15T05:35:39.401Z"
   },
   {
    "duration": 15,
    "start_time": "2024-07-15T05:45:31.910Z"
   },
   {
    "duration": 14,
    "start_time": "2024-07-15T05:45:48.077Z"
   },
   {
    "duration": 17,
    "start_time": "2024-07-15T05:48:56.966Z"
   },
   {
    "duration": 45,
    "start_time": "2024-07-15T05:53:45.624Z"
   },
   {
    "duration": 43,
    "start_time": "2024-07-15T05:54:05.098Z"
   },
   {
    "duration": 10,
    "start_time": "2024-07-15T05:56:02.729Z"
   },
   {
    "duration": 12,
    "start_time": "2024-07-15T05:56:35.512Z"
   },
   {
    "duration": 18,
    "start_time": "2024-07-15T06:00:53.698Z"
   },
   {
    "duration": 21,
    "start_time": "2024-07-15T06:01:32.506Z"
   },
   {
    "duration": 13,
    "start_time": "2024-07-15T06:02:27.138Z"
   },
   {
    "duration": 11,
    "start_time": "2024-07-15T06:03:11.971Z"
   },
   {
    "duration": 13,
    "start_time": "2024-07-15T06:07:20.620Z"
   },
   {
    "duration": 8,
    "start_time": "2024-07-15T06:08:10.596Z"
   },
   {
    "duration": 3,
    "start_time": "2024-07-15T06:09:20.781Z"
   },
   {
    "duration": 6,
    "start_time": "2024-07-15T06:09:39.555Z"
   },
   {
    "duration": 12,
    "start_time": "2024-07-15T06:12:12.253Z"
   },
   {
    "duration": 12,
    "start_time": "2024-07-15T06:12:28.853Z"
   },
   {
    "duration": 2,
    "start_time": "2024-07-15T06:21:16.294Z"
   },
   {
    "duration": 84,
    "start_time": "2024-07-15T06:21:16.982Z"
   },
   {
    "duration": 9,
    "start_time": "2024-07-15T06:21:17.918Z"
   },
   {
    "duration": 30,
    "start_time": "2024-07-15T06:21:19.950Z"
   },
   {
    "duration": 3,
    "start_time": "2024-07-15T06:22:24.406Z"
   },
   {
    "duration": 8,
    "start_time": "2024-07-15T06:22:25.191Z"
   },
   {
    "duration": 9,
    "start_time": "2024-07-15T06:22:25.955Z"
   },
   {
    "duration": 11,
    "start_time": "2024-07-15T06:22:27.846Z"
   },
   {
    "duration": 10,
    "start_time": "2024-07-15T06:22:38.167Z"
   },
   {
    "duration": 11,
    "start_time": "2024-07-15T06:22:41.886Z"
   },
   {
    "duration": 12,
    "start_time": "2024-07-15T06:22:46.534Z"
   },
   {
    "duration": 14,
    "start_time": "2024-07-15T06:22:49.222Z"
   },
   {
    "duration": 7,
    "start_time": "2024-07-15T06:22:52.902Z"
   },
   {
    "duration": 19,
    "start_time": "2024-07-15T06:24:20.351Z"
   },
   {
    "duration": 9,
    "start_time": "2024-07-15T06:24:42.687Z"
   },
   {
    "duration": 967,
    "start_time": "2024-07-15T06:25:23.279Z"
   },
   {
    "duration": 367,
    "start_time": "2024-07-15T06:26:02.647Z"
   },
   {
    "duration": 860,
    "start_time": "2024-07-15T06:26:23.823Z"
   },
   {
    "duration": 8,
    "start_time": "2024-07-15T06:30:00.052Z"
   },
   {
    "duration": 6,
    "start_time": "2024-07-15T06:31:31.105Z"
   },
   {
    "duration": 5,
    "start_time": "2024-07-15T06:31:39.872Z"
   },
   {
    "duration": 6,
    "start_time": "2024-07-15T06:32:03.120Z"
   },
   {
    "duration": 7,
    "start_time": "2024-07-15T06:37:03.226Z"
   },
   {
    "duration": 8,
    "start_time": "2024-07-15T06:37:17.033Z"
   },
   {
    "duration": 6,
    "start_time": "2024-07-15T06:37:27.179Z"
   },
   {
    "duration": 6,
    "start_time": "2024-07-15T06:37:44.850Z"
   },
   {
    "duration": 5,
    "start_time": "2024-07-15T06:38:54.514Z"
   },
   {
    "duration": 18,
    "start_time": "2024-07-15T07:14:30.809Z"
   },
   {
    "duration": 25,
    "start_time": "2024-07-15T07:15:00.753Z"
   },
   {
    "duration": 19,
    "start_time": "2024-07-15T07:15:32.107Z"
   },
   {
    "duration": 12,
    "start_time": "2024-07-15T07:15:51.568Z"
   },
   {
    "duration": 11,
    "start_time": "2024-07-15T07:16:11.384Z"
   },
   {
    "duration": 11,
    "start_time": "2024-07-15T07:16:21.376Z"
   },
   {
    "duration": 11,
    "start_time": "2024-07-15T07:16:32.305Z"
   },
   {
    "duration": 12,
    "start_time": "2024-07-15T07:16:41.113Z"
   },
   {
    "duration": 10,
    "start_time": "2024-07-15T07:16:54.225Z"
   },
   {
    "duration": 18,
    "start_time": "2024-07-15T07:17:45.450Z"
   },
   {
    "duration": 9,
    "start_time": "2024-07-15T07:18:13.673Z"
   },
   {
    "duration": 4,
    "start_time": "2024-07-15T07:18:30.841Z"
   },
   {
    "duration": 6,
    "start_time": "2024-07-15T07:19:39.313Z"
   },
   {
    "duration": 14,
    "start_time": "2024-07-15T07:20:19.131Z"
   },
   {
    "duration": 10,
    "start_time": "2024-07-15T07:34:52.615Z"
   },
   {
    "duration": 17,
    "start_time": "2024-07-15T07:35:09.390Z"
   },
   {
    "duration": 13,
    "start_time": "2024-07-15T07:36:26.775Z"
   },
   {
    "duration": 23,
    "start_time": "2024-07-15T07:43:26.512Z"
   },
   {
    "duration": 11,
    "start_time": "2024-07-15T07:47:34.722Z"
   },
   {
    "duration": 11,
    "start_time": "2024-07-15T07:48:26.801Z"
   },
   {
    "duration": 12,
    "start_time": "2024-07-15T07:50:05.660Z"
   },
   {
    "duration": 10,
    "start_time": "2024-07-15T07:50:17.899Z"
   },
   {
    "duration": 10,
    "start_time": "2024-07-15T07:51:00.723Z"
   },
   {
    "duration": 12,
    "start_time": "2024-07-15T07:51:26.915Z"
   },
   {
    "duration": 4,
    "start_time": "2024-07-15T08:09:11.123Z"
   },
   {
    "duration": 4,
    "start_time": "2024-07-15T08:09:30.261Z"
   },
   {
    "duration": 241,
    "start_time": "2024-07-15T08:09:30.267Z"
   },
   {
    "duration": 40,
    "start_time": "2024-07-15T08:09:30.510Z"
   },
   {
    "duration": 159,
    "start_time": "2024-07-15T08:09:30.551Z"
   },
   {
    "duration": 17,
    "start_time": "2024-07-15T08:09:30.712Z"
   },
   {
    "duration": 79,
    "start_time": "2024-07-15T08:09:30.730Z"
   },
   {
    "duration": 75,
    "start_time": "2024-07-15T08:09:30.810Z"
   },
   {
    "duration": 55,
    "start_time": "2024-07-15T08:09:30.886Z"
   },
   {
    "duration": 98,
    "start_time": "2024-07-15T08:09:30.942Z"
   },
   {
    "duration": 67,
    "start_time": "2024-07-15T08:09:31.042Z"
   },
   {
    "duration": 62,
    "start_time": "2024-07-15T08:09:31.111Z"
   },
   {
    "duration": 51,
    "start_time": "2024-07-15T08:09:31.175Z"
   },
   {
    "duration": 45,
    "start_time": "2024-07-15T08:09:31.227Z"
   },
   {
    "duration": 26,
    "start_time": "2024-07-15T08:09:31.274Z"
   },
   {
    "duration": 99,
    "start_time": "2024-07-15T08:09:31.302Z"
   },
   {
    "duration": 54,
    "start_time": "2024-07-15T08:09:31.402Z"
   },
   {
    "duration": 51,
    "start_time": "2024-07-15T08:09:31.457Z"
   },
   {
    "duration": 75,
    "start_time": "2024-07-15T08:09:31.510Z"
   },
   {
    "duration": 39,
    "start_time": "2024-07-15T08:09:31.587Z"
   },
   {
    "duration": 38,
    "start_time": "2024-07-15T08:09:31.628Z"
   },
   {
    "duration": 29,
    "start_time": "2024-07-15T08:09:31.667Z"
   },
   {
    "duration": 9,
    "start_time": "2024-07-15T08:09:31.698Z"
   },
   {
    "duration": 55,
    "start_time": "2024-07-15T08:09:31.708Z"
   },
   {
    "duration": 3,
    "start_time": "2024-07-15T08:09:37.923Z"
   },
   {
    "duration": 20,
    "start_time": "2024-07-15T08:09:43.058Z"
   },
   {
    "duration": 2,
    "start_time": "2024-07-15T08:10:52.653Z"
   },
   {
    "duration": 88,
    "start_time": "2024-07-15T08:10:52.657Z"
   },
   {
    "duration": 11,
    "start_time": "2024-07-15T08:10:52.746Z"
   },
   {
    "duration": 32,
    "start_time": "2024-07-15T08:10:52.758Z"
   },
   {
    "duration": 3,
    "start_time": "2024-07-15T08:10:52.793Z"
   },
   {
    "duration": 28,
    "start_time": "2024-07-15T08:10:52.797Z"
   },
   {
    "duration": 11,
    "start_time": "2024-07-15T08:10:52.826Z"
   },
   {
    "duration": 17,
    "start_time": "2024-07-15T08:10:52.839Z"
   },
   {
    "duration": 15,
    "start_time": "2024-07-15T08:10:52.857Z"
   },
   {
    "duration": 12,
    "start_time": "2024-07-15T08:10:52.873Z"
   },
   {
    "duration": 33,
    "start_time": "2024-07-15T08:10:52.887Z"
   },
   {
    "duration": 25,
    "start_time": "2024-07-15T08:10:52.922Z"
   },
   {
    "duration": 73,
    "start_time": "2024-07-15T08:10:52.949Z"
   },
   {
    "duration": 8,
    "start_time": "2024-07-15T08:10:53.024Z"
   },
   {
    "duration": 16,
    "start_time": "2024-07-15T08:10:53.033Z"
   },
   {
    "duration": 13,
    "start_time": "2024-07-15T08:10:53.050Z"
   },
   {
    "duration": 20,
    "start_time": "2024-07-15T08:10:53.065Z"
   },
   {
    "duration": 7,
    "start_time": "2024-07-15T08:10:53.087Z"
   },
   {
    "duration": 22,
    "start_time": "2024-07-15T08:10:53.095Z"
   },
   {
    "duration": 45,
    "start_time": "2024-07-15T08:10:53.119Z"
   },
   {
    "duration": 26,
    "start_time": "2024-07-15T08:10:53.166Z"
   },
   {
    "duration": 6,
    "start_time": "2024-07-15T08:10:53.194Z"
   },
   {
    "duration": 13,
    "start_time": "2024-07-15T08:11:01.627Z"
   },
   {
    "duration": 24,
    "start_time": "2024-07-15T08:11:03.314Z"
   },
   {
    "duration": 221,
    "start_time": "2024-07-15T08:40:59.377Z"
   },
   {
    "duration": 309,
    "start_time": "2024-07-15T08:42:08.273Z"
   },
   {
    "duration": 317,
    "start_time": "2024-07-15T08:42:21.722Z"
   },
   {
    "duration": 329,
    "start_time": "2024-07-15T08:56:32.943Z"
   },
   {
    "duration": 349,
    "start_time": "2024-07-15T08:56:39.596Z"
   },
   {
    "duration": 451,
    "start_time": "2024-07-15T08:58:05.461Z"
   },
   {
    "duration": 17,
    "start_time": "2024-07-15T09:03:22.487Z"
   },
   {
    "duration": 15,
    "start_time": "2024-07-15T09:03:35.992Z"
   },
   {
    "duration": 225,
    "start_time": "2024-07-15T09:04:36.318Z"
   },
   {
    "duration": 169,
    "start_time": "2024-07-15T09:05:26.823Z"
   },
   {
    "duration": 18,
    "start_time": "2024-07-15T09:11:38.378Z"
   },
   {
    "duration": 19,
    "start_time": "2024-07-15T09:12:55.563Z"
   },
   {
    "duration": 1119,
    "start_time": "2024-07-15T09:14:12.874Z"
   },
   {
    "duration": 3,
    "start_time": "2024-07-15T09:14:34.532Z"
   },
   {
    "duration": 146,
    "start_time": "2024-07-15T09:14:34.537Z"
   },
   {
    "duration": 10,
    "start_time": "2024-07-15T09:14:34.685Z"
   },
   {
    "duration": 36,
    "start_time": "2024-07-15T09:14:34.696Z"
   },
   {
    "duration": 3,
    "start_time": "2024-07-15T09:14:34.734Z"
   },
   {
    "duration": 22,
    "start_time": "2024-07-15T09:14:34.738Z"
   },
   {
    "duration": 19,
    "start_time": "2024-07-15T09:14:34.762Z"
   },
   {
    "duration": 15,
    "start_time": "2024-07-15T09:14:34.783Z"
   },
   {
    "duration": 18,
    "start_time": "2024-07-15T09:14:34.800Z"
   },
   {
    "duration": 12,
    "start_time": "2024-07-15T09:14:34.820Z"
   },
   {
    "duration": 18,
    "start_time": "2024-07-15T09:14:34.834Z"
   },
   {
    "duration": 7,
    "start_time": "2024-07-15T09:14:34.853Z"
   },
   {
    "duration": 13,
    "start_time": "2024-07-15T09:14:34.862Z"
   },
   {
    "duration": 6,
    "start_time": "2024-07-15T09:14:34.877Z"
   },
   {
    "duration": 33,
    "start_time": "2024-07-15T09:14:34.885Z"
   },
   {
    "duration": 7,
    "start_time": "2024-07-15T09:14:34.920Z"
   },
   {
    "duration": 30,
    "start_time": "2024-07-15T09:14:34.929Z"
   },
   {
    "duration": 5,
    "start_time": "2024-07-15T09:14:34.961Z"
   },
   {
    "duration": 14,
    "start_time": "2024-07-15T09:14:34.967Z"
   },
   {
    "duration": 16,
    "start_time": "2024-07-15T09:14:34.982Z"
   },
   {
    "duration": 28,
    "start_time": "2024-07-15T09:14:34.999Z"
   },
   {
    "duration": 16,
    "start_time": "2024-07-15T09:14:35.028Z"
   },
   {
    "duration": 24,
    "start_time": "2024-07-15T09:14:35.045Z"
   },
   {
    "duration": 43,
    "start_time": "2024-07-15T09:14:35.070Z"
   },
   {
    "duration": 15,
    "start_time": "2024-07-15T09:14:39.406Z"
   },
   {
    "duration": 17,
    "start_time": "2024-07-15T09:14:44.690Z"
   },
   {
    "duration": 19,
    "start_time": "2024-07-15T09:15:05.314Z"
   },
   {
    "duration": 21,
    "start_time": "2024-07-15T09:15:19.314Z"
   },
   {
    "duration": 1005,
    "start_time": "2024-07-15T09:15:25.318Z"
   },
   {
    "duration": 20,
    "start_time": "2024-07-15T09:15:30.091Z"
   },
   {
    "duration": 14,
    "start_time": "2024-07-15T09:16:26.732Z"
   },
   {
    "duration": 19,
    "start_time": "2024-07-15T09:16:58.867Z"
   },
   {
    "duration": 383,
    "start_time": "2024-07-15T09:17:25.731Z"
   },
   {
    "duration": 21,
    "start_time": "2024-07-15T09:17:44.987Z"
   },
   {
    "duration": 117,
    "start_time": "2024-07-15T09:17:59.971Z"
   },
   {
    "duration": 189,
    "start_time": "2024-07-15T09:20:10.947Z"
   },
   {
    "duration": 18,
    "start_time": "2024-07-15T09:21:13.732Z"
   },
   {
    "duration": 21,
    "start_time": "2024-07-15T09:24:45.093Z"
   },
   {
    "duration": 120,
    "start_time": "2024-07-15T09:24:54.109Z"
   },
   {
    "duration": 114,
    "start_time": "2024-07-15T09:26:50.902Z"
   },
   {
    "duration": 410,
    "start_time": "2024-07-15T09:27:03.365Z"
   },
   {
    "duration": 69,
    "start_time": "2024-07-15T09:27:16.462Z"
   },
   {
    "duration": 299,
    "start_time": "2024-07-15T09:27:30.877Z"
   },
   {
    "duration": 221,
    "start_time": "2024-07-15T09:28:49.629Z"
   },
   {
    "duration": 204,
    "start_time": "2024-07-15T09:29:02.254Z"
   },
   {
    "duration": 243,
    "start_time": "2024-07-15T09:29:18.494Z"
   },
   {
    "duration": 265,
    "start_time": "2024-07-15T09:30:35.598Z"
   },
   {
    "duration": 204,
    "start_time": "2024-07-15T09:30:41.358Z"
   },
   {
    "duration": 204,
    "start_time": "2024-07-15T09:34:30.360Z"
   },
   {
    "duration": 198,
    "start_time": "2024-07-15T09:35:15.056Z"
   },
   {
    "duration": 210,
    "start_time": "2024-07-15T09:36:53.352Z"
   },
   {
    "duration": 218,
    "start_time": "2024-07-15T09:37:06.734Z"
   },
   {
    "duration": 217,
    "start_time": "2024-07-15T09:37:16.249Z"
   },
   {
    "duration": 27,
    "start_time": "2024-07-15T09:45:55.594Z"
   },
   {
    "duration": 184,
    "start_time": "2024-07-15T09:46:42.559Z"
   },
   {
    "duration": 22,
    "start_time": "2024-07-15T10:27:03.927Z"
   },
   {
    "duration": 268,
    "start_time": "2024-07-15T10:28:12.703Z"
   },
   {
    "duration": 24,
    "start_time": "2024-07-15T10:31:48.402Z"
   },
   {
    "duration": 15,
    "start_time": "2024-07-15T10:32:59.221Z"
   },
   {
    "duration": 18,
    "start_time": "2024-07-15T10:33:32.748Z"
   },
   {
    "duration": 312,
    "start_time": "2024-07-15T10:34:19.056Z"
   },
   {
    "duration": 4,
    "start_time": "2024-07-15T10:52:35.781Z"
   },
   {
    "duration": 6,
    "start_time": "2024-07-15T10:52:57.957Z"
   },
   {
    "duration": 16,
    "start_time": "2024-07-15T10:53:41.493Z"
   },
   {
    "duration": 5,
    "start_time": "2024-07-15T10:54:06.695Z"
   },
   {
    "duration": 4,
    "start_time": "2024-07-15T10:54:17.606Z"
   },
   {
    "duration": 4,
    "start_time": "2024-07-15T10:55:43.790Z"
   },
   {
    "duration": 5,
    "start_time": "2024-07-15T10:56:02.302Z"
   },
   {
    "duration": 4,
    "start_time": "2024-07-15T10:56:21.950Z"
   },
   {
    "duration": 4,
    "start_time": "2024-07-15T10:58:01.239Z"
   },
   {
    "duration": 7,
    "start_time": "2024-07-15T10:58:14.863Z"
   },
   {
    "duration": 3,
    "start_time": "2024-07-15T10:58:29.508Z"
   },
   {
    "duration": 8,
    "start_time": "2024-07-15T10:58:33.726Z"
   },
   {
    "duration": 15,
    "start_time": "2024-07-15T11:00:22.079Z"
   },
   {
    "duration": 3,
    "start_time": "2024-07-15T11:02:46.073Z"
   },
   {
    "duration": 3,
    "start_time": "2024-07-15T11:03:02.160Z"
   },
   {
    "duration": 20,
    "start_time": "2024-07-15T11:03:05.479Z"
   },
   {
    "duration": 4,
    "start_time": "2024-07-15T11:03:43.824Z"
   },
   {
    "duration": 18,
    "start_time": "2024-07-15T11:03:44.728Z"
   },
   {
    "duration": 3,
    "start_time": "2024-07-15T11:03:56.248Z"
   },
   {
    "duration": 20,
    "start_time": "2024-07-15T11:03:57.456Z"
   },
   {
    "duration": 4,
    "start_time": "2024-07-15T11:04:05.049Z"
   },
   {
    "duration": 21,
    "start_time": "2024-07-15T11:04:05.623Z"
   },
   {
    "duration": 4,
    "start_time": "2024-07-15T11:04:17.314Z"
   },
   {
    "duration": 267,
    "start_time": "2024-07-15T11:04:17.888Z"
   },
   {
    "duration": 4,
    "start_time": "2024-07-15T11:05:11.313Z"
   },
   {
    "duration": 193,
    "start_time": "2024-07-15T11:05:12.353Z"
   },
   {
    "duration": 4,
    "start_time": "2024-07-15T11:06:10.217Z"
   },
   {
    "duration": 4,
    "start_time": "2024-07-15T11:06:16.297Z"
   },
   {
    "duration": 241,
    "start_time": "2024-07-15T11:06:17.536Z"
   },
   {
    "duration": 7,
    "start_time": "2024-07-15T11:07:32.265Z"
   },
   {
    "duration": 222,
    "start_time": "2024-07-15T11:07:33.441Z"
   },
   {
    "duration": 232,
    "start_time": "2024-07-15T11:08:02.329Z"
   },
   {
    "duration": 266,
    "start_time": "2024-07-15T11:08:38.617Z"
   },
   {
    "duration": 209,
    "start_time": "2024-07-15T11:09:04.451Z"
   },
   {
    "duration": 233,
    "start_time": "2024-07-15T11:11:02.410Z"
   },
   {
    "duration": 206,
    "start_time": "2024-07-15T11:13:10.948Z"
   },
   {
    "duration": 7,
    "start_time": "2024-07-15T11:18:27.661Z"
   },
   {
    "duration": 155,
    "start_time": "2024-07-15T11:18:34.899Z"
   },
   {
    "duration": 236,
    "start_time": "2024-07-15T11:19:59.526Z"
   },
   {
    "duration": 189,
    "start_time": "2024-07-15T11:20:24.983Z"
   },
   {
    "duration": 261,
    "start_time": "2024-07-15T11:20:52.190Z"
   },
   {
    "duration": 258,
    "start_time": "2024-07-15T11:22:10.839Z"
   },
   {
    "duration": 271,
    "start_time": "2024-07-15T11:22:40.334Z"
   },
   {
    "duration": 295,
    "start_time": "2024-07-15T11:26:14.674Z"
   },
   {
    "duration": 205,
    "start_time": "2024-07-15T11:28:30.096Z"
   },
   {
    "duration": 5,
    "start_time": "2024-07-15T11:32:13.746Z"
   },
   {
    "duration": 283,
    "start_time": "2024-07-15T11:32:36.194Z"
   },
   {
    "duration": 4,
    "start_time": "2024-07-15T11:32:45.960Z"
   },
   {
    "duration": 3,
    "start_time": "2024-07-15T11:32:51.274Z"
   },
   {
    "duration": 188,
    "start_time": "2024-07-15T11:32:52.221Z"
   },
   {
    "duration": 177,
    "start_time": "2024-07-15T11:35:52.227Z"
   },
   {
    "duration": 3,
    "start_time": "2024-07-15T11:37:44.572Z"
   },
   {
    "duration": 288,
    "start_time": "2024-07-15T11:37:45.253Z"
   },
   {
    "duration": 3,
    "start_time": "2024-07-15T11:38:18.446Z"
   },
   {
    "duration": 183,
    "start_time": "2024-07-15T11:38:19.156Z"
   },
   {
    "duration": 195,
    "start_time": "2024-07-15T11:38:43.507Z"
   },
   {
    "duration": 8,
    "start_time": "2024-07-15T11:39:26.587Z"
   },
   {
    "duration": 203,
    "start_time": "2024-07-15T11:39:39.612Z"
   },
   {
    "duration": 9,
    "start_time": "2024-07-15T11:39:54.652Z"
   },
   {
    "duration": 196,
    "start_time": "2024-07-15T11:40:11.918Z"
   },
   {
    "duration": 203,
    "start_time": "2024-07-15T11:42:00.709Z"
   },
   {
    "duration": 8,
    "start_time": "2024-07-15T11:42:09.868Z"
   },
   {
    "duration": 3,
    "start_time": "2024-07-15T11:57:56.837Z"
   },
   {
    "duration": 110,
    "start_time": "2024-07-15T11:57:56.842Z"
   },
   {
    "duration": 10,
    "start_time": "2024-07-15T11:57:56.953Z"
   },
   {
    "duration": 31,
    "start_time": "2024-07-15T11:57:56.964Z"
   },
   {
    "duration": 2,
    "start_time": "2024-07-15T11:57:56.998Z"
   },
   {
    "duration": 42,
    "start_time": "2024-07-15T11:57:57.002Z"
   },
   {
    "duration": 13,
    "start_time": "2024-07-15T11:57:57.045Z"
   },
   {
    "duration": 14,
    "start_time": "2024-07-15T11:57:57.060Z"
   },
   {
    "duration": 14,
    "start_time": "2024-07-15T11:57:57.076Z"
   },
   {
    "duration": 12,
    "start_time": "2024-07-15T11:57:57.091Z"
   },
   {
    "duration": 29,
    "start_time": "2024-07-15T11:57:57.104Z"
   },
   {
    "duration": 13,
    "start_time": "2024-07-15T11:57:57.134Z"
   },
   {
    "duration": 8,
    "start_time": "2024-07-15T11:57:57.148Z"
   },
   {
    "duration": 6,
    "start_time": "2024-07-15T11:57:57.158Z"
   },
   {
    "duration": 6,
    "start_time": "2024-07-15T11:57:57.165Z"
   },
   {
    "duration": 8,
    "start_time": "2024-07-15T11:57:57.173Z"
   },
   {
    "duration": 18,
    "start_time": "2024-07-15T11:57:57.182Z"
   },
   {
    "duration": 30,
    "start_time": "2024-07-15T11:57:57.202Z"
   },
   {
    "duration": 5,
    "start_time": "2024-07-15T11:57:57.235Z"
   },
   {
    "duration": 12,
    "start_time": "2024-07-15T11:57:57.242Z"
   },
   {
    "duration": 18,
    "start_time": "2024-07-15T11:57:57.255Z"
   },
   {
    "duration": 4,
    "start_time": "2024-07-15T11:57:57.274Z"
   },
   {
    "duration": 18,
    "start_time": "2024-07-15T11:57:57.279Z"
   },
   {
    "duration": 44,
    "start_time": "2024-07-15T11:57:57.298Z"
   },
   {
    "duration": 4,
    "start_time": "2024-07-15T11:58:02.698Z"
   },
   {
    "duration": 20,
    "start_time": "2024-07-15T11:58:05.577Z"
   },
   {
    "duration": 3,
    "start_time": "2024-07-15T11:59:13.371Z"
   },
   {
    "duration": 22,
    "start_time": "2024-07-15T11:59:24.634Z"
   },
   {
    "duration": 4,
    "start_time": "2024-07-15T12:00:09.539Z"
   },
   {
    "duration": 226,
    "start_time": "2024-07-15T12:00:13.238Z"
   },
   {
    "duration": 12,
    "start_time": "2024-07-15T12:01:22.821Z"
   },
   {
    "duration": 299,
    "start_time": "2024-07-15T12:01:26.371Z"
   },
   {
    "duration": 11,
    "start_time": "2024-07-15T12:01:40.426Z"
   },
   {
    "duration": 10,
    "start_time": "2024-07-15T12:01:45.011Z"
   },
   {
    "duration": 9,
    "start_time": "2024-07-15T12:01:57.329Z"
   },
   {
    "duration": 264,
    "start_time": "2024-07-15T12:01:59.099Z"
   },
   {
    "duration": 239,
    "start_time": "2024-07-15T12:02:48.603Z"
   },
   {
    "duration": 272,
    "start_time": "2024-07-15T12:02:50.491Z"
   },
   {
    "duration": 252,
    "start_time": "2024-07-15T12:02:51.798Z"
   },
   {
    "duration": 239,
    "start_time": "2024-07-15T12:02:53.204Z"
   },
   {
    "duration": 242,
    "start_time": "2024-07-15T12:02:54.595Z"
   },
   {
    "duration": 3,
    "start_time": "2024-07-15T12:03:03.355Z"
   },
   {
    "duration": 234,
    "start_time": "2024-07-15T12:03:03.932Z"
   },
   {
    "duration": 4,
    "start_time": "2024-07-15T12:03:27.053Z"
   },
   {
    "duration": 214,
    "start_time": "2024-07-15T12:03:28.934Z"
   },
   {
    "duration": 220,
    "start_time": "2024-07-15T12:03:36.456Z"
   },
   {
    "duration": 8,
    "start_time": "2024-07-15T12:03:41.484Z"
   },
   {
    "duration": 242,
    "start_time": "2024-07-15T12:04:59.121Z"
   },
   {
    "duration": 242,
    "start_time": "2024-07-15T12:10:54.751Z"
   },
   {
    "duration": 306,
    "start_time": "2024-07-15T12:11:04.382Z"
   },
   {
    "duration": 253,
    "start_time": "2024-07-15T12:11:15.005Z"
   },
   {
    "duration": 7,
    "start_time": "2024-07-15T12:11:32.232Z"
   },
   {
    "duration": 271,
    "start_time": "2024-07-15T12:11:40.662Z"
   },
   {
    "duration": 248,
    "start_time": "2024-07-15T12:11:48.390Z"
   },
   {
    "duration": 263,
    "start_time": "2024-07-15T12:12:01.288Z"
   },
   {
    "duration": 644,
    "start_time": "2024-07-15T12:12:25.582Z"
   },
   {
    "duration": 227,
    "start_time": "2024-07-15T12:12:36.542Z"
   },
   {
    "duration": 323,
    "start_time": "2024-07-15T12:12:53.743Z"
   },
   {
    "duration": 215,
    "start_time": "2024-07-15T12:13:32.758Z"
   },
   {
    "duration": 2,
    "start_time": "2024-07-15T12:25:33.230Z"
   },
   {
    "duration": 118,
    "start_time": "2024-07-15T12:25:33.234Z"
   },
   {
    "duration": 8,
    "start_time": "2024-07-15T12:25:33.354Z"
   },
   {
    "duration": 33,
    "start_time": "2024-07-15T12:25:33.364Z"
   },
   {
    "duration": 3,
    "start_time": "2024-07-15T12:25:33.399Z"
   },
   {
    "duration": 11,
    "start_time": "2024-07-15T12:25:33.403Z"
   },
   {
    "duration": 10,
    "start_time": "2024-07-15T12:25:33.416Z"
   },
   {
    "duration": 12,
    "start_time": "2024-07-15T12:25:33.427Z"
   },
   {
    "duration": 13,
    "start_time": "2024-07-15T12:25:33.440Z"
   },
   {
    "duration": 11,
    "start_time": "2024-07-15T12:25:33.454Z"
   },
   {
    "duration": 13,
    "start_time": "2024-07-15T12:25:33.467Z"
   },
   {
    "duration": 35,
    "start_time": "2024-07-15T12:25:33.481Z"
   },
   {
    "duration": 13,
    "start_time": "2024-07-15T12:25:33.519Z"
   },
   {
    "duration": 4,
    "start_time": "2024-07-15T12:25:33.534Z"
   },
   {
    "duration": 9,
    "start_time": "2024-07-15T12:25:33.540Z"
   },
   {
    "duration": 11,
    "start_time": "2024-07-15T12:25:33.550Z"
   },
   {
    "duration": 8,
    "start_time": "2024-07-15T12:25:33.562Z"
   },
   {
    "duration": 6,
    "start_time": "2024-07-15T12:25:33.571Z"
   },
   {
    "duration": 34,
    "start_time": "2024-07-15T12:25:33.579Z"
   },
   {
    "duration": 35,
    "start_time": "2024-07-15T12:25:33.614Z"
   },
   {
    "duration": 44,
    "start_time": "2024-07-15T12:25:33.650Z"
   },
   {
    "duration": 4,
    "start_time": "2024-07-15T12:25:33.695Z"
   },
   {
    "duration": 20,
    "start_time": "2024-07-15T12:25:33.700Z"
   },
   {
    "duration": 18,
    "start_time": "2024-07-15T12:25:33.722Z"
   },
   {
    "duration": 4,
    "start_time": "2024-07-15T12:25:33.741Z"
   },
   {
    "duration": 322,
    "start_time": "2024-07-15T12:25:33.746Z"
   },
   {
    "duration": 259,
    "start_time": "2024-07-15T12:25:34.069Z"
   },
   {
    "duration": 251,
    "start_time": "2024-07-15T12:25:34.329Z"
   },
   {
    "duration": 274,
    "start_time": "2024-07-15T12:25:34.582Z"
   },
   {
    "duration": 201,
    "start_time": "2024-07-15T12:25:34.858Z"
   },
   {
    "duration": 284,
    "start_time": "2024-07-15T12:25:35.061Z"
   },
   {
    "duration": 4,
    "start_time": "2024-07-15T12:25:41.434Z"
   },
   {
    "duration": 297,
    "start_time": "2024-07-15T12:25:58.593Z"
   },
   {
    "duration": 4,
    "start_time": "2024-07-15T12:26:29.472Z"
   },
   {
    "duration": 4,
    "start_time": "2024-07-15T12:26:37.281Z"
   },
   {
    "duration": 348,
    "start_time": "2024-07-15T12:26:39.185Z"
   },
   {
    "duration": 4,
    "start_time": "2024-07-15T12:28:10.642Z"
   },
   {
    "duration": 277,
    "start_time": "2024-07-15T12:28:12.853Z"
   },
   {
    "duration": 4,
    "start_time": "2024-07-15T12:31:19.860Z"
   },
   {
    "duration": 288,
    "start_time": "2024-07-15T12:31:21.073Z"
   },
   {
    "duration": 4,
    "start_time": "2024-07-15T12:32:00.179Z"
   },
   {
    "duration": 301,
    "start_time": "2024-07-15T12:32:01.226Z"
   },
   {
    "duration": 278,
    "start_time": "2024-07-15T12:32:23.378Z"
   },
   {
    "duration": 225,
    "start_time": "2024-07-15T12:32:31.075Z"
   },
   {
    "duration": 214,
    "start_time": "2024-07-15T12:32:36.437Z"
   },
   {
    "duration": 5,
    "start_time": "2024-07-15T12:33:38.531Z"
   },
   {
    "duration": 349,
    "start_time": "2024-07-15T12:33:39.560Z"
   },
   {
    "duration": 294,
    "start_time": "2024-07-15T12:33:50.699Z"
   },
   {
    "duration": 4,
    "start_time": "2024-07-15T12:34:03.331Z"
   },
   {
    "duration": 305,
    "start_time": "2024-07-15T12:34:04.035Z"
   },
   {
    "duration": 284,
    "start_time": "2024-07-15T12:34:07.603Z"
   },
   {
    "duration": 4,
    "start_time": "2024-07-15T12:36:01.537Z"
   },
   {
    "duration": 298,
    "start_time": "2024-07-15T12:36:02.267Z"
   },
   {
    "duration": 273,
    "start_time": "2024-07-15T12:36:04.395Z"
   },
   {
    "duration": 327,
    "start_time": "2024-07-15T12:37:26.971Z"
   },
   {
    "duration": 344,
    "start_time": "2024-07-15T12:38:30.246Z"
   },
   {
    "duration": 301,
    "start_time": "2024-07-15T12:39:16.415Z"
   },
   {
    "duration": 309,
    "start_time": "2024-07-15T12:41:45.021Z"
   },
   {
    "duration": 305,
    "start_time": "2024-07-15T12:41:54.429Z"
   },
   {
    "duration": 305,
    "start_time": "2024-07-15T12:42:04.798Z"
   },
   {
    "duration": 419,
    "start_time": "2024-07-15T12:42:19.510Z"
   },
   {
    "duration": 307,
    "start_time": "2024-07-15T12:42:26.532Z"
   },
   {
    "duration": 6,
    "start_time": "2024-07-15T12:48:25.783Z"
   },
   {
    "duration": 239,
    "start_time": "2024-07-15T12:48:27.510Z"
   },
   {
    "duration": 8,
    "start_time": "2024-07-15T12:48:58.687Z"
   },
   {
    "duration": 7,
    "start_time": "2024-07-15T12:49:31.376Z"
   },
   {
    "duration": 7,
    "start_time": "2024-07-15T12:50:21.496Z"
   },
   {
    "duration": 319,
    "start_time": "2024-07-15T12:50:22.615Z"
   },
   {
    "duration": 3,
    "start_time": "2024-07-15T12:59:24.996Z"
   },
   {
    "duration": 75,
    "start_time": "2024-07-15T12:59:25.000Z"
   },
   {
    "duration": 9,
    "start_time": "2024-07-15T12:59:25.077Z"
   },
   {
    "duration": 35,
    "start_time": "2024-07-15T12:59:25.088Z"
   },
   {
    "duration": 4,
    "start_time": "2024-07-15T12:59:25.124Z"
   },
   {
    "duration": 14,
    "start_time": "2024-07-15T12:59:25.129Z"
   },
   {
    "duration": 30,
    "start_time": "2024-07-15T12:59:25.145Z"
   },
   {
    "duration": 13,
    "start_time": "2024-07-15T12:59:25.177Z"
   },
   {
    "duration": 21,
    "start_time": "2024-07-15T12:59:25.191Z"
   },
   {
    "duration": 11,
    "start_time": "2024-07-15T12:59:25.215Z"
   },
   {
    "duration": 12,
    "start_time": "2024-07-15T12:59:25.227Z"
   },
   {
    "duration": 6,
    "start_time": "2024-07-15T12:59:25.241Z"
   },
   {
    "duration": 40,
    "start_time": "2024-07-15T12:59:25.248Z"
   },
   {
    "duration": 21,
    "start_time": "2024-07-15T12:59:25.290Z"
   },
   {
    "duration": 5,
    "start_time": "2024-07-15T12:59:25.313Z"
   },
   {
    "duration": 5,
    "start_time": "2024-07-15T12:59:25.319Z"
   },
   {
    "duration": 5,
    "start_time": "2024-07-15T12:59:25.325Z"
   },
   {
    "duration": 4,
    "start_time": "2024-07-15T12:59:25.331Z"
   },
   {
    "duration": 5,
    "start_time": "2024-07-15T12:59:25.337Z"
   },
   {
    "duration": 18,
    "start_time": "2024-07-15T12:59:25.343Z"
   },
   {
    "duration": 19,
    "start_time": "2024-07-15T12:59:25.362Z"
   },
   {
    "duration": 29,
    "start_time": "2024-07-15T12:59:25.383Z"
   },
   {
    "duration": 12,
    "start_time": "2024-07-15T12:59:25.413Z"
   },
   {
    "duration": 21,
    "start_time": "2024-07-15T12:59:25.426Z"
   },
   {
    "duration": 5,
    "start_time": "2024-07-15T12:59:30.313Z"
   },
   {
    "duration": 316,
    "start_time": "2024-07-15T12:59:32.512Z"
   },
   {
    "duration": 5,
    "start_time": "2024-07-15T13:00:08.683Z"
   },
   {
    "duration": 323,
    "start_time": "2024-07-15T13:00:09.465Z"
   },
   {
    "duration": 5,
    "start_time": "2024-07-15T13:01:04.103Z"
   },
   {
    "duration": 252,
    "start_time": "2024-07-15T13:01:05.201Z"
   },
   {
    "duration": 306,
    "start_time": "2024-07-15T13:01:09.129Z"
   },
   {
    "duration": 281,
    "start_time": "2024-07-15T13:01:10.472Z"
   },
   {
    "duration": 267,
    "start_time": "2024-07-15T13:01:11.369Z"
   },
   {
    "duration": 233,
    "start_time": "2024-07-15T13:01:12.808Z"
   },
   {
    "duration": 235,
    "start_time": "2024-07-15T13:01:14.105Z"
   },
   {
    "duration": 5,
    "start_time": "2024-07-15T13:01:16.794Z"
   },
   {
    "duration": 315,
    "start_time": "2024-07-15T13:01:17.484Z"
   },
   {
    "duration": 288,
    "start_time": "2024-07-15T13:04:26.030Z"
   },
   {
    "duration": 298,
    "start_time": "2024-07-15T13:04:26.634Z"
   },
   {
    "duration": 382,
    "start_time": "2024-07-15T13:04:35.575Z"
   },
   {
    "duration": 323,
    "start_time": "2024-07-15T13:17:02.925Z"
   },
   {
    "duration": 1432,
    "start_time": "2024-07-15T13:21:47.855Z"
   },
   {
    "duration": 1457,
    "start_time": "2024-07-15T13:21:57.422Z"
   },
   {
    "duration": 1544,
    "start_time": "2024-07-15T13:22:11.605Z"
   },
   {
    "duration": 1517,
    "start_time": "2024-07-15T13:22:33.126Z"
   },
   {
    "duration": 1438,
    "start_time": "2024-07-15T13:22:51.662Z"
   },
   {
    "duration": 1513,
    "start_time": "2024-07-15T13:23:14.592Z"
   },
   {
    "duration": 57,
    "start_time": "2024-07-16T04:48:50.464Z"
   },
   {
    "duration": 1406,
    "start_time": "2024-07-16T04:48:58.879Z"
   },
   {
    "duration": 96,
    "start_time": "2024-07-16T04:49:00.287Z"
   },
   {
    "duration": 104,
    "start_time": "2024-07-16T04:49:00.385Z"
   },
   {
    "duration": 627,
    "start_time": "2024-07-16T04:49:00.491Z"
   },
   {
    "duration": 674,
    "start_time": "2024-07-16T04:49:01.120Z"
   },
   {
    "duration": 87,
    "start_time": "2024-07-16T04:49:01.796Z"
   },
   {
    "duration": 41,
    "start_time": "2024-07-16T04:49:01.885Z"
   },
   {
    "duration": 81,
    "start_time": "2024-07-16T04:49:01.928Z"
   },
   {
    "duration": 851,
    "start_time": "2024-07-16T04:49:02.011Z"
   },
   {
    "duration": 305,
    "start_time": "2024-07-16T04:49:02.865Z"
   },
   {
    "duration": 30,
    "start_time": "2024-07-16T04:49:03.172Z"
   },
   {
    "duration": 38,
    "start_time": "2024-07-16T04:49:03.205Z"
   },
   {
    "duration": 15,
    "start_time": "2024-07-16T04:49:03.245Z"
   },
   {
    "duration": 6,
    "start_time": "2024-07-16T04:49:03.261Z"
   },
   {
    "duration": 14,
    "start_time": "2024-07-16T04:49:03.269Z"
   },
   {
    "duration": 8,
    "start_time": "2024-07-16T04:49:03.285Z"
   },
   {
    "duration": 10,
    "start_time": "2024-07-16T04:49:03.296Z"
   },
   {
    "duration": 39,
    "start_time": "2024-07-16T04:49:03.308Z"
   },
   {
    "duration": 9,
    "start_time": "2024-07-16T04:49:03.349Z"
   },
   {
    "duration": 20,
    "start_time": "2024-07-16T04:49:03.360Z"
   },
   {
    "duration": 22,
    "start_time": "2024-07-16T04:49:03.381Z"
   },
   {
    "duration": 41,
    "start_time": "2024-07-16T04:49:03.405Z"
   },
   {
    "duration": 15,
    "start_time": "2024-07-16T04:49:03.448Z"
   },
   {
    "duration": 45,
    "start_time": "2024-07-16T04:49:03.466Z"
   },
   {
    "duration": 7,
    "start_time": "2024-07-16T04:49:03.513Z"
   },
   {
    "duration": 358,
    "start_time": "2024-07-16T04:49:03.522Z"
   },
   {
    "duration": 233,
    "start_time": "2024-07-16T04:49:03.881Z"
   },
   {
    "duration": 339,
    "start_time": "2024-07-16T04:49:04.117Z"
   },
   {
    "duration": 287,
    "start_time": "2024-07-16T04:49:04.458Z"
   },
   {
    "duration": 264,
    "start_time": "2024-07-16T04:49:04.747Z"
   },
   {
    "duration": 302,
    "start_time": "2024-07-16T04:49:05.013Z"
   },
   {
    "duration": 5,
    "start_time": "2024-07-16T04:49:05.317Z"
   },
   {
    "duration": 467,
    "start_time": "2024-07-16T04:49:05.323Z"
   },
   {
    "duration": 560,
    "start_time": "2024-07-16T04:49:05.792Z"
   },
   {
    "duration": 441,
    "start_time": "2024-07-16T04:49:08.027Z"
   },
   {
    "duration": 447,
    "start_time": "2024-07-16T04:50:18.396Z"
   },
   {
    "duration": 390,
    "start_time": "2024-07-16T04:50:38.219Z"
   },
   {
    "duration": 370,
    "start_time": "2024-07-16T04:51:01.323Z"
   },
   {
    "duration": 469,
    "start_time": "2024-07-16T04:52:04.837Z"
   },
   {
    "duration": 1885,
    "start_time": "2024-07-16T04:52:21.924Z"
   },
   {
    "duration": 2016,
    "start_time": "2024-07-16T05:25:11.734Z"
   },
   {
    "duration": 2194,
    "start_time": "2024-07-16T05:27:18.246Z"
   },
   {
    "duration": 1902,
    "start_time": "2024-07-16T05:32:27.943Z"
   },
   {
    "duration": 21,
    "start_time": "2024-07-16T05:47:33.011Z"
   },
   {
    "duration": 659,
    "start_time": "2024-07-16T05:50:40.493Z"
   },
   {
    "duration": 73,
    "start_time": "2024-07-16T05:51:40.183Z"
   },
   {
    "duration": 81,
    "start_time": "2024-07-16T05:51:49.093Z"
   },
   {
    "duration": 21,
    "start_time": "2024-07-16T05:52:19.309Z"
   },
   {
    "duration": 22,
    "start_time": "2024-07-16T06:22:15.390Z"
   },
   {
    "duration": 27,
    "start_time": "2024-07-16T06:22:38.573Z"
   },
   {
    "duration": 4,
    "start_time": "2024-07-16T06:26:16.643Z"
   },
   {
    "duration": 105,
    "start_time": "2024-07-16T06:26:16.649Z"
   },
   {
    "duration": 16,
    "start_time": "2024-07-16T06:26:16.756Z"
   },
   {
    "duration": 67,
    "start_time": "2024-07-16T06:26:16.775Z"
   },
   {
    "duration": 4,
    "start_time": "2024-07-16T06:26:16.844Z"
   },
   {
    "duration": 16,
    "start_time": "2024-07-16T06:26:16.849Z"
   },
   {
    "duration": 14,
    "start_time": "2024-07-16T06:26:16.867Z"
   },
   {
    "duration": 14,
    "start_time": "2024-07-16T06:26:16.883Z"
   },
   {
    "duration": 17,
    "start_time": "2024-07-16T06:26:16.899Z"
   },
   {
    "duration": 39,
    "start_time": "2024-07-16T06:26:16.919Z"
   },
   {
    "duration": 19,
    "start_time": "2024-07-16T06:26:16.960Z"
   },
   {
    "duration": 7,
    "start_time": "2024-07-16T06:26:16.981Z"
   },
   {
    "duration": 20,
    "start_time": "2024-07-16T06:26:16.989Z"
   },
   {
    "duration": 6,
    "start_time": "2024-07-16T06:26:17.010Z"
   },
   {
    "duration": 30,
    "start_time": "2024-07-16T06:26:17.018Z"
   },
   {
    "duration": 12,
    "start_time": "2024-07-16T06:26:17.050Z"
   },
   {
    "duration": 7,
    "start_time": "2024-07-16T06:26:17.064Z"
   },
   {
    "duration": 7,
    "start_time": "2024-07-16T06:26:17.073Z"
   },
   {
    "duration": 8,
    "start_time": "2024-07-16T06:26:17.081Z"
   },
   {
    "duration": 19,
    "start_time": "2024-07-16T06:26:17.090Z"
   },
   {
    "duration": 56,
    "start_time": "2024-07-16T06:26:17.111Z"
   },
   {
    "duration": 5,
    "start_time": "2024-07-16T06:26:17.168Z"
   },
   {
    "duration": 46,
    "start_time": "2024-07-16T06:26:17.175Z"
   },
   {
    "duration": 36,
    "start_time": "2024-07-16T06:26:17.223Z"
   },
   {
    "duration": 5,
    "start_time": "2024-07-16T06:26:17.261Z"
   },
   {
    "duration": 281,
    "start_time": "2024-07-16T06:26:17.268Z"
   },
   {
    "duration": 242,
    "start_time": "2024-07-16T06:26:17.551Z"
   },
   {
    "duration": 327,
    "start_time": "2024-07-16T06:26:17.796Z"
   },
   {
    "duration": 292,
    "start_time": "2024-07-16T06:26:18.124Z"
   },
   {
    "duration": 282,
    "start_time": "2024-07-16T06:26:18.418Z"
   },
   {
    "duration": 386,
    "start_time": "2024-07-16T06:26:18.702Z"
   },
   {
    "duration": 5,
    "start_time": "2024-07-16T06:26:19.090Z"
   },
   {
    "duration": 392,
    "start_time": "2024-07-16T06:26:19.097Z"
   },
   {
    "duration": 396,
    "start_time": "2024-07-16T06:26:19.491Z"
   },
   {
    "duration": 397,
    "start_time": "2024-07-16T06:26:19.889Z"
   },
   {
    "duration": 372,
    "start_time": "2024-07-16T06:26:20.288Z"
   },
   {
    "duration": 372,
    "start_time": "2024-07-16T06:26:20.661Z"
   },
   {
    "duration": 470,
    "start_time": "2024-07-16T06:26:21.035Z"
   },
   {
    "duration": 1869,
    "start_time": "2024-07-16T06:26:21.507Z"
   },
   {
    "duration": 9,
    "start_time": "2024-07-16T06:26:23.379Z"
   },
   {
    "duration": 3544,
    "start_time": "2024-07-16T06:32:24.423Z"
   },
   {
    "duration": 45,
    "start_time": "2024-07-16T06:32:34.089Z"
   },
   {
    "duration": 51,
    "start_time": "2024-07-16T06:32:47.617Z"
   },
   {
    "duration": 17219,
    "start_time": "2024-07-16T06:34:53.719Z"
   },
   {
    "duration": 16830,
    "start_time": "2024-07-16T06:38:20.939Z"
   },
   {
    "duration": 13153,
    "start_time": "2024-07-16T06:40:12.673Z"
   },
   {
    "duration": 16071,
    "start_time": "2024-07-16T06:40:36.441Z"
   },
   {
    "duration": 16360,
    "start_time": "2024-07-16T06:40:59.377Z"
   },
   {
    "duration": 58,
    "start_time": "2024-07-16T06:58:20.027Z"
   },
   {
    "duration": 13164,
    "start_time": "2024-07-16T06:58:33.709Z"
   },
   {
    "duration": 1164,
    "start_time": "2024-07-16T06:59:12.545Z"
   },
   {
    "duration": 13175,
    "start_time": "2024-07-16T07:03:14.911Z"
   },
   {
    "duration": 3,
    "start_time": "2024-07-16T07:03:28.088Z"
   },
   {
    "duration": 130,
    "start_time": "2024-07-16T07:03:28.093Z"
   },
   {
    "duration": 12,
    "start_time": "2024-07-16T07:03:28.225Z"
   },
   {
    "duration": 38,
    "start_time": "2024-07-16T07:03:28.239Z"
   },
   {
    "duration": 3,
    "start_time": "2024-07-16T07:03:28.279Z"
   },
   {
    "duration": 13,
    "start_time": "2024-07-16T07:03:28.284Z"
   },
   {
    "duration": 19,
    "start_time": "2024-07-16T07:03:28.299Z"
   },
   {
    "duration": 40,
    "start_time": "2024-07-16T07:03:28.320Z"
   },
   {
    "duration": 16,
    "start_time": "2024-07-16T07:03:28.363Z"
   },
   {
    "duration": 15,
    "start_time": "2024-07-16T07:03:28.381Z"
   },
   {
    "duration": 50,
    "start_time": "2024-07-16T07:03:28.398Z"
   },
   {
    "duration": 7,
    "start_time": "2024-07-16T07:03:28.449Z"
   },
   {
    "duration": 10,
    "start_time": "2024-07-16T07:03:28.458Z"
   },
   {
    "duration": 5,
    "start_time": "2024-07-16T07:03:28.470Z"
   },
   {
    "duration": 22,
    "start_time": "2024-07-16T07:03:28.477Z"
   },
   {
    "duration": 7,
    "start_time": "2024-07-16T07:03:28.501Z"
   },
   {
    "duration": 36,
    "start_time": "2024-07-16T07:03:28.510Z"
   },
   {
    "duration": 9,
    "start_time": "2024-07-16T07:03:28.548Z"
   },
   {
    "duration": 10,
    "start_time": "2024-07-16T07:03:28.559Z"
   },
   {
    "duration": 18,
    "start_time": "2024-07-16T07:03:28.571Z"
   },
   {
    "duration": 56,
    "start_time": "2024-07-16T07:03:28.591Z"
   },
   {
    "duration": 5,
    "start_time": "2024-07-16T07:03:28.650Z"
   },
   {
    "duration": 55,
    "start_time": "2024-07-16T07:03:28.657Z"
   },
   {
    "duration": 23,
    "start_time": "2024-07-16T07:03:28.714Z"
   },
   {
    "duration": 6,
    "start_time": "2024-07-16T07:03:28.738Z"
   },
   {
    "duration": 280,
    "start_time": "2024-07-16T07:03:28.746Z"
   },
   {
    "duration": 275,
    "start_time": "2024-07-16T07:03:29.029Z"
   },
   {
    "duration": 330,
    "start_time": "2024-07-16T07:03:29.306Z"
   },
   {
    "duration": 304,
    "start_time": "2024-07-16T07:03:29.645Z"
   },
   {
    "duration": 268,
    "start_time": "2024-07-16T07:03:29.951Z"
   },
   {
    "duration": 261,
    "start_time": "2024-07-16T07:03:30.221Z"
   },
   {
    "duration": 5,
    "start_time": "2024-07-16T07:03:30.484Z"
   },
   {
    "duration": 543,
    "start_time": "2024-07-16T07:03:30.491Z"
   },
   {
    "duration": 368,
    "start_time": "2024-07-16T07:03:31.036Z"
   },
   {
    "duration": 423,
    "start_time": "2024-07-16T07:03:31.406Z"
   },
   {
    "duration": 390,
    "start_time": "2024-07-16T07:03:31.831Z"
   },
   {
    "duration": 540,
    "start_time": "2024-07-16T07:03:32.223Z"
   },
   {
    "duration": 375,
    "start_time": "2024-07-16T07:03:32.764Z"
   },
   {
    "duration": 1951,
    "start_time": "2024-07-16T07:03:33.141Z"
   },
   {
    "duration": 2641,
    "start_time": "2024-07-16T07:03:41.926Z"
   },
   {
    "duration": 13914,
    "start_time": "2024-07-16T07:03:52.536Z"
   },
   {
    "duration": 13253,
    "start_time": "2024-07-16T07:12:19.836Z"
   },
   {
    "duration": 13272,
    "start_time": "2024-07-16T07:25:05.713Z"
   },
   {
    "duration": 1957,
    "start_time": "2024-07-16T07:30:07.629Z"
   },
   {
    "duration": 29,
    "start_time": "2024-07-16T08:14:09.383Z"
   },
   {
    "duration": 23,
    "start_time": "2024-07-16T08:14:29.565Z"
   },
   {
    "duration": 1156,
    "start_time": "2024-07-16T08:17:56.831Z"
   },
   {
    "duration": 6,
    "start_time": "2024-07-16T08:18:21.949Z"
   },
   {
    "duration": 6,
    "start_time": "2024-07-16T09:06:29.631Z"
   },
   {
    "duration": 2,
    "start_time": "2024-07-16T09:11:52.010Z"
   },
   {
    "duration": 58,
    "start_time": "2024-07-16T09:12:49.472Z"
   },
   {
    "duration": 7,
    "start_time": "2024-07-16T09:14:00.280Z"
   },
   {
    "duration": 6,
    "start_time": "2024-07-16T09:24:46.169Z"
   },
   {
    "duration": 5,
    "start_time": "2024-07-16T09:25:34.065Z"
   },
   {
    "duration": 7,
    "start_time": "2024-07-16T09:26:47.022Z"
   },
   {
    "duration": 5,
    "start_time": "2024-07-16T09:28:15.829Z"
   },
   {
    "duration": 6,
    "start_time": "2024-07-16T09:34:21.071Z"
   },
   {
    "duration": 5,
    "start_time": "2024-07-16T09:35:19.487Z"
   },
   {
    "duration": 4,
    "start_time": "2024-07-16T09:35:35.952Z"
   },
   {
    "duration": 6,
    "start_time": "2024-07-16T09:37:19.288Z"
   },
   {
    "duration": 5,
    "start_time": "2024-07-16T09:37:37.232Z"
   },
   {
    "duration": 5,
    "start_time": "2024-07-16T09:38:23.055Z"
   },
   {
    "duration": 7,
    "start_time": "2024-07-16T10:00:16.688Z"
   },
   {
    "duration": 5,
    "start_time": "2024-07-16T10:01:11.854Z"
   },
   {
    "duration": 4,
    "start_time": "2024-07-16T10:01:29.568Z"
   },
   {
    "duration": 6,
    "start_time": "2024-07-16T10:01:52.749Z"
   },
   {
    "duration": 5,
    "start_time": "2024-07-16T10:03:28.312Z"
   },
   {
    "duration": 5,
    "start_time": "2024-07-16T10:03:52.072Z"
   },
   {
    "duration": 5,
    "start_time": "2024-07-16T10:10:28.480Z"
   },
   {
    "duration": 22,
    "start_time": "2024-07-16T10:55:29.069Z"
   },
   {
    "duration": 40,
    "start_time": "2024-07-16T10:56:31.413Z"
   },
   {
    "duration": 18,
    "start_time": "2024-07-16T10:56:53.815Z"
   },
   {
    "duration": 16,
    "start_time": "2024-07-16T10:58:00.442Z"
   },
   {
    "duration": 14,
    "start_time": "2024-07-16T10:58:11.324Z"
   },
   {
    "duration": 13,
    "start_time": "2024-07-16T10:59:08.437Z"
   },
   {
    "duration": 15,
    "start_time": "2024-07-16T10:59:21.867Z"
   },
   {
    "duration": 16,
    "start_time": "2024-07-16T10:59:35.318Z"
   },
   {
    "duration": 15,
    "start_time": "2024-07-16T11:00:34.107Z"
   },
   {
    "duration": 19,
    "start_time": "2024-07-16T11:00:38.556Z"
   },
   {
    "duration": 16,
    "start_time": "2024-07-16T11:00:45.131Z"
   },
   {
    "duration": 16,
    "start_time": "2024-07-16T11:02:53.116Z"
   },
   {
    "duration": 7,
    "start_time": "2024-07-16T11:04:36.196Z"
   },
   {
    "duration": 4,
    "start_time": "2024-07-16T11:05:15.565Z"
   },
   {
    "duration": 9,
    "start_time": "2024-07-16T11:08:21.317Z"
   },
   {
    "duration": 10,
    "start_time": "2024-07-16T11:10:36.079Z"
   },
   {
    "duration": 10,
    "start_time": "2024-07-16T11:10:54.454Z"
   },
   {
    "duration": 10,
    "start_time": "2024-07-16T11:11:46.369Z"
   },
   {
    "duration": 61,
    "start_time": "2024-07-16T11:12:40.537Z"
   },
   {
    "duration": 10,
    "start_time": "2024-07-16T11:12:45.926Z"
   },
   {
    "duration": 59,
    "start_time": "2024-07-16T11:17:06.746Z"
   },
   {
    "duration": 8,
    "start_time": "2024-07-16T11:17:11.527Z"
   },
   {
    "duration": 9,
    "start_time": "2024-07-16T11:23:20.473Z"
   },
   {
    "duration": 11,
    "start_time": "2024-07-16T11:23:21.465Z"
   },
   {
    "duration": 8,
    "start_time": "2024-07-16T11:23:27.553Z"
   },
   {
    "duration": 10,
    "start_time": "2024-07-16T11:23:29.337Z"
   },
   {
    "duration": 10,
    "start_time": "2024-07-16T11:23:37.741Z"
   },
   {
    "duration": 12,
    "start_time": "2024-07-16T11:23:39.514Z"
   },
   {
    "duration": 8,
    "start_time": "2024-07-16T11:23:46.693Z"
   },
   {
    "duration": 10,
    "start_time": "2024-07-16T11:23:48.129Z"
   },
   {
    "duration": 7,
    "start_time": "2024-07-16T11:23:53.729Z"
   },
   {
    "duration": 14,
    "start_time": "2024-07-16T11:23:54.347Z"
   },
   {
    "duration": 7,
    "start_time": "2024-07-16T11:24:07.745Z"
   },
   {
    "duration": 13,
    "start_time": "2024-07-16T11:24:08.545Z"
   },
   {
    "duration": 7,
    "start_time": "2024-07-16T11:26:13.826Z"
   },
   {
    "duration": 10,
    "start_time": "2024-07-16T11:26:38.370Z"
   },
   {
    "duration": 7,
    "start_time": "2024-07-16T11:26:50.714Z"
   },
   {
    "duration": 10,
    "start_time": "2024-07-16T11:26:51.858Z"
   },
   {
    "duration": 8,
    "start_time": "2024-07-16T11:26:57.969Z"
   },
   {
    "duration": 12,
    "start_time": "2024-07-16T11:26:58.546Z"
   },
   {
    "duration": 8,
    "start_time": "2024-07-16T11:27:06.509Z"
   },
   {
    "duration": 11,
    "start_time": "2024-07-16T11:27:07.099Z"
   },
   {
    "duration": 8,
    "start_time": "2024-07-16T11:27:35.187Z"
   },
   {
    "duration": 10,
    "start_time": "2024-07-16T11:27:35.715Z"
   },
   {
    "duration": 8,
    "start_time": "2024-07-16T11:27:42.362Z"
   },
   {
    "duration": 12,
    "start_time": "2024-07-16T11:27:43.330Z"
   },
   {
    "duration": 10,
    "start_time": "2024-07-16T11:28:32.674Z"
   },
   {
    "duration": 11,
    "start_time": "2024-07-16T11:28:33.484Z"
   },
   {
    "duration": 8,
    "start_time": "2024-07-16T11:28:39.684Z"
   },
   {
    "duration": 10,
    "start_time": "2024-07-16T11:28:40.458Z"
   },
   {
    "duration": 8,
    "start_time": "2024-07-16T11:28:50.206Z"
   },
   {
    "duration": 14,
    "start_time": "2024-07-16T11:28:50.651Z"
   },
   {
    "duration": 10,
    "start_time": "2024-07-16T11:33:19.851Z"
   },
   {
    "duration": 10,
    "start_time": "2024-07-16T11:33:20.444Z"
   },
   {
    "duration": 9,
    "start_time": "2024-07-16T11:33:26.012Z"
   },
   {
    "duration": 13,
    "start_time": "2024-07-16T11:33:26.566Z"
   },
   {
    "duration": 8,
    "start_time": "2024-07-16T11:33:33.339Z"
   },
   {
    "duration": 10,
    "start_time": "2024-07-16T11:33:34.084Z"
   },
   {
    "duration": 11,
    "start_time": "2024-07-16T11:33:42.284Z"
   },
   {
    "duration": 9,
    "start_time": "2024-07-16T11:33:42.980Z"
   },
   {
    "duration": 8,
    "start_time": "2024-07-16T11:33:51.964Z"
   },
   {
    "duration": 10,
    "start_time": "2024-07-16T11:33:52.475Z"
   },
   {
    "duration": 7,
    "start_time": "2024-07-16T11:34:03.152Z"
   },
   {
    "duration": 12,
    "start_time": "2024-07-16T11:34:03.708Z"
   },
   {
    "duration": 9,
    "start_time": "2024-07-16T11:34:13.169Z"
   },
   {
    "duration": 10,
    "start_time": "2024-07-16T11:34:13.644Z"
   },
   {
    "duration": 9,
    "start_time": "2024-07-16T11:34:19.516Z"
   },
   {
    "duration": 10,
    "start_time": "2024-07-16T11:34:20.021Z"
   },
   {
    "duration": 8,
    "start_time": "2024-07-16T11:34:25.115Z"
   },
   {
    "duration": 8,
    "start_time": "2024-07-16T11:34:43.455Z"
   },
   {
    "duration": 10,
    "start_time": "2024-07-16T11:34:43.955Z"
   },
   {
    "duration": 9,
    "start_time": "2024-07-16T11:34:49.355Z"
   },
   {
    "duration": 11,
    "start_time": "2024-07-16T11:34:50.131Z"
   },
   {
    "duration": 8,
    "start_time": "2024-07-16T11:34:57.068Z"
   },
   {
    "duration": 10,
    "start_time": "2024-07-16T11:34:57.539Z"
   },
   {
    "duration": 9,
    "start_time": "2024-07-16T11:35:35.652Z"
   },
   {
    "duration": 11,
    "start_time": "2024-07-16T11:35:36.207Z"
   },
   {
    "duration": 9,
    "start_time": "2024-07-16T11:36:19.204Z"
   },
   {
    "duration": 10,
    "start_time": "2024-07-16T11:36:19.757Z"
   },
   {
    "duration": 7,
    "start_time": "2024-07-16T11:37:56.805Z"
   },
   {
    "duration": 9,
    "start_time": "2024-07-16T11:37:57.686Z"
   },
   {
    "duration": 9,
    "start_time": "2024-07-16T11:38:17.391Z"
   },
   {
    "duration": 10,
    "start_time": "2024-07-16T11:38:18.118Z"
   },
   {
    "duration": 8,
    "start_time": "2024-07-16T11:41:37.910Z"
   },
   {
    "duration": 11,
    "start_time": "2024-07-16T11:41:38.672Z"
   },
   {
    "duration": 7,
    "start_time": "2024-07-16T11:41:54.833Z"
   },
   {
    "duration": 10,
    "start_time": "2024-07-16T11:41:57.671Z"
   },
   {
    "duration": 8,
    "start_time": "2024-07-16T11:43:15.177Z"
   },
   {
    "duration": 10,
    "start_time": "2024-07-16T11:43:15.982Z"
   },
   {
    "duration": 7,
    "start_time": "2024-07-16T11:43:39.359Z"
   },
   {
    "duration": 11,
    "start_time": "2024-07-16T11:43:39.903Z"
   },
   {
    "duration": 8,
    "start_time": "2024-07-16T11:44:02.232Z"
   },
   {
    "duration": 10,
    "start_time": "2024-07-16T11:44:03.016Z"
   },
   {
    "duration": 8,
    "start_time": "2024-07-16T11:44:14.143Z"
   },
   {
    "duration": 12,
    "start_time": "2024-07-16T11:44:14.751Z"
   },
   {
    "duration": 8,
    "start_time": "2024-07-16T11:45:06.945Z"
   },
   {
    "duration": 15,
    "start_time": "2024-07-16T11:45:07.527Z"
   },
   {
    "duration": 7,
    "start_time": "2024-07-16T11:48:32.170Z"
   },
   {
    "duration": 13,
    "start_time": "2024-07-16T11:48:32.746Z"
   },
   {
    "duration": 7,
    "start_time": "2024-07-16T11:48:38.849Z"
   },
   {
    "duration": 10,
    "start_time": "2024-07-16T11:48:42.016Z"
   },
   {
    "duration": 8,
    "start_time": "2024-07-16T11:49:34.393Z"
   },
   {
    "duration": 11,
    "start_time": "2024-07-16T11:49:34.976Z"
   },
   {
    "duration": 6,
    "start_time": "2024-07-16T11:52:44.137Z"
   },
   {
    "duration": 11,
    "start_time": "2024-07-16T11:52:44.897Z"
   },
   {
    "duration": 8,
    "start_time": "2024-07-16T11:55:38.475Z"
   },
   {
    "duration": 10,
    "start_time": "2024-07-16T11:55:39.050Z"
   },
   {
    "duration": 8,
    "start_time": "2024-07-16T11:56:22.211Z"
   },
   {
    "duration": 12,
    "start_time": "2024-07-16T11:56:23.146Z"
   },
   {
    "duration": 8,
    "start_time": "2024-07-16T11:56:30.674Z"
   },
   {
    "duration": 10,
    "start_time": "2024-07-16T11:56:31.338Z"
   },
   {
    "duration": 88,
    "start_time": "2024-07-16T12:12:44.752Z"
   },
   {
    "duration": 7,
    "start_time": "2024-07-16T12:13:07.663Z"
   },
   {
    "duration": 10,
    "start_time": "2024-07-16T12:13:08.825Z"
   },
   {
    "duration": 7,
    "start_time": "2024-07-16T12:13:25.862Z"
   },
   {
    "duration": 11,
    "start_time": "2024-07-16T12:13:26.855Z"
   },
   {
    "duration": 6,
    "start_time": "2024-07-16T12:14:04.863Z"
   },
   {
    "duration": 10,
    "start_time": "2024-07-16T12:14:05.735Z"
   },
   {
    "duration": 7,
    "start_time": "2024-07-16T12:16:15.448Z"
   },
   {
    "duration": 10,
    "start_time": "2024-07-16T12:16:16.072Z"
   },
   {
    "duration": 14,
    "start_time": "2024-07-16T12:16:24.743Z"
   },
   {
    "duration": 13,
    "start_time": "2024-07-16T12:16:25.337Z"
   },
   {
    "duration": 8,
    "start_time": "2024-07-16T12:16:37.743Z"
   },
   {
    "duration": 11,
    "start_time": "2024-07-16T12:16:38.407Z"
   },
   {
    "duration": 8,
    "start_time": "2024-07-16T12:16:43.032Z"
   },
   {
    "duration": 11,
    "start_time": "2024-07-16T12:16:45.353Z"
   },
   {
    "duration": 1339,
    "start_time": "2024-07-17T04:27:56.554Z"
   },
   {
    "duration": 139,
    "start_time": "2024-07-17T04:27:59.273Z"
   },
   {
    "duration": 12,
    "start_time": "2024-07-17T04:28:00.920Z"
   },
   {
    "duration": 34,
    "start_time": "2024-07-17T04:28:04.395Z"
   },
   {
    "duration": 4,
    "start_time": "2024-07-17T04:28:53.451Z"
   },
   {
    "duration": 12,
    "start_time": "2024-07-17T04:28:54.840Z"
   },
   {
    "duration": 12,
    "start_time": "2024-07-17T04:28:58.776Z"
   },
   {
    "duration": 48,
    "start_time": "2024-07-17T04:28:59.817Z"
   },
   {
    "duration": 13,
    "start_time": "2024-07-17T04:29:09.243Z"
   },
   {
    "duration": 13,
    "start_time": "2024-07-17T04:29:10.341Z"
   },
   {
    "duration": 14,
    "start_time": "2024-07-17T04:29:27.529Z"
   },
   {
    "duration": 7,
    "start_time": "2024-07-17T04:29:28.424Z"
   },
   {
    "duration": 13,
    "start_time": "2024-07-17T04:29:51.986Z"
   },
   {
    "duration": 5,
    "start_time": "2024-07-17T04:29:52.760Z"
   },
   {
    "duration": 6,
    "start_time": "2024-07-17T04:29:53.544Z"
   },
   {
    "duration": 6,
    "start_time": "2024-07-17T04:29:54.412Z"
   },
   {
    "duration": 6,
    "start_time": "2024-07-17T04:29:54.720Z"
   },
   {
    "duration": 7,
    "start_time": "2024-07-17T04:29:54.952Z"
   },
   {
    "duration": 7,
    "start_time": "2024-07-17T04:29:55.216Z"
   },
   {
    "duration": 15,
    "start_time": "2024-07-17T04:29:55.800Z"
   },
   {
    "duration": 20,
    "start_time": "2024-07-17T04:29:56.736Z"
   },
   {
    "duration": 6,
    "start_time": "2024-07-17T04:30:00.281Z"
   },
   {
    "duration": 13,
    "start_time": "2024-07-17T04:30:14.869Z"
   },
   {
    "duration": 21,
    "start_time": "2024-07-17T04:30:16.657Z"
   },
   {
    "duration": 4,
    "start_time": "2024-07-17T04:30:42.009Z"
   },
   {
    "duration": 272,
    "start_time": "2024-07-17T04:30:44.393Z"
   },
   {
    "duration": 239,
    "start_time": "2024-07-17T04:30:46.946Z"
   },
   {
    "duration": 296,
    "start_time": "2024-07-17T04:30:49.425Z"
   },
   {
    "duration": 269,
    "start_time": "2024-07-17T04:30:53.153Z"
   },
   {
    "duration": 214,
    "start_time": "2024-07-17T04:30:55.892Z"
   },
   {
    "duration": 251,
    "start_time": "2024-07-17T04:30:56.649Z"
   },
   {
    "duration": 4,
    "start_time": "2024-07-17T04:30:57.513Z"
   },
   {
    "duration": 368,
    "start_time": "2024-07-17T04:30:57.801Z"
   },
   {
    "duration": 287,
    "start_time": "2024-07-17T04:30:58.729Z"
   },
   {
    "duration": 321,
    "start_time": "2024-07-17T04:30:59.355Z"
   },
   {
    "duration": 311,
    "start_time": "2024-07-17T04:31:00.531Z"
   },
   {
    "duration": 325,
    "start_time": "2024-07-17T04:31:02.097Z"
   },
   {
    "duration": 308,
    "start_time": "2024-07-17T04:31:04.760Z"
   },
   {
    "duration": 1665,
    "start_time": "2024-07-17T04:31:21.337Z"
   },
   {
    "duration": 21,
    "start_time": "2024-07-17T04:31:39.529Z"
   },
   {
    "duration": 21,
    "start_time": "2024-07-17T04:31:40.258Z"
   },
   {
    "duration": 5,
    "start_time": "2024-07-17T04:31:42.825Z"
   },
   {
    "duration": 5,
    "start_time": "2024-07-17T04:31:44.634Z"
   },
   {
    "duration": 2,
    "start_time": "2024-07-17T04:31:52.673Z"
   },
   {
    "duration": 5,
    "start_time": "2024-07-17T04:31:53.201Z"
   },
   {
    "duration": 4,
    "start_time": "2024-07-17T04:31:56.001Z"
   },
   {
    "duration": 3,
    "start_time": "2024-07-17T04:31:56.596Z"
   },
   {
    "duration": 5,
    "start_time": "2024-07-17T04:32:05.561Z"
   },
   {
    "duration": 4,
    "start_time": "2024-07-17T04:32:14.061Z"
   },
   {
    "duration": 5,
    "start_time": "2024-07-17T04:32:14.519Z"
   },
   {
    "duration": 6,
    "start_time": "2024-07-17T04:32:16.097Z"
   },
   {
    "duration": 5,
    "start_time": "2024-07-17T04:32:22.761Z"
   },
   {
    "duration": 5,
    "start_time": "2024-07-17T04:32:23.249Z"
   },
   {
    "duration": 5,
    "start_time": "2024-07-17T04:32:23.825Z"
   },
   {
    "duration": 7,
    "start_time": "2024-07-17T04:32:37.841Z"
   },
   {
    "duration": 8,
    "start_time": "2024-07-17T04:32:51.538Z"
   },
   {
    "duration": 10,
    "start_time": "2024-07-17T04:32:51.944Z"
   },
   {
    "duration": 7,
    "start_time": "2024-07-17T04:32:53.625Z"
   },
   {
    "duration": 9,
    "start_time": "2024-07-17T04:32:54.450Z"
   },
   {
    "duration": 6,
    "start_time": "2024-07-17T04:33:01.746Z"
   },
   {
    "duration": 11,
    "start_time": "2024-07-17T04:33:02.162Z"
   },
   {
    "duration": 7,
    "start_time": "2024-07-17T04:33:03.688Z"
   },
   {
    "duration": 9,
    "start_time": "2024-07-17T04:33:04.157Z"
   },
   {
    "duration": 48,
    "start_time": "2024-07-17T04:36:47.714Z"
   },
   {
    "duration": 1110,
    "start_time": "2024-07-17T06:04:40.048Z"
   },
   {
    "duration": 142,
    "start_time": "2024-07-17T06:04:41.160Z"
   },
   {
    "duration": 11,
    "start_time": "2024-07-17T06:04:41.303Z"
   },
   {
    "duration": 35,
    "start_time": "2024-07-17T06:04:41.315Z"
   },
   {
    "duration": 3,
    "start_time": "2024-07-17T06:04:41.351Z"
   },
   {
    "duration": 27,
    "start_time": "2024-07-17T06:04:41.355Z"
   },
   {
    "duration": 12,
    "start_time": "2024-07-17T06:04:41.383Z"
   },
   {
    "duration": 44,
    "start_time": "2024-07-17T06:04:41.396Z"
   },
   {
    "duration": 14,
    "start_time": "2024-07-17T06:04:41.441Z"
   },
   {
    "duration": 13,
    "start_time": "2024-07-17T06:04:41.482Z"
   },
   {
    "duration": 14,
    "start_time": "2024-07-17T06:04:41.496Z"
   },
   {
    "duration": 6,
    "start_time": "2024-07-17T06:04:41.511Z"
   },
   {
    "duration": 9,
    "start_time": "2024-07-17T06:04:41.518Z"
   },
   {
    "duration": 5,
    "start_time": "2024-07-17T06:04:41.528Z"
   },
   {
    "duration": 6,
    "start_time": "2024-07-17T06:04:41.534Z"
   },
   {
    "duration": 41,
    "start_time": "2024-07-17T06:04:41.541Z"
   },
   {
    "duration": 5,
    "start_time": "2024-07-17T06:04:41.584Z"
   },
   {
    "duration": 4,
    "start_time": "2024-07-17T06:04:41.591Z"
   },
   {
    "duration": 7,
    "start_time": "2024-07-17T06:04:41.597Z"
   },
   {
    "duration": 13,
    "start_time": "2024-07-17T06:04:41.606Z"
   },
   {
    "duration": 31,
    "start_time": "2024-07-17T06:04:41.620Z"
   },
   {
    "duration": 4,
    "start_time": "2024-07-17T06:04:41.652Z"
   },
   {
    "duration": 34,
    "start_time": "2024-07-17T06:04:41.657Z"
   },
   {
    "duration": 21,
    "start_time": "2024-07-17T06:04:41.692Z"
   },
   {
    "duration": 5,
    "start_time": "2024-07-17T06:04:41.714Z"
   },
   {
    "duration": 321,
    "start_time": "2024-07-17T06:04:41.720Z"
   },
   {
    "duration": 254,
    "start_time": "2024-07-17T06:04:42.042Z"
   },
   {
    "duration": 250,
    "start_time": "2024-07-17T06:04:42.299Z"
   },
   {
    "duration": 264,
    "start_time": "2024-07-17T06:04:42.550Z"
   },
   {
    "duration": 216,
    "start_time": "2024-07-17T06:04:42.816Z"
   },
   {
    "duration": 269,
    "start_time": "2024-07-17T06:04:43.034Z"
   },
   {
    "duration": 5,
    "start_time": "2024-07-17T06:04:43.304Z"
   },
   {
    "duration": 384,
    "start_time": "2024-07-17T06:04:43.310Z"
   },
   {
    "duration": 320,
    "start_time": "2024-07-17T06:04:43.696Z"
   },
   {
    "duration": 337,
    "start_time": "2024-07-17T06:04:44.018Z"
   },
   {
    "duration": 318,
    "start_time": "2024-07-17T06:04:44.357Z"
   },
   {
    "duration": 315,
    "start_time": "2024-07-17T06:04:44.676Z"
   },
   {
    "duration": 313,
    "start_time": "2024-07-17T06:04:44.992Z"
   },
   {
    "duration": 1632,
    "start_time": "2024-07-17T06:04:45.306Z"
   },
   {
    "duration": 21,
    "start_time": "2024-07-17T06:04:46.940Z"
   },
   {
    "duration": 20,
    "start_time": "2024-07-17T06:04:46.962Z"
   },
   {
    "duration": 4,
    "start_time": "2024-07-17T06:04:46.984Z"
   },
   {
    "duration": 5,
    "start_time": "2024-07-17T06:04:46.989Z"
   },
   {
    "duration": 3,
    "start_time": "2024-07-17T06:04:46.995Z"
   },
   {
    "duration": 5,
    "start_time": "2024-07-17T06:04:46.999Z"
   },
   {
    "duration": 4,
    "start_time": "2024-07-17T06:04:47.006Z"
   },
   {
    "duration": 6,
    "start_time": "2024-07-17T06:04:47.011Z"
   },
   {
    "duration": 5,
    "start_time": "2024-07-17T06:04:47.018Z"
   },
   {
    "duration": 6,
    "start_time": "2024-07-17T06:04:47.025Z"
   },
   {
    "duration": 4,
    "start_time": "2024-07-17T06:04:47.033Z"
   },
   {
    "duration": 58,
    "start_time": "2024-07-17T06:04:47.039Z"
   },
   {
    "duration": 5,
    "start_time": "2024-07-17T06:04:47.098Z"
   },
   {
    "duration": 4,
    "start_time": "2024-07-17T06:04:47.104Z"
   },
   {
    "duration": 5,
    "start_time": "2024-07-17T06:04:47.109Z"
   },
   {
    "duration": 7,
    "start_time": "2024-07-17T06:04:47.115Z"
   },
   {
    "duration": 9,
    "start_time": "2024-07-17T06:04:47.124Z"
   },
   {
    "duration": 19,
    "start_time": "2024-07-17T06:04:47.134Z"
   },
   {
    "duration": 16,
    "start_time": "2024-07-17T06:04:47.155Z"
   },
   {
    "duration": 10,
    "start_time": "2024-07-17T06:04:47.181Z"
   },
   {
    "duration": 7,
    "start_time": "2024-07-17T06:04:47.193Z"
   },
   {
    "duration": 10,
    "start_time": "2024-07-17T06:04:47.202Z"
   },
   {
    "duration": 6,
    "start_time": "2024-07-17T06:04:47.214Z"
   },
   {
    "duration": 11,
    "start_time": "2024-07-17T06:04:47.221Z"
   },
   {
    "duration": 1087,
    "start_time": "2024-07-17T17:59:08.786Z"
   },
   {
    "duration": 115,
    "start_time": "2024-07-17T17:59:09.875Z"
   },
   {
    "duration": 11,
    "start_time": "2024-07-17T17:59:09.991Z"
   },
   {
    "duration": 65,
    "start_time": "2024-07-17T17:59:10.004Z"
   },
   {
    "duration": 78,
    "start_time": "2024-07-17T17:59:10.070Z"
   },
   {
    "duration": 50,
    "start_time": "2024-07-17T17:59:10.150Z"
   },
   {
    "duration": 26,
    "start_time": "2024-07-17T17:59:10.201Z"
   },
   {
    "duration": 61,
    "start_time": "2024-07-17T17:59:10.228Z"
   },
   {
    "duration": 13,
    "start_time": "2024-07-17T17:59:10.291Z"
   },
   {
    "duration": 28,
    "start_time": "2024-07-17T17:59:10.305Z"
   },
   {
    "duration": 33,
    "start_time": "2024-07-17T17:59:10.335Z"
   },
   {
    "duration": 10,
    "start_time": "2024-07-17T17:59:10.370Z"
   },
   {
    "duration": 21,
    "start_time": "2024-07-17T17:59:10.381Z"
   },
   {
    "duration": 9,
    "start_time": "2024-07-17T17:59:10.404Z"
   },
   {
    "duration": 20,
    "start_time": "2024-07-17T17:59:10.415Z"
   },
   {
    "duration": 20,
    "start_time": "2024-07-17T17:59:10.437Z"
   },
   {
    "duration": 11,
    "start_time": "2024-07-17T17:59:10.458Z"
   },
   {
    "duration": 14,
    "start_time": "2024-07-17T17:59:10.471Z"
   },
   {
    "duration": 23,
    "start_time": "2024-07-17T17:59:10.487Z"
   },
   {
    "duration": 25,
    "start_time": "2024-07-17T17:59:10.511Z"
   },
   {
    "duration": 32,
    "start_time": "2024-07-17T17:59:10.537Z"
   },
   {
    "duration": 64,
    "start_time": "2024-07-17T17:59:10.570Z"
   },
   {
    "duration": 54,
    "start_time": "2024-07-17T17:59:10.636Z"
   },
   {
    "duration": 29,
    "start_time": "2024-07-17T17:59:10.692Z"
   },
   {
    "duration": 15,
    "start_time": "2024-07-17T17:59:10.722Z"
   },
   {
    "duration": 289,
    "start_time": "2024-07-17T17:59:10.738Z"
   },
   {
    "duration": 196,
    "start_time": "2024-07-17T17:59:11.028Z"
   },
   {
    "duration": 317,
    "start_time": "2024-07-17T17:59:11.225Z"
   },
   {
    "duration": 278,
    "start_time": "2024-07-17T17:59:11.543Z"
   },
   {
    "duration": 210,
    "start_time": "2024-07-17T17:59:11.822Z"
   },
   {
    "duration": 197,
    "start_time": "2024-07-17T17:59:12.033Z"
   },
   {
    "duration": 4,
    "start_time": "2024-07-17T17:59:12.231Z"
   },
   {
    "duration": 411,
    "start_time": "2024-07-17T17:59:12.237Z"
   },
   {
    "duration": 307,
    "start_time": "2024-07-17T17:59:12.649Z"
   },
   {
    "duration": 329,
    "start_time": "2024-07-17T17:59:12.957Z"
   },
   {
    "duration": 314,
    "start_time": "2024-07-17T17:59:13.288Z"
   },
   {
    "duration": 318,
    "start_time": "2024-07-17T17:59:13.604Z"
   },
   {
    "duration": 349,
    "start_time": "2024-07-17T17:59:13.924Z"
   },
   {
    "duration": 1693,
    "start_time": "2024-07-17T17:59:14.274Z"
   },
   {
    "duration": 30,
    "start_time": "2024-07-17T17:59:15.969Z"
   },
   {
    "duration": 21,
    "start_time": "2024-07-17T17:59:16.003Z"
   },
   {
    "duration": 7,
    "start_time": "2024-07-17T17:59:16.025Z"
   },
   {
    "duration": 21,
    "start_time": "2024-07-17T17:59:16.034Z"
   },
   {
    "duration": 67,
    "start_time": "2024-07-17T17:59:16.056Z"
   },
   {
    "duration": 12,
    "start_time": "2024-07-17T17:59:16.124Z"
   },
   {
    "duration": 10,
    "start_time": "2024-07-17T17:59:16.138Z"
   },
   {
    "duration": 13,
    "start_time": "2024-07-17T17:59:16.150Z"
   },
   {
    "duration": 16,
    "start_time": "2024-07-17T17:59:16.164Z"
   },
   {
    "duration": 20,
    "start_time": "2024-07-17T17:59:16.181Z"
   },
   {
    "duration": 34,
    "start_time": "2024-07-17T17:59:16.203Z"
   },
   {
    "duration": 17,
    "start_time": "2024-07-17T17:59:16.238Z"
   },
   {
    "duration": 20,
    "start_time": "2024-07-17T17:59:16.256Z"
   },
   {
    "duration": 50,
    "start_time": "2024-07-17T17:59:16.277Z"
   },
   {
    "duration": 10,
    "start_time": "2024-07-17T17:59:16.328Z"
   },
   {
    "duration": 23,
    "start_time": "2024-07-17T17:59:16.340Z"
   },
   {
    "duration": 19,
    "start_time": "2024-07-17T17:59:16.364Z"
   },
   {
    "duration": 21,
    "start_time": "2024-07-17T17:59:16.385Z"
   },
   {
    "duration": 6,
    "start_time": "2024-07-17T17:59:16.408Z"
   },
   {
    "duration": 11,
    "start_time": "2024-07-17T17:59:16.415Z"
   },
   {
    "duration": 25,
    "start_time": "2024-07-17T17:59:16.427Z"
   },
   {
    "duration": 13,
    "start_time": "2024-07-17T17:59:16.453Z"
   },
   {
    "duration": 22,
    "start_time": "2024-07-17T17:59:16.468Z"
   },
   {
    "duration": 32,
    "start_time": "2024-07-17T17:59:16.491Z"
   },
   {
    "duration": 1375,
    "start_time": "2024-07-18T05:19:49.811Z"
   },
   {
    "duration": 127,
    "start_time": "2024-07-18T05:19:51.188Z"
   },
   {
    "duration": 18,
    "start_time": "2024-07-18T05:19:51.317Z"
   },
   {
    "duration": 52,
    "start_time": "2024-07-18T05:19:51.338Z"
   },
   {
    "duration": 4,
    "start_time": "2024-07-18T05:19:51.392Z"
   },
   {
    "duration": 41,
    "start_time": "2024-07-18T05:19:51.397Z"
   },
   {
    "duration": 12,
    "start_time": "2024-07-18T05:19:51.440Z"
   },
   {
    "duration": 53,
    "start_time": "2024-07-18T05:19:51.454Z"
   },
   {
    "duration": 16,
    "start_time": "2024-07-18T05:19:51.509Z"
   },
   {
    "duration": 30,
    "start_time": "2024-07-18T05:19:51.528Z"
   },
   {
    "duration": 16,
    "start_time": "2024-07-18T05:19:51.560Z"
   },
   {
    "duration": 7,
    "start_time": "2024-07-18T05:19:51.578Z"
   },
   {
    "duration": 10,
    "start_time": "2024-07-18T05:19:51.587Z"
   },
   {
    "duration": 6,
    "start_time": "2024-07-18T05:19:51.599Z"
   },
   {
    "duration": 43,
    "start_time": "2024-07-18T05:19:51.607Z"
   },
   {
    "duration": 18,
    "start_time": "2024-07-18T05:19:51.652Z"
   },
   {
    "duration": 5,
    "start_time": "2024-07-18T05:19:51.672Z"
   },
   {
    "duration": 6,
    "start_time": "2024-07-18T05:19:51.679Z"
   },
   {
    "duration": 22,
    "start_time": "2024-07-18T05:19:51.686Z"
   },
   {
    "duration": 41,
    "start_time": "2024-07-18T05:19:51.709Z"
   },
   {
    "duration": 38,
    "start_time": "2024-07-18T05:19:51.751Z"
   },
   {
    "duration": 8,
    "start_time": "2024-07-18T05:19:51.790Z"
   },
   {
    "duration": 28,
    "start_time": "2024-07-18T05:19:51.799Z"
   },
   {
    "duration": 37,
    "start_time": "2024-07-18T05:19:51.829Z"
   },
   {
    "duration": 13,
    "start_time": "2024-07-18T05:19:51.868Z"
   },
   {
    "duration": 383,
    "start_time": "2024-07-18T05:19:51.882Z"
   },
   {
    "duration": 247,
    "start_time": "2024-07-18T05:19:52.266Z"
   },
   {
    "duration": 313,
    "start_time": "2024-07-18T05:19:52.517Z"
   },
   {
    "duration": 308,
    "start_time": "2024-07-18T05:19:52.832Z"
   },
   {
    "duration": 256,
    "start_time": "2024-07-18T05:19:53.141Z"
   },
   {
    "duration": 276,
    "start_time": "2024-07-18T05:19:53.399Z"
   },
   {
    "duration": 5,
    "start_time": "2024-07-18T05:19:53.677Z"
   },
   {
    "duration": 434,
    "start_time": "2024-07-18T05:19:53.683Z"
   },
   {
    "duration": 356,
    "start_time": "2024-07-18T05:19:54.118Z"
   },
   {
    "duration": 426,
    "start_time": "2024-07-18T05:19:54.476Z"
   },
   {
    "duration": 367,
    "start_time": "2024-07-18T05:19:54.904Z"
   },
   {
    "duration": 362,
    "start_time": "2024-07-18T05:19:55.273Z"
   },
   {
    "duration": 371,
    "start_time": "2024-07-18T05:19:55.637Z"
   },
   {
    "duration": 2003,
    "start_time": "2024-07-18T05:19:56.010Z"
   },
   {
    "duration": 32,
    "start_time": "2024-07-18T05:19:58.015Z"
   },
   {
    "duration": 33,
    "start_time": "2024-07-18T05:19:58.049Z"
   },
   {
    "duration": 6,
    "start_time": "2024-07-18T05:19:58.084Z"
   },
   {
    "duration": 4,
    "start_time": "2024-07-18T05:19:58.092Z"
   },
   {
    "duration": 7,
    "start_time": "2024-07-18T05:19:58.098Z"
   },
   {
    "duration": 7,
    "start_time": "2024-07-18T05:19:58.107Z"
   },
   {
    "duration": 7,
    "start_time": "2024-07-18T05:19:58.145Z"
   },
   {
    "duration": 12,
    "start_time": "2024-07-18T05:19:58.154Z"
   },
   {
    "duration": 7,
    "start_time": "2024-07-18T05:19:58.168Z"
   },
   {
    "duration": 6,
    "start_time": "2024-07-18T05:19:58.177Z"
   },
   {
    "duration": 4,
    "start_time": "2024-07-18T05:19:58.185Z"
   },
   {
    "duration": 6,
    "start_time": "2024-07-18T05:19:58.191Z"
   },
   {
    "duration": 12,
    "start_time": "2024-07-18T05:19:58.198Z"
   },
   {
    "duration": 5,
    "start_time": "2024-07-18T05:19:58.246Z"
   },
   {
    "duration": 6,
    "start_time": "2024-07-18T05:19:58.253Z"
   },
   {
    "duration": 8,
    "start_time": "2024-07-18T05:19:58.261Z"
   },
   {
    "duration": 9,
    "start_time": "2024-07-18T05:19:58.272Z"
   },
   {
    "duration": 17,
    "start_time": "2024-07-18T05:19:58.283Z"
   },
   {
    "duration": 51,
    "start_time": "2024-07-18T05:19:58.302Z"
   },
   {
    "duration": 14,
    "start_time": "2024-07-18T05:19:58.355Z"
   },
   {
    "duration": 8,
    "start_time": "2024-07-18T05:19:58.370Z"
   },
   {
    "duration": 11,
    "start_time": "2024-07-18T05:19:58.379Z"
   },
   {
    "duration": 11,
    "start_time": "2024-07-18T05:19:58.392Z"
   },
   {
    "duration": 47,
    "start_time": "2024-07-18T05:19:58.404Z"
   },
   {
    "duration": 328,
    "start_time": "2024-07-18T05:21:41.123Z"
   },
   {
    "duration": 636,
    "start_time": "2024-07-18T05:22:13.938Z"
   },
   {
    "duration": 1888,
    "start_time": "2024-07-18T05:23:01.862Z"
   },
   {
    "duration": 107,
    "start_time": "2024-07-18T05:28:22.793Z"
   },
   {
    "duration": 12,
    "start_time": "2024-07-18T05:31:36.850Z"
   },
   {
    "duration": 1766,
    "start_time": "2024-07-18T05:32:46.523Z"
   },
   {
    "duration": 18,
    "start_time": "2024-07-18T05:33:26.881Z"
   },
   {
    "duration": 1578,
    "start_time": "2024-07-18T05:33:44.965Z"
   },
   {
    "duration": 66,
    "start_time": "2024-07-18T05:35:00.532Z"
   },
   {
    "duration": 166,
    "start_time": "2024-07-18T05:35:12.594Z"
   },
   {
    "duration": 1896,
    "start_time": "2024-07-18T05:38:40.970Z"
   },
   {
    "duration": 22,
    "start_time": "2024-07-18T05:42:42.283Z"
   },
   {
    "duration": 21,
    "start_time": "2024-07-18T05:43:20.406Z"
   },
   {
    "duration": 18,
    "start_time": "2024-07-18T05:43:53.966Z"
   },
   {
    "duration": 12,
    "start_time": "2024-07-18T05:44:03.381Z"
   },
   {
    "duration": 13,
    "start_time": "2024-07-18T05:44:25.756Z"
   },
   {
    "duration": 68,
    "start_time": "2024-07-18T05:44:33.141Z"
   },
   {
    "duration": 57,
    "start_time": "2024-07-18T05:44:44.678Z"
   },
   {
    "duration": 10,
    "start_time": "2024-07-18T05:44:51.806Z"
   },
   {
    "duration": 25,
    "start_time": "2024-07-18T05:58:14.921Z"
   },
   {
    "duration": 21,
    "start_time": "2024-07-18T05:58:26.137Z"
   },
   {
    "duration": 23,
    "start_time": "2024-07-18T05:58:35.684Z"
   },
   {
    "duration": 10,
    "start_time": "2024-07-18T05:58:49.592Z"
   },
   {
    "duration": 12,
    "start_time": "2024-07-18T05:58:59.640Z"
   },
   {
    "duration": 13,
    "start_time": "2024-07-18T05:59:08.999Z"
   },
   {
    "duration": 147,
    "start_time": "2024-07-18T05:59:27.083Z"
   },
   {
    "duration": 2059,
    "start_time": "2024-07-18T06:06:05.420Z"
   },
   {
    "duration": 22,
    "start_time": "2024-07-18T06:06:47.883Z"
   },
   {
    "duration": 1798,
    "start_time": "2024-07-18T06:07:06.998Z"
   },
   {
    "duration": 1701,
    "start_time": "2024-07-18T06:07:30.797Z"
   },
   {
    "duration": 1810,
    "start_time": "2024-07-18T06:10:37.340Z"
   },
   {
    "duration": 1428,
    "start_time": "2024-07-18T06:11:04.036Z"
   },
   {
    "duration": 15,
    "start_time": "2024-07-18T06:13:43.892Z"
   },
   {
    "duration": 17,
    "start_time": "2024-07-18T06:16:53.541Z"
   },
   {
    "duration": 28,
    "start_time": "2024-07-18T06:23:16.176Z"
   },
   {
    "duration": 26,
    "start_time": "2024-07-18T06:25:11.935Z"
   },
   {
    "duration": 14,
    "start_time": "2024-07-18T06:25:40.797Z"
   },
   {
    "duration": 17,
    "start_time": "2024-07-18T06:26:05.374Z"
   },
   {
    "duration": 17,
    "start_time": "2024-07-18T06:27:36.927Z"
   },
   {
    "duration": 17,
    "start_time": "2024-07-18T06:27:48.753Z"
   },
   {
    "duration": 16,
    "start_time": "2024-07-18T06:28:57.001Z"
   },
   {
    "duration": 26,
    "start_time": "2024-07-18T06:35:44.366Z"
   },
   {
    "duration": 20,
    "start_time": "2024-07-18T06:36:17.931Z"
   },
   {
    "duration": 24,
    "start_time": "2024-07-18T06:36:44.334Z"
   },
   {
    "duration": 23,
    "start_time": "2024-07-18T06:37:12.201Z"
   },
   {
    "duration": 15,
    "start_time": "2024-07-18T06:37:47.179Z"
   },
   {
    "duration": 27,
    "start_time": "2024-07-18T06:38:03.349Z"
   },
   {
    "duration": 22,
    "start_time": "2024-07-18T06:44:48.748Z"
   },
   {
    "duration": 22,
    "start_time": "2024-07-18T06:46:18.077Z"
   },
   {
    "duration": 16,
    "start_time": "2024-07-18T06:46:56.365Z"
   },
   {
    "duration": 749,
    "start_time": "2024-07-18T06:47:02.566Z"
   },
   {
    "duration": 6,
    "start_time": "2024-07-18T06:47:40.324Z"
   },
   {
    "duration": 13,
    "start_time": "2024-07-18T06:48:22.853Z"
   },
   {
    "duration": 28,
    "start_time": "2024-07-18T06:48:46.292Z"
   },
   {
    "duration": 14,
    "start_time": "2024-07-18T06:49:03.205Z"
   },
   {
    "duration": 14,
    "start_time": "2024-07-18T06:50:50.061Z"
   },
   {
    "duration": 13,
    "start_time": "2024-07-18T06:50:56.225Z"
   },
   {
    "duration": 25,
    "start_time": "2024-07-18T06:51:37.007Z"
   },
   {
    "duration": 31,
    "start_time": "2024-07-18T06:52:02.933Z"
   },
   {
    "duration": 14,
    "start_time": "2024-07-18T06:52:20.950Z"
   },
   {
    "duration": 15,
    "start_time": "2024-07-18T06:52:31.222Z"
   },
   {
    "duration": 1775,
    "start_time": "2024-07-18T06:53:19.009Z"
   },
   {
    "duration": 459,
    "start_time": "2024-07-18T06:53:46.525Z"
   },
   {
    "duration": 432,
    "start_time": "2024-07-18T06:54:11.957Z"
   },
   {
    "duration": 424,
    "start_time": "2024-07-18T06:54:37.991Z"
   },
   {
    "duration": 452,
    "start_time": "2024-07-18T06:55:43.699Z"
   },
   {
    "duration": 460,
    "start_time": "2024-07-18T06:57:31.104Z"
   },
   {
    "duration": 446,
    "start_time": "2024-07-18T06:58:00.649Z"
   },
   {
    "duration": 3,
    "start_time": "2024-07-18T06:58:17.991Z"
   },
   {
    "duration": 89,
    "start_time": "2024-07-18T06:58:18.959Z"
   },
   {
    "duration": 13,
    "start_time": "2024-07-18T06:58:19.950Z"
   },
   {
    "duration": 39,
    "start_time": "2024-07-18T06:58:20.810Z"
   },
   {
    "duration": 4,
    "start_time": "2024-07-18T06:58:24.696Z"
   },
   {
    "duration": 12,
    "start_time": "2024-07-18T06:58:25.735Z"
   },
   {
    "duration": 14,
    "start_time": "2024-07-18T06:58:27.782Z"
   },
   {
    "duration": 14,
    "start_time": "2024-07-18T06:58:31.519Z"
   },
   {
    "duration": 19,
    "start_time": "2024-07-18T06:58:32.935Z"
   },
   {
    "duration": 15,
    "start_time": "2024-07-18T06:58:34.465Z"
   },
   {
    "duration": 17,
    "start_time": "2024-07-18T06:58:35.505Z"
   },
   {
    "duration": 8,
    "start_time": "2024-07-18T06:58:36.398Z"
   },
   {
    "duration": 399,
    "start_time": "2024-07-18T06:58:37.392Z"
   },
   {
    "duration": 12,
    "start_time": "2024-07-18T07:12:07.980Z"
   },
   {
    "duration": 6,
    "start_time": "2024-07-18T07:12:08.714Z"
   },
   {
    "duration": 7,
    "start_time": "2024-07-18T07:12:09.263Z"
   },
   {
    "duration": 8,
    "start_time": "2024-07-18T07:12:09.826Z"
   },
   {
    "duration": 7,
    "start_time": "2024-07-18T07:12:10.869Z"
   },
   {
    "duration": 7,
    "start_time": "2024-07-18T07:12:11.477Z"
   },
   {
    "duration": 6,
    "start_time": "2024-07-18T07:12:14.935Z"
   },
   {
    "duration": 15,
    "start_time": "2024-07-18T07:12:15.634Z"
   },
   {
    "duration": 20,
    "start_time": "2024-07-18T07:12:16.578Z"
   },
   {
    "duration": 6,
    "start_time": "2024-07-18T07:12:19.597Z"
   },
   {
    "duration": 15,
    "start_time": "2024-07-18T07:12:22.635Z"
   },
   {
    "duration": 25,
    "start_time": "2024-07-18T07:12:23.373Z"
   },
   {
    "duration": 6,
    "start_time": "2024-07-18T07:12:28.698Z"
   },
   {
    "duration": 294,
    "start_time": "2024-07-18T07:12:29.323Z"
   },
   {
    "duration": 257,
    "start_time": "2024-07-18T07:12:31.845Z"
   },
   {
    "duration": 315,
    "start_time": "2024-07-18T07:12:33.123Z"
   },
   {
    "duration": 394,
    "start_time": "2024-07-18T07:12:34.260Z"
   },
   {
    "duration": 256,
    "start_time": "2024-07-18T07:12:35.505Z"
   },
   {
    "duration": 252,
    "start_time": "2024-07-18T07:12:36.726Z"
   },
   {
    "duration": 5,
    "start_time": "2024-07-18T07:12:38.635Z"
   },
   {
    "duration": 379,
    "start_time": "2024-07-18T07:12:39.452Z"
   },
   {
    "duration": 331,
    "start_time": "2024-07-18T07:12:41.894Z"
   },
   {
    "duration": 374,
    "start_time": "2024-07-18T07:13:10.621Z"
   },
   {
    "duration": 361,
    "start_time": "2024-07-18T07:13:12.958Z"
   },
   {
    "duration": 467,
    "start_time": "2024-07-18T07:13:27.003Z"
   },
   {
    "duration": 370,
    "start_time": "2024-07-18T07:13:28.950Z"
   },
   {
    "duration": 1680,
    "start_time": "2024-07-18T07:13:39.859Z"
   },
   {
    "duration": 25,
    "start_time": "2024-07-18T07:13:51.676Z"
   },
   {
    "duration": 31,
    "start_time": "2024-07-18T07:13:52.471Z"
   },
   {
    "duration": 6,
    "start_time": "2024-07-18T07:13:54.836Z"
   },
   {
    "duration": 5,
    "start_time": "2024-07-18T07:14:00.293Z"
   },
   {
    "duration": 3,
    "start_time": "2024-07-18T07:14:06.651Z"
   },
   {
    "duration": 5,
    "start_time": "2024-07-18T07:14:07.165Z"
   },
   {
    "duration": 5,
    "start_time": "2024-07-18T07:14:10.675Z"
   },
   {
    "duration": 4,
    "start_time": "2024-07-18T07:14:11.208Z"
   },
   {
    "duration": 6,
    "start_time": "2024-07-18T07:14:12.027Z"
   },
   {
    "duration": 5,
    "start_time": "2024-07-18T07:14:13.247Z"
   },
   {
    "duration": 5,
    "start_time": "2024-07-18T07:14:13.595Z"
   },
   {
    "duration": 6,
    "start_time": "2024-07-18T07:14:14.251Z"
   },
   {
    "duration": 5,
    "start_time": "2024-07-18T07:14:15.412Z"
   },
   {
    "duration": 5,
    "start_time": "2024-07-18T07:14:15.925Z"
   },
   {
    "duration": 6,
    "start_time": "2024-07-18T07:14:16.597Z"
   },
   {
    "duration": 11,
    "start_time": "2024-07-18T07:14:26.621Z"
   },
   {
    "duration": 8,
    "start_time": "2024-07-18T07:14:29.196Z"
   },
   {
    "duration": 11,
    "start_time": "2024-07-18T07:14:29.819Z"
   },
   {
    "duration": 8,
    "start_time": "2024-07-18T07:14:31.452Z"
   },
   {
    "duration": 10,
    "start_time": "2024-07-18T07:14:32.051Z"
   },
   {
    "duration": 7,
    "start_time": "2024-07-18T07:14:33.891Z"
   },
   {
    "duration": 11,
    "start_time": "2024-07-18T07:14:34.411Z"
   },
   {
    "duration": 7,
    "start_time": "2024-07-18T07:14:35.806Z"
   },
   {
    "duration": 10,
    "start_time": "2024-07-18T07:14:36.326Z"
   },
   {
    "duration": 1161,
    "start_time": "2024-07-18T17:55:23.218Z"
   },
   {
    "duration": 119,
    "start_time": "2024-07-18T17:55:24.381Z"
   },
   {
    "duration": 12,
    "start_time": "2024-07-18T17:55:24.501Z"
   },
   {
    "duration": 37,
    "start_time": "2024-07-18T17:55:24.515Z"
   },
   {
    "duration": 4,
    "start_time": "2024-07-18T17:55:24.562Z"
   },
   {
    "duration": 32,
    "start_time": "2024-07-18T17:55:24.568Z"
   },
   {
    "duration": 12,
    "start_time": "2024-07-18T17:55:24.601Z"
   },
   {
    "duration": 68,
    "start_time": "2024-07-18T17:55:24.615Z"
   },
   {
    "duration": 15,
    "start_time": "2024-07-18T17:55:24.685Z"
   },
   {
    "duration": 13,
    "start_time": "2024-07-18T17:55:24.701Z"
   },
   {
    "duration": 15,
    "start_time": "2024-07-18T17:55:24.715Z"
   },
   {
    "duration": 9,
    "start_time": "2024-07-18T17:55:24.762Z"
   },
   {
    "duration": 469,
    "start_time": "2024-07-18T17:55:24.773Z"
   },
   {
    "duration": 22,
    "start_time": "2024-07-18T17:55:25.245Z"
   },
   {
    "duration": 5,
    "start_time": "2024-07-18T17:55:25.268Z"
   },
   {
    "duration": 6,
    "start_time": "2024-07-18T17:55:25.275Z"
   },
   {
    "duration": 6,
    "start_time": "2024-07-18T17:55:25.283Z"
   },
   {
    "duration": 5,
    "start_time": "2024-07-18T17:55:25.290Z"
   },
   {
    "duration": 5,
    "start_time": "2024-07-18T17:55:25.297Z"
   },
   {
    "duration": 6,
    "start_time": "2024-07-18T17:55:25.303Z"
   },
   {
    "duration": 59,
    "start_time": "2024-07-18T17:55:25.310Z"
   },
   {
    "duration": 19,
    "start_time": "2024-07-18T17:55:25.370Z"
   },
   {
    "duration": 5,
    "start_time": "2024-07-18T17:55:25.390Z"
   },
   {
    "duration": 27,
    "start_time": "2024-07-18T17:55:25.397Z"
   },
   {
    "duration": 57,
    "start_time": "2024-07-18T17:55:25.426Z"
   },
   {
    "duration": 7,
    "start_time": "2024-07-18T17:55:25.485Z"
   },
   {
    "duration": 307,
    "start_time": "2024-07-18T17:55:25.494Z"
   },
   {
    "duration": 280,
    "start_time": "2024-07-18T17:55:25.803Z"
   },
   {
    "duration": 336,
    "start_time": "2024-07-18T17:55:26.085Z"
   },
   {
    "duration": 291,
    "start_time": "2024-07-18T17:55:26.422Z"
   },
   {
    "duration": 277,
    "start_time": "2024-07-18T17:55:26.714Z"
   },
   {
    "duration": 219,
    "start_time": "2024-07-18T17:55:26.992Z"
   },
   {
    "duration": 4,
    "start_time": "2024-07-18T17:55:27.213Z"
   },
   {
    "duration": 400,
    "start_time": "2024-07-18T17:55:27.219Z"
   },
   {
    "duration": 326,
    "start_time": "2024-07-18T17:55:27.620Z"
   },
   {
    "duration": 381,
    "start_time": "2024-07-18T17:55:27.948Z"
   },
   {
    "duration": 380,
    "start_time": "2024-07-18T17:55:28.331Z"
   },
   {
    "duration": 360,
    "start_time": "2024-07-18T17:55:28.713Z"
   },
   {
    "duration": 423,
    "start_time": "2024-07-18T17:55:29.075Z"
   },
   {
    "duration": 2308,
    "start_time": "2024-07-18T17:55:29.500Z"
   },
   {
    "duration": 28,
    "start_time": "2024-07-18T17:55:31.813Z"
   },
   {
    "duration": 62,
    "start_time": "2024-07-18T17:55:31.843Z"
   },
   {
    "duration": 6,
    "start_time": "2024-07-18T17:55:31.907Z"
   },
   {
    "duration": 27,
    "start_time": "2024-07-18T17:55:31.915Z"
   },
   {
    "duration": 11,
    "start_time": "2024-07-18T17:55:31.944Z"
   },
   {
    "duration": 27,
    "start_time": "2024-07-18T17:55:31.957Z"
   },
   {
    "duration": 16,
    "start_time": "2024-07-18T17:55:31.985Z"
   },
   {
    "duration": 34,
    "start_time": "2024-07-18T17:55:32.004Z"
   },
   {
    "duration": 16,
    "start_time": "2024-07-18T17:55:32.040Z"
   },
   {
    "duration": 9,
    "start_time": "2024-07-18T17:55:32.059Z"
   },
   {
    "duration": 34,
    "start_time": "2024-07-18T17:55:32.070Z"
   },
   {
    "duration": 16,
    "start_time": "2024-07-18T17:55:32.105Z"
   },
   {
    "duration": 14,
    "start_time": "2024-07-18T17:55:32.123Z"
   },
   {
    "duration": 9,
    "start_time": "2024-07-18T17:55:32.139Z"
   },
   {
    "duration": 7,
    "start_time": "2024-07-18T17:55:32.149Z"
   },
   {
    "duration": 34,
    "start_time": "2024-07-18T17:55:32.161Z"
   },
   {
    "duration": 8,
    "start_time": "2024-07-18T17:55:32.197Z"
   },
   {
    "duration": 11,
    "start_time": "2024-07-18T17:55:32.206Z"
   },
   {
    "duration": 7,
    "start_time": "2024-07-18T17:55:32.219Z"
   },
   {
    "duration": 18,
    "start_time": "2024-07-18T17:55:32.228Z"
   },
   {
    "duration": 16,
    "start_time": "2024-07-18T17:55:32.247Z"
   },
   {
    "duration": 12,
    "start_time": "2024-07-18T17:55:32.265Z"
   },
   {
    "duration": 8,
    "start_time": "2024-07-18T17:55:32.280Z"
   },
   {
    "duration": 10,
    "start_time": "2024-07-18T17:55:32.291Z"
   }
  ],
  "kernelspec": {
   "display_name": "Python 3 (ipykernel)",
   "language": "python",
   "name": "python3"
  },
  "language_info": {
   "codemirror_mode": {
    "name": "ipython",
    "version": 3
   },
   "file_extension": ".py",
   "mimetype": "text/x-python",
   "name": "python",
   "nbconvert_exporter": "python",
   "pygments_lexer": "ipython3",
   "version": "3.11.7"
  },
  "toc": {
   "base_numbering": 1,
   "nav_menu": {},
   "number_sections": true,
   "sideBar": true,
   "skip_h1_title": true,
   "title_cell": "Содержание",
   "title_sidebar": "",
   "toc_cell": true,
   "toc_position": {
    "height": "calc(100% - 180px)",
    "left": "10px",
    "top": "150px",
    "width": "423px"
   },
   "toc_section_display": true,
   "toc_window_display": true
  }
 },
 "nbformat": 4,
 "nbformat_minor": 4
}
